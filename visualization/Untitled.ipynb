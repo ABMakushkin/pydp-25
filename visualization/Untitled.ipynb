{
 "cells": [
  {
   "cell_type": "code",
   "execution_count": 11,
   "id": "c7a7ecfb",
   "metadata": {},
   "outputs": [
    {
     "name": "stdout",
     "output_type": "stream",
     "text": [
      "170.79\n",
      "171.0\n",
      "163\n",
      "17.5\n",
      "63    250\n",
      "71     67\n",
      "dtype: int64\n"
     ]
    }
   ],
   "source": [
    "import pandas as pd\n",
    "\n",
    "\n",
    "height = [154, 185, 170, 184, 175, 180, 187, 164, 178, 185, \n",
    "          157, 179, 183, 159, 178, 189, 172, 167, 163, 166,\n",
    "          156, 165, 181, 164, 171, 185, 171, 168, 161, 184,\n",
    "          178, 161, 184, 150, 168, 187, 175, 175, 174, 154,\n",
    "          180, 164, 163, 163, 165, 185, 161, 166, 163, 171,\n",
    "          163, 184, 160, 161, 155, 185, 152, 169, 178, 154,\n",
    "          188, 158, 177, 250, 190, 189, 163, 168, 158, 182,\n",
    "          165, 67, 166, 167, 188, 185, 182, 172, 162, 156,\n",
    "          175, 184, 171, 174, 153, 154, 151, 176, 179, 161,\n",
    "          175, 154, 167, 180, 186, 174, 188, 176, 160, 179]\n",
    "\n",
    "\n",
    "h = pd.Series(height)\n",
    "\n",
    "\n",
    "mean = h.mean()\n",
    "median = h.median()\n",
    "mode = h.mode()[0]\n",
    "iqr = h.quantile(0.75) - h.quantile(0.25)\n",
    "lower_bound = h.quantile(0.25) - iqr\n",
    "upper_bound = h.quantile(0.75) + iqr\n",
    "outliers = h[~h.between(lower_bound, upper_bound, inclusive=True)]\n",
    "\n",
    "\n",
    "print(mean, median, mode, iqr, outliers, sep='\\n')"
   ]
  },
  {
   "cell_type": "code",
   "execution_count": 12,
   "id": "e8d96188",
   "metadata": {},
   "outputs": [
    {
     "data": {
      "text/plain": [
       "63    250\n",
       "71     67\n",
       "dtype: int64"
      ]
     },
     "execution_count": 12,
     "metadata": {},
     "output_type": "execute_result"
    }
   ],
   "source": [
    "outliers"
   ]
  },
  {
   "cell_type": "code",
   "execution_count": null,
   "id": "94c17f03",
   "metadata": {},
   "outputs": [],
   "source": [
    "mean = cl.mean()\n",
    "median = cl.median()\n",
    "mode = cl.mode()[0]\n",
    "iqr = cl.quantile(0.75) - cl.quantile(0.25)\n",
    "lower_bound = cl.quantile(0.25) - iqr\n",
    "upper_bound = cl.quantile(0.75) + iqr\n",
    "outliers = [x for x in cl if x < lower_bound or x > upper_bound]\n"
   ]
  }
 ],
 "metadata": {
  "kernelspec": {
   "display_name": "Python 3",
   "language": "python",
   "name": "python3"
  },
  "language_info": {
   "codemirror_mode": {
    "name": "ipython",
    "version": 3
   },
   "file_extension": ".py",
   "mimetype": "text/x-python",
   "name": "python",
   "nbconvert_exporter": "python",
   "pygments_lexer": "ipython3",
   "version": "3.8.8"
  }
 },
 "nbformat": 4,
 "nbformat_minor": 5
}
