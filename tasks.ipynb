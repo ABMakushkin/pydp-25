{
 "cells": [
  {
   "cell_type": "code",
   "execution_count": 4,
   "id": "7a1c567a",
   "metadata": {},
   "outputs": [
    {
     "data": {
      "text/plain": [
       "[8, 13, 21, 34, 55, 89]"
      ]
     },
     "execution_count": 4,
     "metadata": {},
     "output_type": "execute_result"
    }
   ],
   "source": [
    "# Есть список a = [1, 1, 2, 3, 5, 8, 13, 21, 34, 55, 89]\n",
    "# Выведите все элементы, которые меньше 5.\n",
    "\n",
    "a = [1, 1, 2, 3, 5, 8, 13, 21, 34, 55, 89]\n",
    "[x for x in a if x > 5]"
   ]
  },
  {
   "cell_type": "code",
   "execution_count": 10,
   "id": "6a1b9540",
   "metadata": {},
   "outputs": [
    {
     "data": {
      "text/plain": [
       "[1, 2, 3, 5, 8, 13]"
      ]
     },
     "execution_count": 10,
     "metadata": {},
     "output_type": "execute_result"
    }
   ],
   "source": [
    "# Даны списки:\n",
    "# a = [1, 1, 2, 3, 5, 8, 13, 21, 34, 55, 89];\n",
    "# b = [1, 2, 3, 4, 5, 6, 7, 8, 9, 10, 11, 12, 13].\n",
    "# Нужно вернуть список, который состоит из элементов, общих для этих двух списков.\n",
    "\n",
    "a = [1, 1, 2, 3, 5, 8, 13, 21, 34, 55, 89]\n",
    "b = [1, 2, 3, 4, 5, 6, 7, 8, 9, 10, 11, 12, 13]\n",
    "\n",
    "list(set(a).intersection(b))"
   ]
  },
  {
   "cell_type": "code",
   "execution_count": null,
   "id": "0fdf0272",
   "metadata": {},
   "outputs": [],
   "source": []
  },
  {
   "cell_type": "code",
   "execution_count": null,
   "id": "67c5b25e",
   "metadata": {},
   "outputs": [],
   "source": []
  },
  {
   "cell_type": "code",
   "execution_count": null,
   "id": "b3d88ac3",
   "metadata": {},
   "outputs": [],
   "source": []
  },
  {
   "cell_type": "code",
   "execution_count": null,
   "id": "9c25caf8",
   "metadata": {},
   "outputs": [],
   "source": []
  },
  {
   "cell_type": "code",
   "execution_count": null,
   "id": "b80e74d4",
   "metadata": {},
   "outputs": [],
   "source": []
  },
  {
   "cell_type": "code",
   "execution_count": null,
   "id": "ba28f40d",
   "metadata": {},
   "outputs": [],
   "source": []
  },
  {
   "cell_type": "code",
   "execution_count": null,
   "id": "c381220e",
   "metadata": {},
   "outputs": [],
   "source": []
  },
  {
   "cell_type": "code",
   "execution_count": null,
   "id": "41e000d2",
   "metadata": {},
   "outputs": [],
   "source": []
  },
  {
   "cell_type": "markdown",
   "id": "479a9f7f",
   "metadata": {},
   "source": [
    "https://tproger.ru/problems/python-3-exercises-for-beginners-geekbrains/\n",
    "\n",
    "\n",
    "Задачи по Python для начинающих от Tproger и GeekBrains\n",
    "Партнёрский материал. Что это?\n",
    "72\n",
    "\n",
    "167\n",
    "\n",
    "Вместе с факультетом Python-разработки GeekUniversity собрали для вас несколько простых задач по Python для обучения и тренировки. Их можно решать в любом порядке.\n",
    "\n",
    "Обратите внимание, что у любой задачи по программированию может быть несколько способов решения. Чтобы посмотреть добавленный нами вариант решения, кликните по соответствующей кнопке. Все приведённые варианты написаны на Python 3.\n",
    "\n",
    "***\n",
    "\n",
    "Задача 1\n",
    "\n",
    "\n",
    "Вариант решения\n",
    "\n",
    "\n",
    "\n",
    "\n",
    "Задача 2\n",
    "Даны списки:\n",
    "\n",
    "a = [1, 1, 2, 3, 5, 8, 13, 21, 34, 55, 89];\n",
    "\n",
    "b = [1, 2, 3, 4, 5, 6, 7, 8, 9, 10, 11, 12, 13].\n",
    "\n",
    "Нужно вернуть список, который состоит из элементов, общих для этих двух списков.\n",
    "\n",
    "Вариант решения\n",
    "\n",
    "\n",
    "\n",
    "\n",
    "\n",
    "\n",
    "Python RegEx: практическое применение регулярок\n",
    "tproger.ru\n",
    "\n",
    "Задача 3\n",
    "Отсортируйте словарь по значению в порядке возрастания и убывания.\n",
    "\n",
    "Вариант решения\n",
    "\n",
    "\n",
    "\n",
    "Задача 4\n",
    "Напишите программу для слияния нескольких словарей в один.\n",
    "\n",
    "Вариант решения\n",
    "\n",
    "\n",
    "\n",
    "\n",
    "\n",
    "Задача 5\n",
    "Найдите три ключа с самыми высокими значениями в словаре my_dict = {'a':500, 'b':5874, 'c': 560,'d':400, 'e':5874, 'f': 20}.\n",
    "\n",
    "Вариант решения\n",
    "\n",
    "\n",
    "\n",
    "Задача 6\n",
    "Напишите код, который переводит целое число в строку, при том что его можно применить в любой системе счисления.\n",
    "\n",
    "Вариант решения\n",
    "\n",
    "\n",
    "Задача 7\n",
    "Нужно вывести первые n строк треугольника Паскаля. В этом треугольнике на вершине и по бокам стоят единицы, а каждое число внутри равно сумме двух расположенных над ним чисел.\n",
    "\n",
    "Вариант решения\n",
    "Задача 8\n",
    "Напишите проверку на то, является ли строка палиндромом. Палиндром — это слово или фраза, которые одинаково читаются слева направо и справа налево.\n",
    "\n",
    "Вариант решения\n",
    "\n",
    "\n",
    "Задача 9\n",
    "Сделайте так, чтобы число секунд отображалось в виде дни:часы:минуты:секунды.\n",
    "\n",
    "Вариант решения\n",
    "Задача 10\n",
    "Вы принимаете от пользователя последовательность чисел, разделённых запятой. Составьте список и кортеж с этими числами.\n",
    "\n",
    "Вариант решения\n",
    "Задача 11\n",
    "Выведите первый и последний элемент списка.\n",
    "\n",
    "Вариант решения\n",
    "Задача 12\n",
    "Напишите программу, которая принимает имя файла и выводит его расширение. Если расширение у файла определить невозможно, выбросите исключение.\n",
    "\n",
    "Вариант решения\n",
    "Задача 13\n",
    "При заданном целом числе n посчитайте n + nn + nnn.\n",
    "\n",
    "Вариант решения\n",
    "Задача 14\n",
    "Напишите программу, которая выводит чётные числа из заданного списка и останавливается, если встречает число 237.\n",
    "\n",
    "Вариант решения\n",
    "Задача 15\n",
    "Напишите программу, которая принимает два списка и выводит все элементы первого, которых нет во втором.\n",
    "\n",
    "Вариант решения\n",
    "Задача 16\n",
    "Выведите список файлов в указанной директории.\n",
    "\n",
    "Вариант решения\n",
    "Задача 17\n",
    "Сложите цифры целого числа.\n",
    "\n",
    "Вариант решения\n",
    "Разработка на Python с нуля: роадмап программиста\n",
    "tproger.ru\n",
    "\n",
    "Задача 18\n",
    "Посчитайте, сколько раз символ встречается в строке.\n",
    "\n",
    "Вариант решения\n",
    "Задача 19\n",
    "Поменяйте значения переменных местами.\n",
    "\n",
    "Вариант решения\n",
    "\n",
    "\n",
    "Задача 20\n",
    "С помощью анонимной функции извлеките из списка числа, делимые на 15.\n",
    "\n",
    "Вариант решения\n",
    "Задача 21\n",
    "Нужно проверить, все ли числа в последовательности уникальны.\n",
    "\n",
    "Вариант решения\n",
    "Задача 22\n",
    "Напишите программу, которая принимает текст и выводит два слова: наиболее часто встречающееся и самое длинное.\n",
    "\n",
    "Вариант решения"
   ]
  },
  {
   "cell_type": "code",
   "execution_count": null,
   "id": "dca41d2c",
   "metadata": {},
   "outputs": [],
   "source": []
  },
  {
   "cell_type": "code",
   "execution_count": null,
   "id": "ba4b6097",
   "metadata": {},
   "outputs": [],
   "source": []
  },
  {
   "cell_type": "code",
   "execution_count": null,
   "id": "2d489cc3",
   "metadata": {},
   "outputs": [],
   "source": []
  },
  {
   "cell_type": "code",
   "execution_count": null,
   "id": "2637b22d",
   "metadata": {},
   "outputs": [],
   "source": []
  },
  {
   "cell_type": "code",
   "execution_count": null,
   "id": "30696d90",
   "metadata": {},
   "outputs": [],
   "source": []
  },
  {
   "cell_type": "code",
   "execution_count": null,
   "id": "389396b6",
   "metadata": {},
   "outputs": [],
   "source": []
  },
  {
   "cell_type": "code",
   "execution_count": null,
   "id": "f4adc0dd",
   "metadata": {},
   "outputs": [],
   "source": []
  },
  {
   "cell_type": "code",
   "execution_count": null,
   "id": "27d67e27",
   "metadata": {},
   "outputs": [],
   "source": []
  },
  {
   "cell_type": "code",
   "execution_count": null,
   "id": "45230717",
   "metadata": {},
   "outputs": [],
   "source": []
  },
  {
   "cell_type": "code",
   "execution_count": null,
   "id": "128e4973",
   "metadata": {},
   "outputs": [],
   "source": []
  },
  {
   "cell_type": "code",
   "execution_count": null,
   "id": "92feee5e",
   "metadata": {},
   "outputs": [],
   "source": []
  },
  {
   "cell_type": "code",
   "execution_count": null,
   "id": "42b1662d",
   "metadata": {},
   "outputs": [],
   "source": []
  },
  {
   "cell_type": "code",
   "execution_count": null,
   "id": "8856cc46",
   "metadata": {},
   "outputs": [],
   "source": []
  },
  {
   "cell_type": "code",
   "execution_count": null,
   "id": "254090f1",
   "metadata": {},
   "outputs": [],
   "source": []
  },
  {
   "cell_type": "code",
   "execution_count": null,
   "id": "e18bf02d",
   "metadata": {},
   "outputs": [],
   "source": []
  },
  {
   "cell_type": "code",
   "execution_count": null,
   "id": "ef90eca0",
   "metadata": {},
   "outputs": [],
   "source": []
  },
  {
   "cell_type": "code",
   "execution_count": null,
   "id": "bd8c6311",
   "metadata": {},
   "outputs": [],
   "source": []
  },
  {
   "cell_type": "code",
   "execution_count": null,
   "id": "29462fd9",
   "metadata": {},
   "outputs": [],
   "source": []
  },
  {
   "cell_type": "code",
   "execution_count": null,
   "id": "bb7b2510",
   "metadata": {},
   "outputs": [],
   "source": []
  },
  {
   "cell_type": "code",
   "execution_count": null,
   "id": "eb4ab9f7",
   "metadata": {},
   "outputs": [],
   "source": []
  },
  {
   "cell_type": "code",
   "execution_count": null,
   "id": "bb2b0c96",
   "metadata": {},
   "outputs": [],
   "source": []
  }
 ],
 "metadata": {
  "kernelspec": {
   "display_name": "Python 3",
   "language": "python",
   "name": "python3"
  },
  "language_info": {
   "codemirror_mode": {
    "name": "ipython",
    "version": 3
   },
   "file_extension": ".py",
   "mimetype": "text/x-python",
   "name": "python",
   "nbconvert_exporter": "python",
   "pygments_lexer": "ipython3",
   "version": "3.8.8"
  }
 },
 "nbformat": 4,
 "nbformat_minor": 5
}
