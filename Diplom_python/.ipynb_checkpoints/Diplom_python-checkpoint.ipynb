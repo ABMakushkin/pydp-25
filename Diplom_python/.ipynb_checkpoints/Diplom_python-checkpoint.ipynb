{
 "cells": [
  {
   "cell_type": "markdown",
   "id": "d2e81c73",
   "metadata": {},
   "source": [
    "# Дипломная работа по курсу Python"
   ]
  },
  {
   "cell_type": "markdown",
   "id": "e37266e2",
   "metadata": {},
   "source": [
    "Дан файл HR.csv с данными по опросу уровня удовлетворенности сотрудниками работой.\n",
    "Файл доступен тут -\n",
    "https://drive.google.com/file/d/1INgo03nal-vwFJe7Lec5vOUtOwfJdUr1/view?usp=sharing\n",
    "Признаки:\n",
    "1. satisfaction_level - Уровень удовлетворенности работой\n",
    "2. Last_evaluation - Время с момента последней оценки в годах\n",
    "3. number_projects - Количество проектов, выполненных за время работы\n",
    "4. average_monthly_hours - Среднее количество часов на рабочем месте в месяц\n",
    "5. time_spend_company - Стаж работы в компании в годах\n",
    "6. work_accident - Происходили ли несчастные случаи на рабочем месте с сотрудником\n",
    "7. left - уволился ли сотрудник\n",
    "8. promotion_last_5years - повышался ли сотрудник за последние пять лет\n",
    "9. department - отдел в котором работает сотрудник\n",
    "10. salary - относительный уровень зарплаты\n",
    "\n",
    "Требуется выполнить следующие задания:\n"
   ]
  },
  {
   "cell_type": "markdown",
   "id": "18191d57",
   "metadata": {},
   "source": [
    "### Задание 1. \n",
    "Загрузите файл HR.csv в pandas dataframe"
   ]
  },
  {
   "cell_type": "code",
   "execution_count": 49,
   "id": "9edeedae",
   "metadata": {},
   "outputs": [],
   "source": [
    "import pandas as pd\n",
    "import numpy as np\n",
    "import matplotlib.pyplot as plt\n",
    "import seaborn as sns\n",
    "from sklearn.discriminant_analysis import LinearDiscriminantAnalysis\n",
    "from sklearn.model_selection import train_test_split\n",
    "from sklearn.metrics import accuracy_score\n",
    "from scipy import stats"
   ]
  },
  {
   "cell_type": "code",
   "execution_count": 2,
   "id": "f5389567",
   "metadata": {},
   "outputs": [],
   "source": [
    "url = 'https://drive.google.com/file/d/1INgo03nal-vwFJe7Lec5vOUtOwfJdUr1/view?usp=sharing'\n",
    "url='https://drive.google.com/uc?id=' + url.split('/')[-2]\n",
    "hr = pd.read_csv(url)"
   ]
  },
  {
   "cell_type": "code",
   "execution_count": 3,
   "id": "19c8360f",
   "metadata": {},
   "outputs": [
    {
     "data": {
      "text/html": [
       "<div>\n",
       "<style scoped>\n",
       "    .dataframe tbody tr th:only-of-type {\n",
       "        vertical-align: middle;\n",
       "    }\n",
       "\n",
       "    .dataframe tbody tr th {\n",
       "        vertical-align: top;\n",
       "    }\n",
       "\n",
       "    .dataframe thead th {\n",
       "        text-align: right;\n",
       "    }\n",
       "</style>\n",
       "<table border=\"1\" class=\"dataframe\">\n",
       "  <thead>\n",
       "    <tr style=\"text-align: right;\">\n",
       "      <th></th>\n",
       "      <th>satisfaction_level</th>\n",
       "      <th>last_evaluation</th>\n",
       "      <th>number_project</th>\n",
       "      <th>average_montly_hours</th>\n",
       "      <th>time_spend_company</th>\n",
       "      <th>Work_accident</th>\n",
       "      <th>left</th>\n",
       "      <th>promotion_last_5years</th>\n",
       "      <th>department</th>\n",
       "      <th>salary</th>\n",
       "    </tr>\n",
       "  </thead>\n",
       "  <tbody>\n",
       "    <tr>\n",
       "      <th>0</th>\n",
       "      <td>0.38</td>\n",
       "      <td>0.53</td>\n",
       "      <td>2</td>\n",
       "      <td>157</td>\n",
       "      <td>3</td>\n",
       "      <td>0</td>\n",
       "      <td>1</td>\n",
       "      <td>0</td>\n",
       "      <td>sales</td>\n",
       "      <td>low</td>\n",
       "    </tr>\n",
       "    <tr>\n",
       "      <th>1</th>\n",
       "      <td>0.80</td>\n",
       "      <td>0.86</td>\n",
       "      <td>5</td>\n",
       "      <td>262</td>\n",
       "      <td>6</td>\n",
       "      <td>0</td>\n",
       "      <td>1</td>\n",
       "      <td>0</td>\n",
       "      <td>sales</td>\n",
       "      <td>medium</td>\n",
       "    </tr>\n",
       "    <tr>\n",
       "      <th>2</th>\n",
       "      <td>0.11</td>\n",
       "      <td>0.88</td>\n",
       "      <td>7</td>\n",
       "      <td>272</td>\n",
       "      <td>4</td>\n",
       "      <td>0</td>\n",
       "      <td>1</td>\n",
       "      <td>0</td>\n",
       "      <td>sales</td>\n",
       "      <td>medium</td>\n",
       "    </tr>\n",
       "    <tr>\n",
       "      <th>3</th>\n",
       "      <td>0.72</td>\n",
       "      <td>0.87</td>\n",
       "      <td>5</td>\n",
       "      <td>223</td>\n",
       "      <td>5</td>\n",
       "      <td>0</td>\n",
       "      <td>1</td>\n",
       "      <td>0</td>\n",
       "      <td>sales</td>\n",
       "      <td>low</td>\n",
       "    </tr>\n",
       "    <tr>\n",
       "      <th>4</th>\n",
       "      <td>0.37</td>\n",
       "      <td>0.52</td>\n",
       "      <td>2</td>\n",
       "      <td>159</td>\n",
       "      <td>3</td>\n",
       "      <td>0</td>\n",
       "      <td>1</td>\n",
       "      <td>0</td>\n",
       "      <td>sales</td>\n",
       "      <td>low</td>\n",
       "    </tr>\n",
       "    <tr>\n",
       "      <th>...</th>\n",
       "      <td>...</td>\n",
       "      <td>...</td>\n",
       "      <td>...</td>\n",
       "      <td>...</td>\n",
       "      <td>...</td>\n",
       "      <td>...</td>\n",
       "      <td>...</td>\n",
       "      <td>...</td>\n",
       "      <td>...</td>\n",
       "      <td>...</td>\n",
       "    </tr>\n",
       "    <tr>\n",
       "      <th>14994</th>\n",
       "      <td>0.40</td>\n",
       "      <td>0.57</td>\n",
       "      <td>2</td>\n",
       "      <td>151</td>\n",
       "      <td>3</td>\n",
       "      <td>0</td>\n",
       "      <td>1</td>\n",
       "      <td>0</td>\n",
       "      <td>support</td>\n",
       "      <td>low</td>\n",
       "    </tr>\n",
       "    <tr>\n",
       "      <th>14995</th>\n",
       "      <td>0.37</td>\n",
       "      <td>0.48</td>\n",
       "      <td>2</td>\n",
       "      <td>160</td>\n",
       "      <td>3</td>\n",
       "      <td>0</td>\n",
       "      <td>1</td>\n",
       "      <td>0</td>\n",
       "      <td>support</td>\n",
       "      <td>low</td>\n",
       "    </tr>\n",
       "    <tr>\n",
       "      <th>14996</th>\n",
       "      <td>0.37</td>\n",
       "      <td>0.53</td>\n",
       "      <td>2</td>\n",
       "      <td>143</td>\n",
       "      <td>3</td>\n",
       "      <td>0</td>\n",
       "      <td>1</td>\n",
       "      <td>0</td>\n",
       "      <td>support</td>\n",
       "      <td>low</td>\n",
       "    </tr>\n",
       "    <tr>\n",
       "      <th>14997</th>\n",
       "      <td>0.11</td>\n",
       "      <td>0.96</td>\n",
       "      <td>6</td>\n",
       "      <td>280</td>\n",
       "      <td>4</td>\n",
       "      <td>0</td>\n",
       "      <td>1</td>\n",
       "      <td>0</td>\n",
       "      <td>support</td>\n",
       "      <td>low</td>\n",
       "    </tr>\n",
       "    <tr>\n",
       "      <th>14998</th>\n",
       "      <td>0.37</td>\n",
       "      <td>0.52</td>\n",
       "      <td>2</td>\n",
       "      <td>158</td>\n",
       "      <td>3</td>\n",
       "      <td>0</td>\n",
       "      <td>1</td>\n",
       "      <td>0</td>\n",
       "      <td>support</td>\n",
       "      <td>low</td>\n",
       "    </tr>\n",
       "  </tbody>\n",
       "</table>\n",
       "<p>14999 rows × 10 columns</p>\n",
       "</div>"
      ],
      "text/plain": [
       "       satisfaction_level  last_evaluation  number_project  \\\n",
       "0                    0.38             0.53               2   \n",
       "1                    0.80             0.86               5   \n",
       "2                    0.11             0.88               7   \n",
       "3                    0.72             0.87               5   \n",
       "4                    0.37             0.52               2   \n",
       "...                   ...              ...             ...   \n",
       "14994                0.40             0.57               2   \n",
       "14995                0.37             0.48               2   \n",
       "14996                0.37             0.53               2   \n",
       "14997                0.11             0.96               6   \n",
       "14998                0.37             0.52               2   \n",
       "\n",
       "       average_montly_hours  time_spend_company  Work_accident  left  \\\n",
       "0                       157                   3              0     1   \n",
       "1                       262                   6              0     1   \n",
       "2                       272                   4              0     1   \n",
       "3                       223                   5              0     1   \n",
       "4                       159                   3              0     1   \n",
       "...                     ...                 ...            ...   ...   \n",
       "14994                   151                   3              0     1   \n",
       "14995                   160                   3              0     1   \n",
       "14996                   143                   3              0     1   \n",
       "14997                   280                   4              0     1   \n",
       "14998                   158                   3              0     1   \n",
       "\n",
       "       promotion_last_5years department  salary  \n",
       "0                          0      sales     low  \n",
       "1                          0      sales  medium  \n",
       "2                          0      sales  medium  \n",
       "3                          0      sales     low  \n",
       "4                          0      sales     low  \n",
       "...                      ...        ...     ...  \n",
       "14994                      0    support     low  \n",
       "14995                      0    support     low  \n",
       "14996                      0    support     low  \n",
       "14997                      0    support     low  \n",
       "14998                      0    support     low  \n",
       "\n",
       "[14999 rows x 10 columns]"
      ]
     },
     "execution_count": 3,
     "metadata": {},
     "output_type": "execute_result"
    }
   ],
   "source": [
    "hr"
   ]
  },
  {
   "cell_type": "code",
   "execution_count": 4,
   "id": "45f7a931",
   "metadata": {},
   "outputs": [
    {
     "data": {
      "text/plain": [
       "satisfaction_level       0\n",
       "last_evaluation          0\n",
       "number_project           0\n",
       "average_montly_hours     0\n",
       "time_spend_company       0\n",
       "Work_accident            0\n",
       "left                     0\n",
       "promotion_last_5years    0\n",
       "department               0\n",
       "salary                   0\n",
       "dtype: int64"
      ]
     },
     "execution_count": 4,
     "metadata": {},
     "output_type": "execute_result"
    }
   ],
   "source": [
    "hr.isna().sum()"
   ]
  },
  {
   "cell_type": "markdown",
   "id": "8d2e33c6",
   "metadata": {},
   "source": [
    "Датафрейм не содержит пропусков"
   ]
  },
  {
   "cell_type": "markdown",
   "id": "897bb542",
   "metadata": {},
   "source": [
    "Количественные атрибуты:\n",
    "1. satisfaction_level - Уровень удовлетворенности работой\n",
    "2. Last_evaluation - Время с момента последней оценки в годах\n",
    "3. number_projects - Количество проектов, выполненных за время работы\n",
    "4. average_monthly_hours - Среднее количество часов на рабочем месте в месяц\n",
    "5. time_spend_company - Стаж работы в компании в годах\n",
    "\n",
    "Категориальные атрибуты с бинарной логикой (0-нет, 1-да):\\\n",
    "6. work_accident - Происходили ли несчастные случаи на рабочем месте с сотрудником\\\n",
    "7. left - уволился ли сотрудник\\\n",
    "8. promotion_last_5years - повышался ли сотрудник за последние пять лет\\\n",
    "\n",
    "Категориальные атрибуты с выделенными категорями\\\n",
    "9. department - отдел в котором работает сотрудник\\\n",
    "10. salary - относительный уровень зарплаты\\"
   ]
  },
  {
   "cell_type": "markdown",
   "id": "a79ce2d7",
   "metadata": {},
   "source": [
    "### Задание 2 \n",
    "Рассчитайте основные статистики для переменных (среднее,медиана,мода,мин/макс,сред.отклонение).\n"
   ]
  },
  {
   "cell_type": "markdown",
   "id": "8acc6694",
   "metadata": {},
   "source": [
    "Поскольку основные статистики актуальны только для количественных атрибутов, выберем их"
   ]
  },
  {
   "cell_type": "code",
   "execution_count": 5,
   "id": "af9a5965",
   "metadata": {},
   "outputs": [
    {
     "data": {
      "text/html": [
       "<div>\n",
       "<style scoped>\n",
       "    .dataframe tbody tr th:only-of-type {\n",
       "        vertical-align: middle;\n",
       "    }\n",
       "\n",
       "    .dataframe tbody tr th {\n",
       "        vertical-align: top;\n",
       "    }\n",
       "\n",
       "    .dataframe thead th {\n",
       "        text-align: right;\n",
       "    }\n",
       "</style>\n",
       "<table border=\"1\" class=\"dataframe\">\n",
       "  <thead>\n",
       "    <tr style=\"text-align: right;\">\n",
       "      <th></th>\n",
       "      <th>satisfaction_level</th>\n",
       "      <th>last_evaluation</th>\n",
       "      <th>number_project</th>\n",
       "      <th>average_montly_hours</th>\n",
       "      <th>time_spend_company</th>\n",
       "    </tr>\n",
       "  </thead>\n",
       "  <tbody>\n",
       "    <tr>\n",
       "      <th>count</th>\n",
       "      <td>14999.000000</td>\n",
       "      <td>14999.000000</td>\n",
       "      <td>14999.000000</td>\n",
       "      <td>14999.000000</td>\n",
       "      <td>14999.000000</td>\n",
       "    </tr>\n",
       "    <tr>\n",
       "      <th>mean</th>\n",
       "      <td>0.612834</td>\n",
       "      <td>0.716102</td>\n",
       "      <td>3.803054</td>\n",
       "      <td>201.050337</td>\n",
       "      <td>3.498233</td>\n",
       "    </tr>\n",
       "    <tr>\n",
       "      <th>std</th>\n",
       "      <td>0.248631</td>\n",
       "      <td>0.171169</td>\n",
       "      <td>1.232592</td>\n",
       "      <td>49.943099</td>\n",
       "      <td>1.460136</td>\n",
       "    </tr>\n",
       "    <tr>\n",
       "      <th>min</th>\n",
       "      <td>0.090000</td>\n",
       "      <td>0.360000</td>\n",
       "      <td>2.000000</td>\n",
       "      <td>96.000000</td>\n",
       "      <td>2.000000</td>\n",
       "    </tr>\n",
       "    <tr>\n",
       "      <th>25%</th>\n",
       "      <td>0.440000</td>\n",
       "      <td>0.560000</td>\n",
       "      <td>3.000000</td>\n",
       "      <td>156.000000</td>\n",
       "      <td>3.000000</td>\n",
       "    </tr>\n",
       "    <tr>\n",
       "      <th>50%</th>\n",
       "      <td>0.640000</td>\n",
       "      <td>0.720000</td>\n",
       "      <td>4.000000</td>\n",
       "      <td>200.000000</td>\n",
       "      <td>3.000000</td>\n",
       "    </tr>\n",
       "    <tr>\n",
       "      <th>75%</th>\n",
       "      <td>0.820000</td>\n",
       "      <td>0.870000</td>\n",
       "      <td>5.000000</td>\n",
       "      <td>245.000000</td>\n",
       "      <td>4.000000</td>\n",
       "    </tr>\n",
       "    <tr>\n",
       "      <th>max</th>\n",
       "      <td>1.000000</td>\n",
       "      <td>1.000000</td>\n",
       "      <td>7.000000</td>\n",
       "      <td>310.000000</td>\n",
       "      <td>10.000000</td>\n",
       "    </tr>\n",
       "  </tbody>\n",
       "</table>\n",
       "</div>"
      ],
      "text/plain": [
       "       satisfaction_level  last_evaluation  number_project  \\\n",
       "count        14999.000000     14999.000000    14999.000000   \n",
       "mean             0.612834         0.716102        3.803054   \n",
       "std              0.248631         0.171169        1.232592   \n",
       "min              0.090000         0.360000        2.000000   \n",
       "25%              0.440000         0.560000        3.000000   \n",
       "50%              0.640000         0.720000        4.000000   \n",
       "75%              0.820000         0.870000        5.000000   \n",
       "max              1.000000         1.000000        7.000000   \n",
       "\n",
       "       average_montly_hours  time_spend_company  \n",
       "count          14999.000000        14999.000000  \n",
       "mean             201.050337            3.498233  \n",
       "std               49.943099            1.460136  \n",
       "min               96.000000            2.000000  \n",
       "25%              156.000000            3.000000  \n",
       "50%              200.000000            3.000000  \n",
       "75%              245.000000            4.000000  \n",
       "max              310.000000           10.000000  "
      ]
     },
     "execution_count": 5,
     "metadata": {},
     "output_type": "execute_result"
    }
   ],
   "source": [
    "hr[['satisfaction_level', 'last_evaluation', 'number_project', 'average_montly_hours', 'time_spend_company']].describe()"
   ]
  },
  {
   "cell_type": "markdown",
   "id": "915fff13",
   "metadata": {},
   "source": [
    "*медиана равна 50 процентилю"
   ]
  },
  {
   "cell_type": "markdown",
   "id": "5e3977cc",
   "metadata": {},
   "source": [
    "Поскольку мода актуальна и для категориальных атрибутов, рассчитаем моду для всего датафрейма"
   ]
  },
  {
   "cell_type": "code",
   "execution_count": 6,
   "id": "331af1b0",
   "metadata": {},
   "outputs": [
    {
     "data": {
      "text/plain": [
       "satisfaction_level         0.1\n",
       "last_evaluation           0.55\n",
       "number_project             4.0\n",
       "average_montly_hours       135\n",
       "time_spend_company         3.0\n",
       "Work_accident              0.0\n",
       "left                       0.0\n",
       "promotion_last_5years      0.0\n",
       "department               sales\n",
       "salary                     low\n",
       "Name: 0, dtype: object"
      ]
     },
     "execution_count": 6,
     "metadata": {},
     "output_type": "execute_result"
    }
   ],
   "source": [
    "hr.mode().iloc[0]"
   ]
  },
  {
   "cell_type": "markdown",
   "id": "1248f48f",
   "metadata": {},
   "source": [
    "### Задание 3 \n",
    "Рассчитайте и визуализировать корреляционную матрицу для\n",
    "количественных переменных.\n",
    "Определите две самые скоррелированные и две наименее\n",
    "скоррелированные переменные.\n"
   ]
  },
  {
   "cell_type": "markdown",
   "id": "2a6a8be0",
   "metadata": {},
   "source": [
    "Рассчитаем корреляционную матрицу для количественных переменных"
   ]
  },
  {
   "cell_type": "code",
   "execution_count": 16,
   "id": "6f581854",
   "metadata": {},
   "outputs": [
    {
     "data": {
      "text/html": [
       "<div>\n",
       "<style scoped>\n",
       "    .dataframe tbody tr th:only-of-type {\n",
       "        vertical-align: middle;\n",
       "    }\n",
       "\n",
       "    .dataframe tbody tr th {\n",
       "        vertical-align: top;\n",
       "    }\n",
       "\n",
       "    .dataframe thead th {\n",
       "        text-align: right;\n",
       "    }\n",
       "</style>\n",
       "<table border=\"1\" class=\"dataframe\">\n",
       "  <thead>\n",
       "    <tr style=\"text-align: right;\">\n",
       "      <th></th>\n",
       "      <th>satisfaction_level</th>\n",
       "      <th>last_evaluation</th>\n",
       "      <th>number_project</th>\n",
       "      <th>average_montly_hours</th>\n",
       "      <th>time_spend_company</th>\n",
       "    </tr>\n",
       "  </thead>\n",
       "  <tbody>\n",
       "    <tr>\n",
       "      <th>satisfaction_level</th>\n",
       "      <td>1.000000</td>\n",
       "      <td>0.105021</td>\n",
       "      <td>-0.142970</td>\n",
       "      <td>-0.020048</td>\n",
       "      <td>-0.100866</td>\n",
       "    </tr>\n",
       "    <tr>\n",
       "      <th>last_evaluation</th>\n",
       "      <td>0.105021</td>\n",
       "      <td>1.000000</td>\n",
       "      <td>0.349333</td>\n",
       "      <td>0.339742</td>\n",
       "      <td>0.131591</td>\n",
       "    </tr>\n",
       "    <tr>\n",
       "      <th>number_project</th>\n",
       "      <td>-0.142970</td>\n",
       "      <td>0.349333</td>\n",
       "      <td>1.000000</td>\n",
       "      <td>0.417211</td>\n",
       "      <td>0.196786</td>\n",
       "    </tr>\n",
       "    <tr>\n",
       "      <th>average_montly_hours</th>\n",
       "      <td>-0.020048</td>\n",
       "      <td>0.339742</td>\n",
       "      <td>0.417211</td>\n",
       "      <td>1.000000</td>\n",
       "      <td>0.127755</td>\n",
       "    </tr>\n",
       "    <tr>\n",
       "      <th>time_spend_company</th>\n",
       "      <td>-0.100866</td>\n",
       "      <td>0.131591</td>\n",
       "      <td>0.196786</td>\n",
       "      <td>0.127755</td>\n",
       "      <td>1.000000</td>\n",
       "    </tr>\n",
       "  </tbody>\n",
       "</table>\n",
       "</div>"
      ],
      "text/plain": [
       "                      satisfaction_level  last_evaluation  number_project  \\\n",
       "satisfaction_level              1.000000         0.105021       -0.142970   \n",
       "last_evaluation                 0.105021         1.000000        0.349333   \n",
       "number_project                 -0.142970         0.349333        1.000000   \n",
       "average_montly_hours           -0.020048         0.339742        0.417211   \n",
       "time_spend_company             -0.100866         0.131591        0.196786   \n",
       "\n",
       "                      average_montly_hours  time_spend_company  \n",
       "satisfaction_level               -0.020048           -0.100866  \n",
       "last_evaluation                   0.339742            0.131591  \n",
       "number_project                    0.417211            0.196786  \n",
       "average_montly_hours              1.000000            0.127755  \n",
       "time_spend_company                0.127755            1.000000  "
      ]
     },
     "execution_count": 16,
     "metadata": {},
     "output_type": "execute_result"
    }
   ],
   "source": [
    "hr_corr = hr[['satisfaction_level', 'last_evaluation', 'number_project', 'average_montly_hours', 'time_spend_company']].corr()\n",
    "hr_corr"
   ]
  },
  {
   "cell_type": "code",
   "execution_count": 24,
   "id": "88b658b0",
   "metadata": {},
   "outputs": [
    {
     "data": {
      "text/plain": [
       "<AxesSubplot:title={'center':'Корреляция матрица для количественных переменных'}>"
      ]
     },
     "execution_count": 24,
     "metadata": {},
     "output_type": "execute_result"
    },
    {
     "data": {
      "image/png": "[encoded data removed]",
      "text/plain": [
       "<Figure size 842.4x596.16 with 2 Axes>"
      ]
     },
     "metadata": {},
     "output_type": "display_data"
    }
   ],
   "source": [
    "# удобно визуализировать при помощи тепловой карты\n",
    "sns.set(rc={'figure.figsize':(11.7, 8.28)})\n",
    "plt.rc('xtick',labelsize=14) # размер шрифта для этого и последующих графиков\n",
    "plt.rc('ytick',labelsize=14) # размер шрифта для этого и последующих графиков\n",
    "plt.title('Корреляция матрица для количественных переменных')\n",
    "sns.heatmap(hr_corr, annot=True, cmap='coolwarm', annot_kws={'size':32})"
   ]
  },
  {
   "cell_type": "markdown",
   "id": "8f2441d8",
   "metadata": {},
   "source": [
    "Наиболее скоррелированных переменные\\\n",
    "3. number_projects - Количество проектов, выполненных за время работы\\\n",
    "4. average_monthly_hours - Среднее количество часов на рабочем месте в месяц\n",
    "\n",
    "хотя коэффициент корреляции для этих переменных невысок - 0,42 - средняя прямая корреляция"
   ]
  },
  {
   "cell_type": "markdown",
   "id": "a00524f4",
   "metadata": {},
   "source": [
    "### Задание 4 \n",
    "Рассчитайте сколько сотрудников работает в каждом департаменте."
   ]
  },
  {
   "cell_type": "code",
   "execution_count": 25,
   "id": "af15f82f",
   "metadata": {},
   "outputs": [
    {
     "data": {
      "text/html": [
       "<div>\n",
       "<style scoped>\n",
       "    .dataframe tbody tr th:only-of-type {\n",
       "        vertical-align: middle;\n",
       "    }\n",
       "\n",
       "    .dataframe tbody tr th {\n",
       "        vertical-align: top;\n",
       "    }\n",
       "\n",
       "    .dataframe thead th {\n",
       "        text-align: right;\n",
       "    }\n",
       "</style>\n",
       "<table border=\"1\" class=\"dataframe\">\n",
       "  <thead>\n",
       "    <tr style=\"text-align: right;\">\n",
       "      <th></th>\n",
       "      <th>employee</th>\n",
       "    </tr>\n",
       "    <tr>\n",
       "      <th>department</th>\n",
       "      <th></th>\n",
       "    </tr>\n",
       "  </thead>\n",
       "  <tbody>\n",
       "    <tr>\n",
       "      <th>sales</th>\n",
       "      <td>4140</td>\n",
       "    </tr>\n",
       "    <tr>\n",
       "      <th>technical</th>\n",
       "      <td>2720</td>\n",
       "    </tr>\n",
       "    <tr>\n",
       "      <th>support</th>\n",
       "      <td>2229</td>\n",
       "    </tr>\n",
       "    <tr>\n",
       "      <th>IT</th>\n",
       "      <td>1227</td>\n",
       "    </tr>\n",
       "    <tr>\n",
       "      <th>product_mng</th>\n",
       "      <td>902</td>\n",
       "    </tr>\n",
       "    <tr>\n",
       "      <th>marketing</th>\n",
       "      <td>858</td>\n",
       "    </tr>\n",
       "    <tr>\n",
       "      <th>RandD</th>\n",
       "      <td>787</td>\n",
       "    </tr>\n",
       "    <tr>\n",
       "      <th>accounting</th>\n",
       "      <td>767</td>\n",
       "    </tr>\n",
       "    <tr>\n",
       "      <th>hr</th>\n",
       "      <td>739</td>\n",
       "    </tr>\n",
       "    <tr>\n",
       "      <th>management</th>\n",
       "      <td>630</td>\n",
       "    </tr>\n",
       "  </tbody>\n",
       "</table>\n",
       "</div>"
      ],
      "text/plain": [
       "             employee\n",
       "department           \n",
       "sales            4140\n",
       "technical        2720\n",
       "support          2229\n",
       "IT               1227\n",
       "product_mng       902\n",
       "marketing         858\n",
       "RandD             787\n",
       "accounting        767\n",
       "hr                739\n",
       "management        630"
      ]
     },
     "execution_count": 25,
     "metadata": {},
     "output_type": "execute_result"
    }
   ],
   "source": [
    "hr_dept = hr[['department', 'salary']].groupby('department').agg({'salary': 'count'}).rename(columns={'salary':'employee'}).sort_values(by=['employee'], ascending=False)\n",
    "hr_dept"
   ]
  },
  {
   "cell_type": "code",
   "execution_count": 26,
   "id": "84d8001f",
   "metadata": {},
   "outputs": [
    {
     "data": {
      "image/png": "[encoded data removed]",
      "text/plain": [
       "<Figure size 842.4x596.16 with 1 Axes>"
      ]
     },
     "metadata": {},
     "output_type": "display_data"
    }
   ],
   "source": [
    "hr_dept.plot(kind='bar', \n",
    "             title='Количество сотрудников в департаментах',\n",
    "             xlabel='Департамент',\n",
    "             ylabel='Количество сотрудников')\n",
    "\n",
    "for i, val in enumerate(hr_dept.values):\n",
    "    plt.text(i, val, int(val), horizontalalignment='center', verticalalignment='bottom', fontdict={'size':14})"
   ]
  },
  {
   "cell_type": "markdown",
   "id": "0b8fb62f",
   "metadata": {},
   "source": [
    "### Задание 5\n",
    "Показать распределение сотрудников по зарплатам."
   ]
  },
  {
   "cell_type": "code",
   "execution_count": 27,
   "id": "ba3a118c",
   "metadata": {},
   "outputs": [
    {
     "data": {
      "text/html": [
       "<div>\n",
       "<style scoped>\n",
       "    .dataframe tbody tr th:only-of-type {\n",
       "        vertical-align: middle;\n",
       "    }\n",
       "\n",
       "    .dataframe tbody tr th {\n",
       "        vertical-align: top;\n",
       "    }\n",
       "\n",
       "    .dataframe thead th {\n",
       "        text-align: right;\n",
       "    }\n",
       "</style>\n",
       "<table border=\"1\" class=\"dataframe\">\n",
       "  <thead>\n",
       "    <tr style=\"text-align: right;\">\n",
       "      <th></th>\n",
       "      <th>salgary_count</th>\n",
       "    </tr>\n",
       "    <tr>\n",
       "      <th>salary</th>\n",
       "      <th></th>\n",
       "    </tr>\n",
       "  </thead>\n",
       "  <tbody>\n",
       "    <tr>\n",
       "      <th>low</th>\n",
       "      <td>7316</td>\n",
       "    </tr>\n",
       "    <tr>\n",
       "      <th>medium</th>\n",
       "      <td>6446</td>\n",
       "    </tr>\n",
       "    <tr>\n",
       "      <th>high</th>\n",
       "      <td>1237</td>\n",
       "    </tr>\n",
       "  </tbody>\n",
       "</table>\n",
       "</div>"
      ],
      "text/plain": [
       "        salgary_count\n",
       "salary               \n",
       "low              7316\n",
       "medium           6446\n",
       "high             1237"
      ]
     },
     "execution_count": 27,
     "metadata": {},
     "output_type": "execute_result"
    }
   ],
   "source": [
    "hr_salg = hr[['salary', 'department']].groupby('salary').agg({'department': 'count'}).rename(columns={'department':'salgary_count'}).sort_values(by=['salgary_count'], ascending=False)\n",
    "hr_salg"
   ]
  },
  {
   "cell_type": "code",
   "execution_count": 28,
   "id": "8db1b8ae",
   "metadata": {},
   "outputs": [
    {
     "data": {
      "image/png": "[encoded data removed]",
      "text/plain": [
       "<Figure size 842.4x596.16 with 1 Axes>"
      ]
     },
     "metadata": {},
     "output_type": "display_data"
    }
   ],
   "source": [
    "hr_salg.plot(kind='bar', \n",
    "             title='Распределение сотрудников по Зарплатам',\n",
    "             xlabel='Уровень зарплаты',\n",
    "             ylabel='Количество сотрудников')\n",
    "\n",
    "for i, val in enumerate(hr_salg.values):\n",
    "    plt.text(i, val, int(val), horizontalalignment='center', verticalalignment='bottom', fontdict={'size':14})"
   ]
  },
  {
   "cell_type": "markdown",
   "id": "63e9dbe0",
   "metadata": {},
   "source": [
    "### Задание 6.\n",
    "Показать распределение сотрудников по зарплатам в каждом департаменте по отдельности"
   ]
  },
  {
   "cell_type": "code",
   "execution_count": 29,
   "id": "be788daf",
   "metadata": {},
   "outputs": [
    {
     "data": {
      "text/html": [
       "<div>\n",
       "<style scoped>\n",
       "    .dataframe tbody tr th:only-of-type {\n",
       "        vertical-align: middle;\n",
       "    }\n",
       "\n",
       "    .dataframe tbody tr th {\n",
       "        vertical-align: top;\n",
       "    }\n",
       "\n",
       "    .dataframe thead th {\n",
       "        text-align: right;\n",
       "    }\n",
       "</style>\n",
       "<table border=\"1\" class=\"dataframe\">\n",
       "  <thead>\n",
       "    <tr style=\"text-align: right;\">\n",
       "      <th></th>\n",
       "      <th></th>\n",
       "      <th>salgary_count_dep</th>\n",
       "    </tr>\n",
       "    <tr>\n",
       "      <th>salary</th>\n",
       "      <th>department</th>\n",
       "      <th></th>\n",
       "    </tr>\n",
       "  </thead>\n",
       "  <tbody>\n",
       "    <tr>\n",
       "      <th rowspan=\"10\" valign=\"top\">medium</th>\n",
       "      <th>sales</th>\n",
       "      <td>1772</td>\n",
       "    </tr>\n",
       "    <tr>\n",
       "      <th>technical</th>\n",
       "      <td>1147</td>\n",
       "    </tr>\n",
       "    <tr>\n",
       "      <th>support</th>\n",
       "      <td>942</td>\n",
       "    </tr>\n",
       "    <tr>\n",
       "      <th>IT</th>\n",
       "      <td>535</td>\n",
       "    </tr>\n",
       "    <tr>\n",
       "      <th>product_mng</th>\n",
       "      <td>383</td>\n",
       "    </tr>\n",
       "    <tr>\n",
       "      <th>marketing</th>\n",
       "      <td>376</td>\n",
       "    </tr>\n",
       "    <tr>\n",
       "      <th>RandD</th>\n",
       "      <td>372</td>\n",
       "    </tr>\n",
       "    <tr>\n",
       "      <th>hr</th>\n",
       "      <td>359</td>\n",
       "    </tr>\n",
       "    <tr>\n",
       "      <th>accounting</th>\n",
       "      <td>335</td>\n",
       "    </tr>\n",
       "    <tr>\n",
       "      <th>management</th>\n",
       "      <td>225</td>\n",
       "    </tr>\n",
       "    <tr>\n",
       "      <th rowspan=\"10\" valign=\"top\">low</th>\n",
       "      <th>sales</th>\n",
       "      <td>2099</td>\n",
       "    </tr>\n",
       "    <tr>\n",
       "      <th>technical</th>\n",
       "      <td>1372</td>\n",
       "    </tr>\n",
       "    <tr>\n",
       "      <th>support</th>\n",
       "      <td>1146</td>\n",
       "    </tr>\n",
       "    <tr>\n",
       "      <th>IT</th>\n",
       "      <td>609</td>\n",
       "    </tr>\n",
       "    <tr>\n",
       "      <th>product_mng</th>\n",
       "      <td>451</td>\n",
       "    </tr>\n",
       "    <tr>\n",
       "      <th>marketing</th>\n",
       "      <td>402</td>\n",
       "    </tr>\n",
       "    <tr>\n",
       "      <th>RandD</th>\n",
       "      <td>364</td>\n",
       "    </tr>\n",
       "    <tr>\n",
       "      <th>accounting</th>\n",
       "      <td>358</td>\n",
       "    </tr>\n",
       "    <tr>\n",
       "      <th>hr</th>\n",
       "      <td>335</td>\n",
       "    </tr>\n",
       "    <tr>\n",
       "      <th>management</th>\n",
       "      <td>180</td>\n",
       "    </tr>\n",
       "    <tr>\n",
       "      <th rowspan=\"10\" valign=\"top\">high</th>\n",
       "      <th>sales</th>\n",
       "      <td>269</td>\n",
       "    </tr>\n",
       "    <tr>\n",
       "      <th>management</th>\n",
       "      <td>225</td>\n",
       "    </tr>\n",
       "    <tr>\n",
       "      <th>technical</th>\n",
       "      <td>201</td>\n",
       "    </tr>\n",
       "    <tr>\n",
       "      <th>support</th>\n",
       "      <td>141</td>\n",
       "    </tr>\n",
       "    <tr>\n",
       "      <th>IT</th>\n",
       "      <td>83</td>\n",
       "    </tr>\n",
       "    <tr>\n",
       "      <th>marketing</th>\n",
       "      <td>80</td>\n",
       "    </tr>\n",
       "    <tr>\n",
       "      <th>accounting</th>\n",
       "      <td>74</td>\n",
       "    </tr>\n",
       "    <tr>\n",
       "      <th>product_mng</th>\n",
       "      <td>68</td>\n",
       "    </tr>\n",
       "    <tr>\n",
       "      <th>RandD</th>\n",
       "      <td>51</td>\n",
       "    </tr>\n",
       "    <tr>\n",
       "      <th>hr</th>\n",
       "      <td>45</td>\n",
       "    </tr>\n",
       "  </tbody>\n",
       "</table>\n",
       "</div>"
      ],
      "text/plain": [
       "                    salgary_count_dep\n",
       "salary department                    \n",
       "medium sales                     1772\n",
       "       technical                 1147\n",
       "       support                    942\n",
       "       IT                         535\n",
       "       product_mng                383\n",
       "       marketing                  376\n",
       "       RandD                      372\n",
       "       hr                         359\n",
       "       accounting                 335\n",
       "       management                 225\n",
       "low    sales                     2099\n",
       "       technical                 1372\n",
       "       support                   1146\n",
       "       IT                         609\n",
       "       product_mng                451\n",
       "       marketing                  402\n",
       "       RandD                      364\n",
       "       accounting                 358\n",
       "       hr                         335\n",
       "       management                 180\n",
       "high   sales                      269\n",
       "       management                 225\n",
       "       technical                  201\n",
       "       support                    141\n",
       "       IT                          83\n",
       "       marketing                   80\n",
       "       accounting                  74\n",
       "       product_mng                 68\n",
       "       RandD                       51\n",
       "       hr                          45"
      ]
     },
     "execution_count": 29,
     "metadata": {},
     "output_type": "execute_result"
    }
   ],
   "source": [
    "hr_salg_dep = hr[['salary', 'department', 'promotion_last_5years']].groupby(['salary', 'department']).agg({'promotion_last_5years': 'count'}).rename(columns={'promotion_last_5years':'salgary_count_dep'}).sort_values(by=['salary', 'salgary_count_dep'], ascending=False)\n",
    "hr_salg_dep"
   ]
  },
  {
   "cell_type": "code",
   "execution_count": 30,
   "id": "f815e307",
   "metadata": {},
   "outputs": [
    {
     "data": {
      "image/png": "[encoded data removed]",
      "text/plain": [
       "<Figure size 842.4x596.16 with 1 Axes>"
      ]
     },
     "metadata": {},
     "output_type": "display_data"
    }
   ],
   "source": [
    "hr_salg_dep.plot(kind='bar', \n",
    "                 title='Распределение сотрудников по Зарплатам по департаментам',\n",
    "                 xlabel='Уровень зарплаты/департамент',\n",
    "                 ylabel='Количество сотрудников')\n",
    "\n",
    "for i, val in enumerate(hr_salg_dep.values):\n",
    "    plt.text(i, val, int(val), horizontalalignment='center', verticalalignment='bottom', fontdict={'size':12})"
   ]
  },
  {
   "cell_type": "code",
   "execution_count": 31,
   "id": "5151ce9f",
   "metadata": {},
   "outputs": [
    {
     "data": {
      "text/html": [
       "<div>\n",
       "<style scoped>\n",
       "    .dataframe tbody tr th:only-of-type {\n",
       "        vertical-align: middle;\n",
       "    }\n",
       "\n",
       "    .dataframe tbody tr th {\n",
       "        vertical-align: top;\n",
       "    }\n",
       "\n",
       "    .dataframe thead th {\n",
       "        text-align: right;\n",
       "    }\n",
       "</style>\n",
       "<table border=\"1\" class=\"dataframe\">\n",
       "  <thead>\n",
       "    <tr style=\"text-align: right;\">\n",
       "      <th></th>\n",
       "      <th></th>\n",
       "      <th>salgary_count_dep</th>\n",
       "    </tr>\n",
       "    <tr>\n",
       "      <th>department</th>\n",
       "      <th>salary</th>\n",
       "      <th></th>\n",
       "    </tr>\n",
       "  </thead>\n",
       "  <tbody>\n",
       "    <tr>\n",
       "      <th rowspan=\"3\" valign=\"top\">IT</th>\n",
       "      <th>high</th>\n",
       "      <td>83</td>\n",
       "    </tr>\n",
       "    <tr>\n",
       "      <th>low</th>\n",
       "      <td>609</td>\n",
       "    </tr>\n",
       "    <tr>\n",
       "      <th>medium</th>\n",
       "      <td>535</td>\n",
       "    </tr>\n",
       "    <tr>\n",
       "      <th rowspan=\"3\" valign=\"top\">RandD</th>\n",
       "      <th>high</th>\n",
       "      <td>51</td>\n",
       "    </tr>\n",
       "    <tr>\n",
       "      <th>low</th>\n",
       "      <td>364</td>\n",
       "    </tr>\n",
       "    <tr>\n",
       "      <th>medium</th>\n",
       "      <td>372</td>\n",
       "    </tr>\n",
       "    <tr>\n",
       "      <th rowspan=\"3\" valign=\"top\">accounting</th>\n",
       "      <th>high</th>\n",
       "      <td>74</td>\n",
       "    </tr>\n",
       "    <tr>\n",
       "      <th>low</th>\n",
       "      <td>358</td>\n",
       "    </tr>\n",
       "    <tr>\n",
       "      <th>medium</th>\n",
       "      <td>335</td>\n",
       "    </tr>\n",
       "    <tr>\n",
       "      <th rowspan=\"3\" valign=\"top\">hr</th>\n",
       "      <th>high</th>\n",
       "      <td>45</td>\n",
       "    </tr>\n",
       "    <tr>\n",
       "      <th>low</th>\n",
       "      <td>335</td>\n",
       "    </tr>\n",
       "    <tr>\n",
       "      <th>medium</th>\n",
       "      <td>359</td>\n",
       "    </tr>\n",
       "    <tr>\n",
       "      <th rowspan=\"3\" valign=\"top\">management</th>\n",
       "      <th>high</th>\n",
       "      <td>225</td>\n",
       "    </tr>\n",
       "    <tr>\n",
       "      <th>low</th>\n",
       "      <td>180</td>\n",
       "    </tr>\n",
       "    <tr>\n",
       "      <th>medium</th>\n",
       "      <td>225</td>\n",
       "    </tr>\n",
       "    <tr>\n",
       "      <th rowspan=\"3\" valign=\"top\">marketing</th>\n",
       "      <th>high</th>\n",
       "      <td>80</td>\n",
       "    </tr>\n",
       "    <tr>\n",
       "      <th>low</th>\n",
       "      <td>402</td>\n",
       "    </tr>\n",
       "    <tr>\n",
       "      <th>medium</th>\n",
       "      <td>376</td>\n",
       "    </tr>\n",
       "    <tr>\n",
       "      <th rowspan=\"3\" valign=\"top\">product_mng</th>\n",
       "      <th>high</th>\n",
       "      <td>68</td>\n",
       "    </tr>\n",
       "    <tr>\n",
       "      <th>low</th>\n",
       "      <td>451</td>\n",
       "    </tr>\n",
       "    <tr>\n",
       "      <th>medium</th>\n",
       "      <td>383</td>\n",
       "    </tr>\n",
       "    <tr>\n",
       "      <th rowspan=\"3\" valign=\"top\">sales</th>\n",
       "      <th>high</th>\n",
       "      <td>269</td>\n",
       "    </tr>\n",
       "    <tr>\n",
       "      <th>low</th>\n",
       "      <td>2099</td>\n",
       "    </tr>\n",
       "    <tr>\n",
       "      <th>medium</th>\n",
       "      <td>1772</td>\n",
       "    </tr>\n",
       "    <tr>\n",
       "      <th rowspan=\"3\" valign=\"top\">support</th>\n",
       "      <th>high</th>\n",
       "      <td>141</td>\n",
       "    </tr>\n",
       "    <tr>\n",
       "      <th>low</th>\n",
       "      <td>1146</td>\n",
       "    </tr>\n",
       "    <tr>\n",
       "      <th>medium</th>\n",
       "      <td>942</td>\n",
       "    </tr>\n",
       "    <tr>\n",
       "      <th rowspan=\"3\" valign=\"top\">technical</th>\n",
       "      <th>high</th>\n",
       "      <td>201</td>\n",
       "    </tr>\n",
       "    <tr>\n",
       "      <th>low</th>\n",
       "      <td>1372</td>\n",
       "    </tr>\n",
       "    <tr>\n",
       "      <th>medium</th>\n",
       "      <td>1147</td>\n",
       "    </tr>\n",
       "  </tbody>\n",
       "</table>\n",
       "</div>"
      ],
      "text/plain": [
       "                    salgary_count_dep\n",
       "department  salary                   \n",
       "IT          high                   83\n",
       "            low                   609\n",
       "            medium                535\n",
       "RandD       high                   51\n",
       "            low                   364\n",
       "            medium                372\n",
       "accounting  high                   74\n",
       "            low                   358\n",
       "            medium                335\n",
       "hr          high                   45\n",
       "            low                   335\n",
       "            medium                359\n",
       "management  high                  225\n",
       "            low                   180\n",
       "            medium                225\n",
       "marketing   high                   80\n",
       "            low                   402\n",
       "            medium                376\n",
       "product_mng high                   68\n",
       "            low                   451\n",
       "            medium                383\n",
       "sales       high                  269\n",
       "            low                  2099\n",
       "            medium               1772\n",
       "support     high                  141\n",
       "            low                  1146\n",
       "            medium                942\n",
       "technical   high                  201\n",
       "            low                  1372\n",
       "            medium               1147"
      ]
     },
     "execution_count": 31,
     "metadata": {},
     "output_type": "execute_result"
    }
   ],
   "source": [
    "hr_salg_dep = hr[['department', 'salary', 'promotion_last_5years']].groupby(['department', 'salary']).agg({'promotion_last_5years': 'count'}).rename(columns={'promotion_last_5years':'salgary_count_dep'})\n",
    "hr_salg_dep"
   ]
  },
  {
   "cell_type": "code",
   "execution_count": 32,
   "id": "daf14913",
   "metadata": {},
   "outputs": [
    {
     "data": {
      "image/png": "[encoded data removed]",
      "text/plain": [
       "<Figure size 842.4x596.16 with 1 Axes>"
      ]
     },
     "metadata": {},
     "output_type": "display_data"
    }
   ],
   "source": [
    "hr_salg_dep.plot(kind='bar', \n",
    "                 title='Распределение сотрудников по Зарплатам по департаментам',\n",
    "                 xlabel='Уровень зарплаты/департамент',\n",
    "                 ylabel='Количество сотрудников')\n",
    "\n",
    "for i, val in enumerate(hr_salg_dep.values):\n",
    "    plt.text(i, val, int(val), horizontalalignment='center', verticalalignment='bottom', fontdict={'size':12})"
   ]
  },
  {
   "cell_type": "markdown",
   "id": "95d3446e",
   "metadata": {},
   "source": [
    "### Задание 7 \n",
    "Проверить гипотезу, что сотрудники с высоким окладом проводят на работе больше времени, чем сотрудники с низким окладом"
   ]
  },
  {
   "cell_type": "code",
   "execution_count": 33,
   "id": "279de1f4",
   "metadata": {},
   "outputs": [
    {
     "data": {
      "text/plain": [
       "7316"
      ]
     },
     "execution_count": 33,
     "metadata": {},
     "output_type": "execute_result"
    }
   ],
   "source": [
    "# выборка среднего количество часов на рабочем месте в месяц для сотрудников с низкой зарплатой\n",
    "hr_sal_low = np.array(hr[ hr['salary'] == 'low'][['average_montly_hours']])[:,0]\n",
    "len(hr_sal_low)"
   ]
  },
  {
   "cell_type": "code",
   "execution_count": 34,
   "id": "eb6bf4e5",
   "metadata": {},
   "outputs": [
    {
     "data": {
      "text/plain": [
       "1237"
      ]
     },
     "execution_count": 34,
     "metadata": {},
     "output_type": "execute_result"
    }
   ],
   "source": [
    "# выборка среднего количество часов на рабочем месте в месяц для сотрудников с высокой зарплатой\n",
    "hr_sal_high = np.array(hr[ hr['salary'] == 'high'][['average_montly_hours']])[:,0]\n",
    "len(hr_sal_high)"
   ]
  },
  {
   "cell_type": "markdown",
   "id": "e004ea80",
   "metadata": {},
   "source": [
    "Гипотеза H0 - среднее время на работе не зависит от уровня зарплаты (выборки не имеют стат. значимых различий)\\\n",
    "Альтернативная гипотеза H1 - среднее время на работе зависит от уровня зарплаты (выборки имеют стат. значимые различия)"
   ]
  },
  {
   "cell_type": "code",
   "execution_count": 35,
   "id": "669c15c6",
   "metadata": {},
   "outputs": [
    {
     "data": {
      "text/plain": [
       "1.1359075151487161"
      ]
     },
     "execution_count": 35,
     "metadata": {},
     "output_type": "execute_result"
    }
   ],
   "source": [
    "hr_sal_low.var() / hr_sal_high.var()"
   ]
  },
  {
   "cell_type": "markdown",
   "id": "8c8d76d3",
   "metadata": {},
   "source": [
    "Отношение дисперсий выборок близко менее 4, предполагаем, что дисперсии равны"
   ]
  },
  {
   "cell_type": "code",
   "execution_count": 36,
   "id": "f1385f68",
   "metadata": {},
   "outputs": [],
   "source": [
    "stat, p = stats.ttest_ind(hr_sal_low, hr_sal_high)"
   ]
  },
  {
   "cell_type": "markdown",
   "id": "186cdfd3",
   "metadata": {},
   "source": [
    "Принимаем уровень значимости 0,05"
   ]
  },
  {
   "cell_type": "code",
   "execution_count": 37,
   "id": "6ccd075c",
   "metadata": {},
   "outputs": [
    {
     "data": {
      "text/plain": [
       "0.4661023478267259"
      ]
     },
     "execution_count": 37,
     "metadata": {},
     "output_type": "execute_result"
    }
   ],
   "source": [
    "p"
   ]
  },
  {
   "cell_type": "markdown",
   "id": "b0f40f0d",
   "metadata": {},
   "source": [
    "p-value существенно выше уровня значимости,\n",
    "\n",
    "следовательно оснований отвергать нулевую гипотезу (H0) нет"
   ]
  },
  {
   "cell_type": "code",
   "execution_count": null,
   "id": "3cde6acf",
   "metadata": {},
   "outputs": [],
   "source": []
  },
  {
   "cell_type": "markdown",
   "id": "d108b455",
   "metadata": {},
   "source": [
    "### Задание 8\n",
    "Рассчитать следующие показатели среди уволившихся и не\n",
    "уволившихся сотрудников (по отдельности):\\\n",
    "● Доля сотрудников с повышением за последние 5 лет\\\n",
    "● Средняя степень удовлетворенности\\\n",
    "● Среднее количество проектов"
   ]
  },
  {
   "cell_type": "code",
   "execution_count": 38,
   "id": "55f7109b",
   "metadata": {},
   "outputs": [
    {
     "data": {
      "text/html": [
       "<div>\n",
       "<style scoped>\n",
       "    .dataframe tbody tr th:only-of-type {\n",
       "        vertical-align: middle;\n",
       "    }\n",
       "\n",
       "    .dataframe tbody tr th {\n",
       "        vertical-align: top;\n",
       "    }\n",
       "\n",
       "    .dataframe thead th {\n",
       "        text-align: right;\n",
       "    }\n",
       "</style>\n",
       "<table border=\"1\" class=\"dataframe\">\n",
       "  <thead>\n",
       "    <tr style=\"text-align: right;\">\n",
       "      <th></th>\n",
       "      <th>satisfaction_level</th>\n",
       "      <th>number_project</th>\n",
       "      <th>promotion_last_5years</th>\n",
       "    </tr>\n",
       "  </thead>\n",
       "  <tbody>\n",
       "    <tr>\n",
       "      <th>0</th>\n",
       "      <td>0.38</td>\n",
       "      <td>2</td>\n",
       "      <td>0</td>\n",
       "    </tr>\n",
       "    <tr>\n",
       "      <th>1</th>\n",
       "      <td>0.80</td>\n",
       "      <td>5</td>\n",
       "      <td>0</td>\n",
       "    </tr>\n",
       "    <tr>\n",
       "      <th>2</th>\n",
       "      <td>0.11</td>\n",
       "      <td>7</td>\n",
       "      <td>0</td>\n",
       "    </tr>\n",
       "    <tr>\n",
       "      <th>3</th>\n",
       "      <td>0.72</td>\n",
       "      <td>5</td>\n",
       "      <td>0</td>\n",
       "    </tr>\n",
       "    <tr>\n",
       "      <th>4</th>\n",
       "      <td>0.37</td>\n",
       "      <td>2</td>\n",
       "      <td>0</td>\n",
       "    </tr>\n",
       "    <tr>\n",
       "      <th>...</th>\n",
       "      <td>...</td>\n",
       "      <td>...</td>\n",
       "      <td>...</td>\n",
       "    </tr>\n",
       "    <tr>\n",
       "      <th>14994</th>\n",
       "      <td>0.40</td>\n",
       "      <td>2</td>\n",
       "      <td>0</td>\n",
       "    </tr>\n",
       "    <tr>\n",
       "      <th>14995</th>\n",
       "      <td>0.37</td>\n",
       "      <td>2</td>\n",
       "      <td>0</td>\n",
       "    </tr>\n",
       "    <tr>\n",
       "      <th>14996</th>\n",
       "      <td>0.37</td>\n",
       "      <td>2</td>\n",
       "      <td>0</td>\n",
       "    </tr>\n",
       "    <tr>\n",
       "      <th>14997</th>\n",
       "      <td>0.11</td>\n",
       "      <td>6</td>\n",
       "      <td>0</td>\n",
       "    </tr>\n",
       "    <tr>\n",
       "      <th>14998</th>\n",
       "      <td>0.37</td>\n",
       "      <td>2</td>\n",
       "      <td>0</td>\n",
       "    </tr>\n",
       "  </tbody>\n",
       "</table>\n",
       "<p>3571 rows × 3 columns</p>\n",
       "</div>"
      ],
      "text/plain": [
       "       satisfaction_level  number_project  promotion_last_5years\n",
       "0                    0.38               2                      0\n",
       "1                    0.80               5                      0\n",
       "2                    0.11               7                      0\n",
       "3                    0.72               5                      0\n",
       "4                    0.37               2                      0\n",
       "...                   ...             ...                    ...\n",
       "14994                0.40               2                      0\n",
       "14995                0.37               2                      0\n",
       "14996                0.37               2                      0\n",
       "14997                0.11               6                      0\n",
       "14998                0.37               2                      0\n",
       "\n",
       "[3571 rows x 3 columns]"
      ]
     },
     "execution_count": 38,
     "metadata": {},
     "output_type": "execute_result"
    }
   ],
   "source": [
    "# выборка - уволившиеся сотрудники\n",
    "hr_left = hr[ hr['left'] == 1][['satisfaction_level', 'number_project', 'promotion_last_5years']]\n",
    "hr_left"
   ]
  },
  {
   "cell_type": "code",
   "execution_count": 39,
   "id": "ab582bb2",
   "metadata": {},
   "outputs": [
    {
     "name": "stdout",
     "output_type": "stream",
     "text": [
      "Доля сотрудников, у которых за последние 5 лет было повышение (для уволившихся сотрудников) составляет 0.53 %\n"
     ]
    }
   ],
   "source": [
    "# Доля сотрудников с повышением за последние 5 лет\n",
    "print('Доля сотрудников, у которых за последние 5 лет было повышение (для уволившихся сотрудников) составляет', \n",
    "      round(len(hr_left[ hr_left['promotion_last_5years'] == 1 ]) *100 / len(hr_left), 2),\n",
    "      '%')"
   ]
  },
  {
   "cell_type": "code",
   "execution_count": 40,
   "id": "2ddf79f1",
   "metadata": {},
   "outputs": [
    {
     "name": "stdout",
     "output_type": "stream",
     "text": [
      "Средняя степень удовлетворенности сотрудников (для уволившихся сотрудников) составляет 0.44\n"
     ]
    }
   ],
   "source": [
    "# Средняя степень удовлетворенности\n",
    "print('Средняя степень удовлетворенности сотрудников (для уволившихся сотрудников) составляет',\n",
    "      round(hr_left['satisfaction_level'].mean(), 2)\n",
    "      )"
   ]
  },
  {
   "cell_type": "code",
   "execution_count": 41,
   "id": "62b8fdcf",
   "metadata": {},
   "outputs": [
    {
     "name": "stdout",
     "output_type": "stream",
     "text": [
      "Среднее количество проектов (для уволившихся сотрудников) составляет 3.86\n"
     ]
    }
   ],
   "source": [
    "# Среднее количество проектов\n",
    "print('Среднее количество проектов (для уволившихся сотрудников) составляет',\n",
    "      round(hr_left['number_project'].mean(), 2)\n",
    "      )"
   ]
  },
  {
   "cell_type": "code",
   "execution_count": 42,
   "id": "796d2084",
   "metadata": {},
   "outputs": [
    {
     "data": {
      "text/html": [
       "<div>\n",
       "<style scoped>\n",
       "    .dataframe tbody tr th:only-of-type {\n",
       "        vertical-align: middle;\n",
       "    }\n",
       "\n",
       "    .dataframe tbody tr th {\n",
       "        vertical-align: top;\n",
       "    }\n",
       "\n",
       "    .dataframe thead th {\n",
       "        text-align: right;\n",
       "    }\n",
       "</style>\n",
       "<table border=\"1\" class=\"dataframe\">\n",
       "  <thead>\n",
       "    <tr style=\"text-align: right;\">\n",
       "      <th></th>\n",
       "      <th>satisfaction_level</th>\n",
       "      <th>number_project</th>\n",
       "      <th>promotion_last_5years</th>\n",
       "    </tr>\n",
       "  </thead>\n",
       "  <tbody>\n",
       "    <tr>\n",
       "      <th>2000</th>\n",
       "      <td>0.58</td>\n",
       "      <td>4</td>\n",
       "      <td>0</td>\n",
       "    </tr>\n",
       "    <tr>\n",
       "      <th>2001</th>\n",
       "      <td>0.82</td>\n",
       "      <td>2</td>\n",
       "      <td>0</td>\n",
       "    </tr>\n",
       "    <tr>\n",
       "      <th>2002</th>\n",
       "      <td>0.45</td>\n",
       "      <td>5</td>\n",
       "      <td>0</td>\n",
       "    </tr>\n",
       "    <tr>\n",
       "      <th>2003</th>\n",
       "      <td>0.78</td>\n",
       "      <td>5</td>\n",
       "      <td>0</td>\n",
       "    </tr>\n",
       "    <tr>\n",
       "      <th>2004</th>\n",
       "      <td>0.49</td>\n",
       "      <td>3</td>\n",
       "      <td>0</td>\n",
       "    </tr>\n",
       "    <tr>\n",
       "      <th>...</th>\n",
       "      <td>...</td>\n",
       "      <td>...</td>\n",
       "      <td>...</td>\n",
       "    </tr>\n",
       "    <tr>\n",
       "      <th>14206</th>\n",
       "      <td>0.90</td>\n",
       "      <td>3</td>\n",
       "      <td>1</td>\n",
       "    </tr>\n",
       "    <tr>\n",
       "      <th>14207</th>\n",
       "      <td>0.74</td>\n",
       "      <td>5</td>\n",
       "      <td>1</td>\n",
       "    </tr>\n",
       "    <tr>\n",
       "      <th>14208</th>\n",
       "      <td>0.85</td>\n",
       "      <td>3</td>\n",
       "      <td>1</td>\n",
       "    </tr>\n",
       "    <tr>\n",
       "      <th>14209</th>\n",
       "      <td>0.33</td>\n",
       "      <td>3</td>\n",
       "      <td>1</td>\n",
       "    </tr>\n",
       "    <tr>\n",
       "      <th>14210</th>\n",
       "      <td>0.50</td>\n",
       "      <td>4</td>\n",
       "      <td>0</td>\n",
       "    </tr>\n",
       "  </tbody>\n",
       "</table>\n",
       "<p>11428 rows × 3 columns</p>\n",
       "</div>"
      ],
      "text/plain": [
       "       satisfaction_level  number_project  promotion_last_5years\n",
       "2000                 0.58               4                      0\n",
       "2001                 0.82               2                      0\n",
       "2002                 0.45               5                      0\n",
       "2003                 0.78               5                      0\n",
       "2004                 0.49               3                      0\n",
       "...                   ...             ...                    ...\n",
       "14206                0.90               3                      1\n",
       "14207                0.74               5                      1\n",
       "14208                0.85               3                      1\n",
       "14209                0.33               3                      1\n",
       "14210                0.50               4                      0\n",
       "\n",
       "[11428 rows x 3 columns]"
      ]
     },
     "execution_count": 42,
     "metadata": {},
     "output_type": "execute_result"
    }
   ],
   "source": [
    "# выборка - не уволившиеся сотрудники\n",
    "hr_no_left = hr[ hr['left'] == 0][['satisfaction_level', 'number_project', 'promotion_last_5years']]\n",
    "hr_no_left"
   ]
  },
  {
   "cell_type": "code",
   "execution_count": 43,
   "id": "5c120d3c",
   "metadata": {},
   "outputs": [
    {
     "name": "stdout",
     "output_type": "stream",
     "text": [
      "Доля сотрудников, у которых за последние 5 лет было повышение (для не уволившихся сотрудников) составляет 2.63 %\n"
     ]
    }
   ],
   "source": [
    "# Доля сотрудников с повышением за последние 5 лет\n",
    "print('Доля сотрудников, у которых за последние 5 лет было повышение (для не уволившихся сотрудников) составляет', \n",
    "      round(len(hr_no_left[ hr_no_left['promotion_last_5years'] == 1 ]) *100 / len(hr_no_left), 2),\n",
    "      '%')"
   ]
  },
  {
   "cell_type": "code",
   "execution_count": 44,
   "id": "90937fa7",
   "metadata": {},
   "outputs": [
    {
     "name": "stdout",
     "output_type": "stream",
     "text": [
      "Средняя степень удовлетворенности сотрудников (для не уволившихся сотрудников) составляет 0.67\n"
     ]
    }
   ],
   "source": [
    "# Средняя степень удовлетворенности\n",
    "print('Средняя степень удовлетворенности сотрудников (для не уволившихся сотрудников) составляет',\n",
    "      round(hr_no_left['satisfaction_level'].mean(), 2)\n",
    "      )"
   ]
  },
  {
   "cell_type": "code",
   "execution_count": 45,
   "id": "51479291",
   "metadata": {},
   "outputs": [
    {
     "name": "stdout",
     "output_type": "stream",
     "text": [
      "Среднее количество проектов (для не уволившихся сотрудников) составляет 3.79\n"
     ]
    }
   ],
   "source": [
    "# Среднее количество проектов\n",
    "print('Среднее количество проектов (для не уволившихся сотрудников) составляет',\n",
    "      round(hr_no_left['number_project'].mean(), 2)\n",
    "      )"
   ]
  },
  {
   "cell_type": "code",
   "execution_count": null,
   "id": "17c5e14b",
   "metadata": {},
   "outputs": [],
   "source": []
  },
  {
   "cell_type": "markdown",
   "id": "c85e54c2",
   "metadata": {},
   "source": [
    "### Задание 9\n",
    "Разделить данные на тестовую и обучающую выборки\n",
    "Построить модель LDA, предсказывающую уволился ли\n",
    "сотрудник на основе имеющихся факторов (кроме department и\n",
    "salary)\\\n",
    "Оценить качество модели на тестовой выборки"
   ]
  },
  {
   "cell_type": "code",
   "execution_count": 50,
   "id": "5fab7eb4",
   "metadata": {},
   "outputs": [],
   "source": [
    "hr_lda = hr[['satisfaction_level', 'last_evaluation', 'number_project', 'average_montly_hours', \n",
    "              'time_spend_company', 'Work_accident', 'promotion_last_5years']]\n",
    "hr_class = np.array(hr['left'])"
   ]
  },
  {
   "cell_type": "code",
   "execution_count": 51,
   "id": "f8e598c7",
   "metadata": {},
   "outputs": [],
   "source": [
    "#разделяем датафрейм на тренеровочную и тестовую выборки\n",
    "X_train, X_test, y_train, y_test = train_test_split(hr_lda, hr_class, random_state=42)"
   ]
  },
  {
   "cell_type": "code",
   "execution_count": 52,
   "id": "b73d4719",
   "metadata": {},
   "outputs": [],
   "source": [
    "lda = LinearDiscriminantAnalysis()"
   ]
  },
  {
   "cell_type": "code",
   "execution_count": 53,
   "id": "51c4a66e",
   "metadata": {},
   "outputs": [
    {
     "data": {
      "text/plain": [
       "LinearDiscriminantAnalysis()"
      ]
     },
     "execution_count": 53,
     "metadata": {},
     "output_type": "execute_result"
    }
   ],
   "source": [
    "# обучаем модель\n",
    "lda.fit(X_train, y_train)"
   ]
  },
  {
   "cell_type": "code",
   "execution_count": 54,
   "id": "e15d5f61",
   "metadata": {},
   "outputs": [
    {
     "data": {
      "text/plain": [
       "array([0, 0, 0, ..., 0, 1, 0], dtype=int64)"
      ]
     },
     "execution_count": 54,
     "metadata": {},
     "output_type": "execute_result"
    }
   ],
   "source": [
    "# делаем прогноз используя тестовую выборку\n",
    "lda.predict(X_test)"
   ]
  },
  {
   "cell_type": "code",
   "execution_count": 55,
   "id": "f75b9d9a",
   "metadata": {},
   "outputs": [
    {
     "data": {
      "text/plain": [
       "0.7536"
      ]
     },
     "execution_count": 55,
     "metadata": {},
     "output_type": "execute_result"
    }
   ],
   "source": [
    "# рассчитаем точность модели\n",
    "accuracy_score(y_test, lda.predict(X_test))"
   ]
  },
  {
   "cell_type": "markdown",
   "id": "96b10f08",
   "metadata": {},
   "source": [
    "Таким образом, при данном разделение на тренеровочную и тестовую выборки получили, что модель предсказыват точно с вероятностью 75,36 %"
   ]
  },
  {
   "cell_type": "code",
   "execution_count": 56,
   "id": "82a07e9d",
   "metadata": {},
   "outputs": [
    {
     "data": {
      "text/plain": [
       "array([[-4.58366087e+00,  6.57019075e-01, -2.18430857e-01,\n",
       "         4.47682750e-03,  2.22165799e-01, -1.04525663e+00,\n",
       "        -1.10730495e+00]])"
      ]
     },
     "execution_count": 56,
     "metadata": {},
     "output_type": "execute_result"
    }
   ],
   "source": [
    "# коэффициенты модели\n",
    "lda.coef_"
   ]
  },
  {
   "cell_type": "markdown",
   "id": "977998f9",
   "metadata": {},
   "source": [
    "Самый большой коэффициент по модулю - первый. Который отвечает за атрибут Уровень удовлетворенности работой. Т.е. этот атрибут оказывает самое большое влияние. Поскольку зависимость обратная, то чем больше Уровень удовлетворенности работой, тем меньше вероятность увольнения."
   ]
  },
  {
   "cell_type": "markdown",
   "id": "e8102036",
   "metadata": {},
   "source": [
    "### Задание 10\n",
    "Загрузить jupyter notebook с решение на github и прислать ссылку"
   ]
  },
  {
   "cell_type": "markdown",
   "id": "d61b02da",
   "metadata": {},
   "source": [
    "git add .\\\n",
    "git commit -am \"Diplom Python\"\\\n",
    "git push origin master"
   ]
  },
  {
   "cell_type": "code",
   "execution_count": null,
   "id": "57c05dbe",
   "metadata": {},
   "outputs": [],
   "source": []
  }
 ],
 "metadata": {
  "kernelspec": {
   "display_name": "Python 3",
   "language": "python",
   "name": "python3"
  },
  "language_info": {
   "codemirror_mode": {
    "name": "ipython",
    "version": 3
   },
   "file_extension": ".py",
   "mimetype": "text/x-python",
   "name": "python",
   "nbconvert_exporter": "python",
   "pygments_lexer": "ipython3",
   "version": "3.8.8"
  }
 },
 "nbformat": 4,
 "nbformat_minor": 5
}
