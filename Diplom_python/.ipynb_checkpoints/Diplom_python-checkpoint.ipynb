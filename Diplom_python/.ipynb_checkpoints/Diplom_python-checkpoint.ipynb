{
 "cells": [
  {
   "cell_type": "code",
   "execution_count": 1,
   "id": "9edeedae",
   "metadata": {},
   "outputs": [],
   "source": [
    "from sklearn.datasets import load_wine\n",
    "import pandas as pd\n",
    "import numpy as np\n",
    "import matplotlib.pyplot as plt"
   ]
  },
  {
   "cell_type": "code",
   "execution_count": 2,
   "id": "2e50fdb1",
   "metadata": {},
   "outputs": [],
   "source": [
    "df = pd.read_csv('HR.csv')"
   ]
  },
  {
   "cell_type": "code",
   "execution_count": 7,
   "id": "af9a5965",
   "metadata": {},
   "outputs": [
    {
     "data": {
      "text/plain": [
       "satisfaction_level  last_evaluation  number_project  average_montly_hours  time_spend_company  Work_accident  left  promotion_last_5years  department  salary\n",
       "0.46                0.57             2               139                   3                   0              1     0                      sales       low       6\n",
       "0.37                0.46             2               156                   3                   0              1     0                      sales       low       4\n",
       "0.10                0.85             6               266                   4                   0              1     0                      sales       low       4\n",
       "0.41                0.46             2               128                   3                   0              1     0                      accounting  low       4\n",
       "0.42                0.53             2               142                   3                   0              1     0                      sales       low       4\n",
       "                                                                                                                                                                ..\n",
       "0.58                0.79             4               196                   3                   1              0     0                      hr          low       1\n",
       "                                     5               197                   3                   0              0     0                      RandD       medium    1\n",
       "                                                     262                   2                   0              0     0                      sales       high      1\n",
       "                    0.80             3               181                   4                   0              0     0                      technical   high      1\n",
       "1.00                1.00             5               142                   4                   0              0     0                      sales       low       1\n",
       "Length: 11991, dtype: int64"
      ]
     },
     "execution_count": 7,
     "metadata": {},
     "output_type": "execute_result"
    }
   ],
   "source": [
    "df.value_counts()"
   ]
  },
  {
   "cell_type": "code",
   "execution_count": null,
   "id": "9383dd47",
   "metadata": {},
   "outputs": [],
   "source": []
  }
 ],
 "metadata": {
  "kernelspec": {
   "display_name": "Python 3",
   "language": "python",
   "name": "python3"
  },
  "language_info": {
   "codemirror_mode": {
    "name": "ipython",
    "version": 3
   },
   "file_extension": ".py",
   "mimetype": "text/x-python",
   "name": "python",
   "nbconvert_exporter": "python",
   "pygments_lexer": "ipython3",
   "version": "3.8.8"
  }
 },
 "nbformat": 4,
 "nbformat_minor": 5
}
