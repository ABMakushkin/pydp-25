{
 "cells": [
  {
   "cell_type": "markdown",
   "id": "c496e406",
   "metadata": {},
   "source": [
    "# Домашнее задание \"Исключения и обработка ошибок\""
   ]
  },
  {
   "cell_type": "markdown",
   "id": "d324a163",
   "metadata": {},
   "source": [
    "Задание 1\n",
    "Печатные газеты использовали свой формат дат для каждого выпуска. Для каждой газеты из списка напишите формат указанной даты \n",
    "для перевода в объект datetime:\n",
    "\n",
    "- The Moscow Times - Wednesday, October 2, 2002\n",
    "- The Guardian - Friday, 11.10.13\n",
    "- Daily News - Thursday, 18 August 1977"
   ]
  },
  {
   "cell_type": "code",
   "execution_count": 15,
   "id": "99d9ef0e",
   "metadata": {},
   "outputs": [
    {
     "name": "stdout",
     "output_type": "stream",
     "text": [
      "2002-10-02 00:00:00 \n",
      " 2013-10-11 00:00:00 \n",
      " 1977-08-18 00:00:00\n"
     ]
    }
   ],
   "source": [
    "from datetime import datetime as dt\n",
    "\n",
    "The_Moscow_Times = 'Wednesday, October 2, 2002'\n",
    "The_Guardian = 'Friday, 11.10.13'\n",
    "Daily_News = 'Thursday, 18 August 1977'\n",
    "\n",
    "The_Moscow_Times_dt = dt.strptime(The_Moscow_Times, '%A, %B %d, %Y')\n",
    "The_Guardian_dt = dt.strptime(The_Guardian, '%A, %d.%m.%y')\n",
    "Daily_News_dt = dt.strptime(Daily_News, '%A, %d %B %Y')\n",
    "\n",
    "print(The_Moscow_Times_dt,'\\n', The_Guardian_dt, '\\n', Daily_News_dt)"
   ]
  },
  {
   "cell_type": "markdown",
   "id": "e7a8575d",
   "metadata": {},
   "source": [
    "Задание 2\n",
    "Дан поток дат в формате YYYY-MM-DD, в которых встречаются некорректные значения:\n",
    "stream = [‘2018-04-02’, ‘2018-02-29’, ‘2018-19-02’]\n",
    "\n",
    "Напишите функцию, которая проверяет эти даты на корректность. Т. е. для каждой даты возвращает True (дата корректна) \n",
    "или False (некорректная дата)."
   ]
  },
  {
   "cell_type": "code",
   "execution_count": 20,
   "id": "0a608c76",
   "metadata": {},
   "outputs": [
    {
     "name": "stdout",
     "output_type": "stream",
     "text": [
      "{'2018-04-02': True, '2018-02-29': False, '2018-19-02': False}\n"
     ]
    }
   ],
   "source": [
    "from datetime import datetime as dt\n",
    "\n",
    "def correct_date(in_):\n",
    "    out = {}\n",
    "    \n",
    "    for i in in_:\n",
    "        try:\n",
    "            if dt.strptime(i, '%Y-%m-%d'):\n",
    "                out[i] = True\n",
    "        except:\n",
    "            out[i] = False\n",
    "    \n",
    "    return out\n",
    "\n",
    "stream = ['2018-04-02', '2018-02-29', '2018-19-02']\n",
    "\n",
    "print(correct_date(stream))"
   ]
  },
  {
   "cell_type": "markdown",
   "id": "5342f254",
   "metadata": {},
   "source": [
    "Задание 3\n",
    "Напишите функцию date_range, которая возвращает список дат за период от start_date до end_date. Даты должны вводиться в формате YYYY-MM-DD. В случае неверного формата или при start_date > end_date должен возвращаться пустой список.\n"
   ]
  },
  {
   "cell_type": "code",
   "execution_count": 39,
   "id": "9c708f43",
   "metadata": {},
   "outputs": [
    {
     "name": "stdout",
     "output_type": "stream",
     "text": [
      "Введите начальную дату в формате YYYY-MM-DD: 2021-5-5\n",
      "Введите конечную дату в формате YYYY-MM-DD: 2021-7-1\n",
      "['2021-05-05', '2021-05-06', '2021-05-07', '2021-05-08', '2021-05-09', '2021-05-10', '2021-05-11', '2021-05-12', '2021-05-13', '2021-05-14', '2021-05-15', '2021-05-16', '2021-05-17', '2021-05-18', '2021-05-19', '2021-05-20', '2021-05-21', '2021-05-22', '2021-05-23', '2021-05-24', '2021-05-25', '2021-05-26', '2021-05-27', '2021-05-28', '2021-05-29', '2021-05-30', '2021-05-31', '2021-06-01', '2021-06-02', '2021-06-03', '2021-06-04', '2021-06-05', '2021-06-06', '2021-06-07', '2021-06-08', '2021-06-09', '2021-06-10', '2021-06-11', '2021-06-12', '2021-06-13', '2021-06-14', '2021-06-15', '2021-06-16', '2021-06-17', '2021-06-18', '2021-06-19', '2021-06-20', '2021-06-21', '2021-06-22', '2021-06-23', '2021-06-24', '2021-06-25', '2021-06-26', '2021-06-27', '2021-06-28', '2021-06-29', '2021-06-30', '2021-07-01']\n"
     ]
    }
   ],
   "source": [
    "from datetime import datetime as dt\n",
    "from datetime import timedelta\n",
    "\n",
    "def date_range(sd, ed):\n",
    "    out = []\n",
    "    try:\n",
    "        sd_dt = dt.strptime(sd, '%Y-%m-%d')\n",
    "        ed_dt = dt.strptime(ed, '%Y-%m-%d')\n",
    "        if sd_dt < ed_dt:\n",
    "            while sd_dt <= ed_dt:\n",
    "                out.append(sd_dt.strftime('%Y-%m-%d')) # можно оставить в формате datetime, но вывод будет некрасивым\n",
    "                sd_dt += timedelta(days=1)\n",
    "        return out\n",
    "    except:\n",
    "        return out   \n",
    "    \n",
    "def main():\n",
    "    start_date = input('Введите начальную дату в формате YYYY-MM-DD: ')\n",
    "    end_date = input('Введите конечную дату в формате YYYY-MM-DD: ')\n",
    "    print(date_range(start_date, end_date))\n",
    "    \n",
    "main()"
   ]
  },
  {
   "cell_type": "markdown",
   "id": "2a00171c",
   "metadata": {},
   "source": [
    "Задание 4 (необязательное)\n",
    "Ваш коллега прислал код функции:\n",
    "\n",
    "DEFAULT_USER_COUNT = 3\n",
    "\n",
    "def delete_and_return_last_user(region, default_list=[‘A100’, ‘A101’, ‘A102’]):\n",
    "\"\"“\n",
    "Удаляет из списка default_list последнего пользователя\n",
    "и возвращает ID нового последнего пользователя.\n",
    "”\"\"\n",
    "element_to_delete = default_list[-1]\n",
    "default_list.remove(element_to_delete)\n",
    "\n",
    "1\n",
    "return default_list[DEFAULT_USER_COUNT-2]\n",
    "При однократном вызове этой функции все работает корректно:\n",
    "delete_and_return_last_user(1)\n",
    "‘A101’\n",
    "\n",
    "Однако, при повторном вызове получается ошибка IndexError: list index out of range.\n",
    "\n",
    "Задание:\n",
    "\n",
    "Что значит ошибка list index out of range?\n",
    "Почему при первом запуске функция работает корректно, а при втором - нет?"
   ]
  },
  {
   "cell_type": "code",
   "execution_count": 8,
   "id": "55cde8a3",
   "metadata": {},
   "outputs": [
    {
     "name": "stdout",
     "output_type": "stream",
     "text": [
      "1\n",
      "['A100', 'A101']\n",
      "1\n",
      "['A100']\n",
      "1\n",
      "[]\n"
     ]
    }
   ],
   "source": [
    "DEFAULT_USER_COUNT = 3\n",
    "def delete_and_return_last_user(region, default_list=['A100', 'A101', 'A102']):\n",
    "    \"\"\"\n",
    "    Удаляет из списка default_list последнего пользователя и возвращает ID нового последнего пользователя.\n",
    "    \"\"\"\n",
    "    element_to_delete = default_list[-1]\n",
    "    default_list.remove(element_to_delete)\n",
    "    #return default_list[DEFAULT_USER_COUNT-2]\n",
    "    print(DEFAULT_USER_COUNT-2)\n",
    "    print(default_list)\n",
    "\n",
    "\n",
    "delete_and_return_last_user(1)\n",
    "delete_and_return_last_user(1)\n",
    "delete_and_return_last_user(1)"
   ]
  },
  {
   "cell_type": "markdown",
   "id": "d186f65b",
   "metadata": {},
   "source": [
    "1. функция возвращает всегда индекс 1 - константа DEFAULT_USER_COUNT - 2\n",
    "2. при вызове функции идет передача только первого параметра, второй параметр default_list принимается по-умолчанию\n",
    "3. при первом вызове фунции из списка удаляется последний элемент и возвращается элемент с индексом 1\n",
    "4. при втором вызове функции удаляется еще один элемент из этого же списка и фунция вылетает с ошибкой list index out of range - индекс диапазона вне списка, т.е. идет обращение к 1 индексу, а его в списке уже нет"
   ]
  },
  {
   "cell_type": "markdown",
   "id": "01c928a1",
   "metadata": {},
   "source": [
    "1. возвращать нужно не индекс 1, а индекс [-1], т.е. последний элемент списка\n",
    "2. предусмотреть проверку на нулевую длину списка\n",
    "3. возможно вставить блоки try except\n",
    "4. передавать в функцию список вторым параметром, а не работать со списком по-умолчанию"
   ]
  }
 ],
 "metadata": {
  "kernelspec": {
   "display_name": "Python 3",
   "language": "python",
   "name": "python3"
  },
  "language_info": {
   "codemirror_mode": {
    "name": "ipython",
    "version": 3
   },
   "file_extension": ".py",
   "mimetype": "text/x-python",
   "name": "python",
   "nbconvert_exporter": "python",
   "pygments_lexer": "ipython3",
   "version": "3.8.8"
  }
 },
 "nbformat": 4,
 "nbformat_minor": 5
}
