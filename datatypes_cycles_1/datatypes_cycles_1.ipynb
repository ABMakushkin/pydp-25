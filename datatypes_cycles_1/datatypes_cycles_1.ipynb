{
 "cells": [
  {
   "cell_type": "markdown",
   "id": "53e29b50",
   "metadata": {},
   "source": [
    "# Введение в типы данных и циклы. Часть 1"
   ]
  },
  {
   "cell_type": "markdown",
   "id": "e5ab026f",
   "metadata": {},
   "source": [
    "Задание 1\n",
    "Дана переменная, в которой хранится слово из латинских букв. Напишите код, который выводит на экран:\n",
    "\n",
    "среднюю букву, если число букв в слове нечетное;\n",
    "две средних буквы, если число букв четное."
   ]
  },
  {
   "cell_type": "code",
   "execution_count": 7,
   "id": "a67b60d8",
   "metadata": {},
   "outputs": [
    {
     "name": "stdout",
     "output_type": "stream",
     "text": [
      "Введите слово qw\n",
      "qw\n"
     ]
    }
   ],
   "source": [
    "word = input('Введите слово ')\n",
    "\n",
    "if len(word)%2 == 1:\n",
    "    t = len(word)//2\n",
    "    print(word[t:t+1])\n",
    "else:\n",
    "    t = len(word)//2 -1\n",
    "    print(word[t:t+2])\n",
    "\n"
   ]
  },
  {
   "cell_type": "markdown",
   "id": "c64f2bae",
   "metadata": {},
   "source": [
    "Задание 2\n",
    "Напишите программу, которая последовательно запрашивает у пользователя числа (по одному за раз) и после первого нуля выводит сумму всех ранее введенных чисел."
   ]
  },
  {
   "cell_type": "code",
   "execution_count": 4,
   "id": "d6bd0081",
   "metadata": {},
   "outputs": [
    {
     "name": "stdout",
     "output_type": "stream",
     "text": [
      "Введите число 4\n",
      "Введите число 2\n",
      "Введите число 0\n",
      "Результат:  6\n"
     ]
    }
   ],
   "source": [
    "num = int(input('Введите число '))\n",
    "s = 0\n",
    "\n",
    "while num != 0:\n",
    "    s = s + num\n",
    "    num = int(input('Введите число '))\n",
    "    \n",
    "print('Результат: ', s)"
   ]
  },
  {
   "cell_type": "markdown",
   "id": "4760e40f",
   "metadata": {},
   "source": [
    "Задание 3\n",
    "Мы делаем MVP dating-сервиса, и у нас есть список парней и девушек.\n",
    "Выдвигаем гипотезу: лучшие рекомендации мы получим, если просто отсортируем имена по алфавиту и познакомим людей с одинаковыми индексами после сортировки! Но мы не будем никого знакомить, если кто-то может остаться без пары:\n",
    "\n",
    "Примеры работы программы:\n",
    "\n",
    "boys = ['Peter', 'Alex', 'John', 'Arthur', 'Richard']\n",
    "girls = ['Kate', 'Liza', 'Kira', 'Emma', 'Trisha']\n",
    "Результат:\n",
    "\n",
    "Идеальные пары:  \n",
    "Alex и Emma  \n",
    "Arthur и Kate  \n",
    "John и Kira  \n",
    "Peter и Liza  \n",
    "Richard и Trisha\n",
    "boys = ['Peter', 'Alex', 'John', 'Arthur', 'Richard', 'Michael']\n",
    "girls = ['Kate', 'Liza', 'Kira', 'Emma', 'Trisha']\n",
    "Результат:\n",
    "Внимание, кто-то может остаться без пары!\n"
   ]
  },
  {
   "cell_type": "code",
   "execution_count": 26,
   "id": "79b245c9",
   "metadata": {},
   "outputs": [
    {
     "name": "stdout",
     "output_type": "stream",
     "text": [
      "Идеальные пары:\n",
      "Alex и Emma\n",
      "Arthur и Kate\n",
      "John и Kira\n",
      "Michael и Liza\n",
      "Peter и Trisha\n",
      "|--------------|\n",
      "Richard без пары \n"
     ]
    }
   ],
   "source": [
    "boys = ['Peter', 'Alex', 'John', 'Arthur', 'Richard', 'Michael']\n",
    "girls = ['Kate', 'Liza', 'Kira', 'Emma', 'Trisha']\n",
    "\n",
    "m = min(len(boys),len(girls)) #вычисляем какой список имеет минимальную длину\n",
    "print('Идеальные пары:')\n",
    "for i in range(m):\n",
    "    print(sorted(boys)[i] + ' и ' + sorted(girls)[i])\n",
    "\n",
    "print('|--------------|')\n",
    "    \n",
    "if len(boys) != m:\n",
    "    while i != len(boys) - 1:\n",
    "        print(sorted(boys)[i + 1] + ' без пары ')\n",
    "        i += 1\n",
    "else:\n",
    "    while i != len(girls) - 1:\n",
    "        print(sorted(girls)[i + 1] + ' без пары ')\n",
    "        i += 1"
   ]
  },
  {
   "cell_type": "markdown",
   "id": "93cf2ce5",
   "metadata": {},
   "source": [
    "Задание 4\n",
    "У нас есть список, содержащий информацию о среднедневной температуре в Фаренгейтах за произвольный период по странам (структура данных в примере). Необходимо написать код, который рассчитает среднюю температуру за период в Цельсиях(!) для каждой страны.\n",
    "\n",
    "Пример работы программы:\n",
    "\n",
    "countries_temperature = [\n",
    "    ['Thailand', [75.2, 77, 78.8, 73.4, 68, 75.2, 77]],\n",
    "    ['Germany', [57.2, 55.4, 59, 59, 53.6]],\n",
    "    ['Russia', [35.6, 37.4, 39.2, 41, 42.8, 39.2, 35.6]],\n",
    "    ['Poland', [50, 50, 53.6, 57.2, 55.4, 55.4]]\n",
    "]\n"
   ]
  },
  {
   "cell_type": "code",
   "execution_count": 45,
   "id": "4cc859e8",
   "metadata": {},
   "outputs": [
    {
     "name": "stdout",
     "output_type": "stream",
     "text": [
      "Средняя температура в странах: \n",
      "Thailand  -  23.9  C\n",
      "Germany  -  13.8  C\n",
      "Russia  -  3.7  C\n",
      "Poland  -  12.0  C\n"
     ]
    }
   ],
   "source": [
    "countries_temperature = [['Thailand', [75.2, 77, 78.8, 73.4, 68, 75.2, 77]],\n",
    "                         ['Germany', [57.2, 55.4, 59, 59, 53.6]], \n",
    "                         ['Russia', [35.6, 37.4, 39.2, 41, 42.8, 39.2, 35.6]], \n",
    "                         ['Poland', [50, 50, 53.6, 57.2, 55.4, 55.4]]]\n",
    "print('Средняя температура в странах: ')\n",
    "for i in countries_temperature:\n",
    "    tc = round((5/9)*((sum(i[1])/len(i[1]))-32), 1)\n",
    "    print(i[0], ' - ', tc, ' C')\n",
    "\n"
   ]
  },
  {
   "cell_type": "markdown",
   "id": "60fc2233",
   "metadata": {},
   "source": [
    "Задание 5 (необязательное)\n",
    "Дан поток логов по количеству просмотренных страниц для каждого пользователя. Вам необходимо написать алгоритм, который считает среднее значение просмотров на пользователя. Т. е. надо посчитать отношение суммы всех просмотров к количеству уникальных пользователей.\n",
    "\n",
    "Примеры работы программы:\n",
    "\n",
    "stream = [\n",
    "    '2018-01-01,user1,3',\n",
    "    '2018-01-07,user1,4',\n",
    "    '2018-03-29,user1,1',\n",
    "    '2018-04-04,user1,13',\n",
    "    '2018-01-05,user2,7',\n",
    "    '2018-06-14,user3,4',\n",
    "    '2018-07-02,user3,10',\n",
    "    '2018-03-21,user4,19',\n",
    "    '2018-03-22,user4,4',\n",
    "    '2018-04-22,user4,8',\n",
    "    '2018-05-03,user4,9',\n",
    "    '2018-05-11,user4,11',\n",
    "]\n",
    "Результат:\n",
    "Среднее количество просмотров на уникального пользователя: 23.25\n",
    "\n",
    "stream = [\n",
    "    '2018-01-01,user100,150',\n",
    "    '2018-01-07,user99,205',\n",
    "    '2018-03-29,user1001,81'\n",
    "]\n",
    "Результат:\n",
    "Среднее количество просмотров на уникального пользователя: 145.33"
   ]
  },
  {
   "cell_type": "code",
   "execution_count": 71,
   "id": "21047dff",
   "metadata": {},
   "outputs": [
    {
     "name": "stdout",
     "output_type": "stream",
     "text": [
      "Среднее количество просмотров на уникального пользователя:  23.25\n"
     ]
    }
   ],
   "source": [
    "stream1 = [\n",
    "    '2018-01-01,user1,3',\n",
    "    '2018-01-07,user1,4',\n",
    "    '2018-03-29,user1,1',\n",
    "    '2018-04-04,user1,13',\n",
    "    '2018-01-05,user2,7',\n",
    "    '2018-06-14,user3,4',\n",
    "    '2018-07-02,user3,10',\n",
    "    '2018-03-21,user4,19',\n",
    "    '2018-03-22,user4,4',\n",
    "    '2018-04-22,user4,8',\n",
    "    '2018-05-03,user4,9',\n",
    "    '2018-05-11,user4,11',\n",
    "]\n",
    "\n",
    "stream2 = [\n",
    "    '2018-01-01,user100,150',\n",
    "    '2018-01-07,user99,205',\n",
    "    '2018-03-29,user1001,81'\n",
    "]\n",
    "\n",
    "st = stream1 #Ссылка на обрабатываемый поток\n",
    "uniq = [] #Список уникальных пользователей в потоке\n",
    "sm = 0 #Сумма просмотров\n",
    "\n",
    "for i in st:\n",
    "    tmp = i.split(',')\n",
    "    sm = sm + int(tmp[2])\n",
    "    if tmp[1] not in uniq:\n",
    "        uniq.append(tmp[1])\n",
    "\n",
    "print('Среднее количество просмотров на уникального пользователя: ', round(sm / len(uniq), 2) )\n"
   ]
  },
  {
   "cell_type": "markdown",
   "id": "00d5874b",
   "metadata": {},
   "source": [
    "Задание 6 (необязательное)\n",
    "Необходимо у пользователя запрашивать набор чисел разделенных пробелом. В результате в отсортированном порядке должны выводиться числа, которые повторяются в вводе более одного раза.\n",
    "\n",
    "Примеры работы программы:\n",
    "\n",
    "Введите числа:\n",
    "4 8 0 3 4 2 0 3\n",
    "Результат:\n",
    "0 3 4\n",
    "\n",
    "Введите числа:\n",
    "1 1 2 2 3 3\n",
    "Результат:\n",
    "1 2 3\n",
    "\n",
    "Введите числа:\n",
    "10 15 15 103 200 200 200 1 1 1 1 1 2 2 2\n",
    "Результат:\n",
    "1 2 15 200"
   ]
  },
  {
   "cell_type": "code",
   "execution_count": 80,
   "id": "796bd675",
   "metadata": {},
   "outputs": [
    {
     "name": "stdout",
     "output_type": "stream",
     "text": [
      "Введите числа: 1 1 2 2 3 3 \n",
      "['1', '2', '3']\n"
     ]
    }
   ],
   "source": [
    "str = input('Введите числа: ')\n",
    "\n",
    "str = str.split(' ')\n",
    "out = [] #выходной список\n",
    "\n",
    "for i in str:\n",
    "    if str.count(i) > 1 and i not in out:\n",
    "        out.append(i)\n",
    "        \n",
    "print(sorted(out))"
   ]
  }
 ],
 "metadata": {
  "kernelspec": {
   "display_name": "Python 3",
   "language": "python",
   "name": "python3"
  },
  "language_info": {
   "codemirror_mode": {
    "name": "ipython",
    "version": 3
   },
   "file_extension": ".py",
   "mimetype": "text/x-python",
   "name": "python",
   "nbconvert_exporter": "python",
   "pygments_lexer": "ipython3",
   "version": "3.8.8"
  }
 },
 "nbformat": 4,
 "nbformat_minor": 5
}
