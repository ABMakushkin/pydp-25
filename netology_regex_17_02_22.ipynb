{
 "cells": [
  {
   "cell_type": "markdown",
   "metadata": {
    "id": "T14fj_LH_mVr"
   },
   "source": [
    "# Регулярные выражения\n",
    "\n",
    "Булыгин Олег  \n",
    "\n",
    "* [LinkedIn](linkedin.com/in/obulygin)  \n",
    "* [Telegram](https://t.me/obulygin91)  \n",
    "* [facebook](fb.com/obulygin91)  \n",
    "* [Vk](vk.com/obulygin91)  \n",
    "* email: obulygin91@ya.ru  \n",
    "\n",
    "[Сообщество по Python](https://yandex.ru/q/loves/pythontalk/) на Кью  \n",
    "[Сообщество по Data Science и анализу данных](https://yandex.ru/q/loves/datatalk/) на Кью  "
   ]
  },
  {
   "cell_type": "code",
   "execution_count": 3,
   "metadata": {
    "id": "WxQkHgKD_hy5"
   },
   "outputs": [],
   "source": [
    "import re"
   ]
  },
  {
   "cell_type": "code",
   "execution_count": 2,
   "metadata": {
    "id": "mCafPRzv_hy9"
   },
   "outputs": [],
   "source": [
    "# найдем идентификаторы пользователей в тексте\n",
    "msg = 'В розыгрыше победили: id1234563, id4653, id461'"
   ]
  },
  {
   "cell_type": "code",
   "execution_count": 3,
   "metadata": {
    "id": "mvfyZlvS_hy-"
   },
   "outputs": [
    {
     "data": {
      "text/plain": [
       "['id1234563', 'id4653', 'id461']"
      ]
     },
     "execution_count": 3,
     "metadata": {},
     "output_type": "execute_result"
    }
   ],
   "source": [
    "re.findall(r'id\\d+', msg)"
   ]
  },
  {
   "cell_type": "code",
   "execution_count": 5,
   "metadata": {
    "id": "38hqT0YP_hzA"
   },
   "outputs": [],
   "source": [
    "# ПРАКТИКА. Найдем хэштеги в твите\n",
    "tweet = 'когда #эпидемия, то обязательно #оставайсядома'"
   ]
  },
  {
   "cell_type": "code",
   "execution_count": 7,
   "metadata": {
    "id": "QYLyEyPF_hzB"
   },
   "outputs": [
    {
     "data": {
      "text/plain": [
       "['#эпидемия', '#оставайсядома']"
      ]
     },
     "execution_count": 7,
     "metadata": {},
     "output_type": "execute_result"
    }
   ],
   "source": [
    "re.findall(r'#\\w+', tweet)"
   ]
  },
  {
   "cell_type": "markdown",
   "metadata": {
    "id": "0R7hBBVBBiI7"
   },
   "source": []
  },
  {
   "cell_type": "code",
   "execution_count": null,
   "metadata": {
    "id": "QdLpzlNB_hzB"
   },
   "outputs": [],
   "source": [
    "# посмотрим внимательнее, как работают quantifiers\n",
    "text = \"\"\"Что такое регулярные выражения и как их использовать? \n",
    "Говоря простым языком, регулярное выражение — это последовательность символов, используемая для поиска и замены текста в строке или файле. Как уже было упомянуто,\\\n",
    "их поддерживает множество языков общего назначения: Python, Perl, R.\n",
    "Так что изучение регулярных выражений рано или поздно пригодится.\"\"\""
   ]
  },
  {
   "cell_type": "code",
   "execution_count": null,
   "metadata": {
    "id": "R9VklNwz_hzC",
    "scrolled": true
   },
   "outputs": [],
   "source": [
    "re.findall(r'\\w+', text)"
   ]
  },
  {
   "cell_type": "code",
   "execution_count": null,
   "metadata": {
    "id": "C9ofKbAc_hzC"
   },
   "outputs": [],
   "source": [
    "re.findall(r'\\w*', text)"
   ]
  },
  {
   "cell_type": "code",
   "execution_count": null,
   "metadata": {
    "id": "WRBcmiin_hzD",
    "scrolled": false
   },
   "outputs": [],
   "source": [
    "print(re.findall(r'\\w?', text))"
   ]
  },
  {
   "cell_type": "code",
   "execution_count": null,
   "metadata": {
    "id": "I4FpQWdw_hzE"
   },
   "outputs": [],
   "source": []
  },
  {
   "cell_type": "code",
   "execution_count": null,
   "metadata": {
    "id": "qGntw1Qd_hzE"
   },
   "outputs": [],
   "source": [
    "# необходимо из строки с условными датами вытащить их\n",
    "registration = 'Date of start: 4-12. Date of registration: 20-11'"
   ]
  },
  {
   "cell_type": "code",
   "execution_count": null,
   "metadata": {
    "id": "cASR3icl_hzF"
   },
   "outputs": [],
   "source": [
    "re.findall(r'\\d{1,2}-\\d{1,2}', registration)"
   ]
  },
  {
   "cell_type": "code",
   "execution_count": null,
   "metadata": {
    "id": "zU0_MXp2_hzF"
   },
   "outputs": [],
   "source": []
  },
  {
   "cell_type": "code",
   "execution_count": null,
   "metadata": {
    "id": "ln3Z3Q3O_hzG"
   },
   "outputs": [],
   "source": [
    "# вытащим номера телефонов и текста\n",
    "phone_numbers = 'Мария: 8-943-342-23-32 Александр: 8-323-432-23-67'"
   ]
  },
  {
   "cell_type": "code",
   "execution_count": null,
   "metadata": {
    "id": "tbUFSSXU_hzG"
   },
   "outputs": [],
   "source": [
    "phone_pattern = r'\\d-\\d{3}-\\d{3}-\\d{2}-\\d{2}'\n",
    "re.findall(phone_pattern, phone_numbers)"
   ]
  },
  {
   "cell_type": "code",
   "execution_count": null,
   "metadata": {
    "id": "4UrQtkT1_hzH"
   },
   "outputs": [],
   "source": []
  },
  {
   "cell_type": "code",
   "execution_count": null,
   "metadata": {
    "id": "zqii2BFP_hzH",
    "scrolled": true
   },
   "outputs": [],
   "source": [
    "# ПРАКТИКА. Свалидируем дату\n",
    "date = 'some text 1st september 2019 07:25 some text'\n",
    "re.findall(r'\\d{1,2} \\w{2} \\w+')"
   ]
  },
  {
   "cell_type": "code",
   "execution_count": null,
   "metadata": {
    "id": "0jQLCAS4_hzH"
   },
   "outputs": [],
   "source": []
  },
  {
   "cell_type": "markdown",
   "metadata": {
    "id": "kXjJXj5hBkBj"
   },
   "source": []
  },
  {
   "cell_type": "code",
   "execution_count": null,
   "metadata": {
    "id": "DHp1uMnM_hzI"
   },
   "outputs": [],
   "source": [
    "# search ищет по всей строке, а match только в начале\n",
    "text = \"\"\"Что такое регулярные выражения и как их использовать? \n",
    "Говоря простым языком, регулярное выражение — это последовательность символов, используемая для поиска и замены текста в строке или файле. Как уже было упомянуто,\\\n",
    "их поддерживает множество языков общего назначения: Python, Perl, R.\n",
    "Так что изучение регулярных выражений рано или поздно пригодится.\"\"\"\n",
    "\n",
    "result = re.match(r'P\\w+', text)\n",
    "result\n",
    "print('Нашел' if result else 'Не нашел')"
   ]
  },
  {
   "cell_type": "code",
   "execution_count": null,
   "metadata": {
    "id": "uM3JJ1eR_hzI"
   },
   "outputs": [],
   "source": [
    "re.match(r'\\w+', text)"
   ]
  },
  {
   "cell_type": "code",
   "execution_count": null,
   "metadata": {
    "id": "Js-pRNcy_hzJ"
   },
   "outputs": [],
   "source": [
    "res = re.search(r'P\\w+', text)\n",
    "# res.end()\n",
    "res.group()\n",
    "# res"
   ]
  },
  {
   "cell_type": "code",
   "execution_count": null,
   "metadata": {
    "id": "8BP4XUVO_hzJ"
   },
   "outputs": [],
   "source": []
  },
  {
   "cell_type": "code",
   "execution_count": null,
   "metadata": {
    "id": "sWzhv7xE_hzJ"
   },
   "outputs": [],
   "source": [
    "# экранирование\n",
    "text = \"Эта строка написана 08.06.2021, а могла бы и 01.01.2999\""
   ]
  },
  {
   "cell_type": "code",
   "execution_count": null,
   "metadata": {
    "id": "MJGyV901_hzK"
   },
   "outputs": [],
   "source": [
    "re.findall(r'\\d\\d\\.\\d\\d\\.\\d{4}', text)"
   ]
  },
  {
   "cell_type": "code",
   "execution_count": null,
   "metadata": {
    "id": "iSKV6Rqc_hzK"
   },
   "outputs": [],
   "source": [
    "# определим находится ли домен в зоне com\n",
    "domain = 'www.site.com'"
   ]
  },
  {
   "cell_type": "code",
   "execution_count": null,
   "metadata": {
    "id": "m3h4l64J_hzK"
   },
   "outputs": [],
   "source": [
    "re.findall(r'www\\..+\\.com', domain)"
   ]
  },
  {
   "cell_type": "code",
   "execution_count": null,
   "metadata": {
    "id": "3Fgjt-hA_hzL"
   },
   "outputs": [],
   "source": [
    "# поищем только в начале и конце строки\n",
    "history_comment = '20 век был более опасным, чем 19 век'"
   ]
  },
  {
   "cell_type": "code",
   "execution_count": null,
   "metadata": {
    "id": "mBANMW7F_hzL"
   },
   "outputs": [],
   "source": [
    "re.findall(r'\\d{1,2}\\sвек', history_comment)"
   ]
  },
  {
   "cell_type": "code",
   "execution_count": null,
   "metadata": {
    "id": "cxBFLGqF_hzM"
   },
   "outputs": [],
   "source": [
    "re.findall(r'^\\d{1,2}\\sвек', history_comment)"
   ]
  },
  {
   "cell_type": "code",
   "execution_count": null,
   "metadata": {
    "id": "RHLmO7nh_hzN"
   },
   "outputs": [],
   "source": [
    "re.findall(r'\\d{1,2}\\sвек$', history_comment)"
   ]
  },
  {
   "cell_type": "code",
   "execution_count": null,
   "metadata": {
    "id": "rbbiCwSt_hzN"
   },
   "outputs": [],
   "source": []
  },
  {
   "cell_type": "code",
   "execution_count": null,
   "metadata": {
    "id": "UYt4Ie2p_hzN"
   },
   "outputs": [],
   "source": [
    "# ИЛИ\n",
    "market_search = 'Что лучше: ноутбук или компьютер?'\n",
    "re.findall('ноутбук|компьютер', market_search)"
   ]
  },
  {
   "cell_type": "code",
   "execution_count": null,
   "metadata": {
    "id": "QA_LkF74_hzO"
   },
   "outputs": [],
   "source": [
    "text = '    Тут текст в который попали пробельные символы в начале и в конце, от которых нужно избавиться   ' \n",
    "\n",
    "re.sub(r'^\\s+|\\s+$', '', text) "
   ]
  },
  {
   "cell_type": "code",
   "execution_count": null,
   "metadata": {
    "id": "WJUKoWcN_hzO"
   },
   "outputs": [],
   "source": []
  },
  {
   "cell_type": "code",
   "execution_count": null,
   "metadata": {
    "id": "rfzOaAqP_hzP"
   },
   "outputs": [],
   "source": [
    "# [] - найдем слово во всем склонениях\n",
    "text = \"\"\"Что такое регулярные выражения и как их использовать? \n",
    "Говоря простым языком, регулярное выражение — это последовательность символов, используемая для поиска и замены текста в строке или файле. Как уже было упомянуто,\n",
    "их поддерживает множество языков общего назначения: Python, Perl, R.\n",
    "Так что изучение регулярных выражений рано или поздно пригодится.\"\"\"\n",
    "pattern = r'регулярн[а-я]+\\sвыражен[а-я]+'\n",
    "re.findall(pattern, text)"
   ]
  },
  {
   "cell_type": "code",
   "execution_count": null,
   "metadata": {
    "id": "tlzH1TFZ_hzQ"
   },
   "outputs": [],
   "source": []
  },
  {
   "cell_type": "code",
   "execution_count": null,
   "metadata": {
    "id": "M8NQrHsJ_hzR"
   },
   "outputs": [],
   "source": [
    "# найдем все домены, которые состоят из цифр\n",
    "websites = 'www.101.com  www.google.com'"
   ]
  },
  {
   "cell_type": "code",
   "execution_count": null,
   "metadata": {
    "id": "Q-e3ERl2_hzR"
   },
   "outputs": [],
   "source": [
    "re.findall(r'www\\.[0-9]+\\.com', websites)"
   ]
  },
  {
   "cell_type": "code",
   "execution_count": null,
   "metadata": {
    "id": "edYU_HDW_hzR"
   },
   "outputs": [],
   "source": [
    "websites = 'www.101.com  www.google.com'"
   ]
  },
  {
   "cell_type": "code",
   "execution_count": null,
   "metadata": {
    "id": "plq39Hbe_hzR"
   },
   "outputs": [],
   "source": [
    "re.findall(r'www\\.[^0-9]+\\.com', websites)"
   ]
  },
  {
   "cell_type": "code",
   "execution_count": null,
   "metadata": {
    "id": "9MVX6FV6_hzS"
   },
   "outputs": [],
   "source": []
  },
  {
   "cell_type": "code",
   "execution_count": null,
   "metadata": {
    "id": "_eJo-m10_hzS"
   },
   "outputs": [],
   "source": [
    "# split\n",
    "columns = 'Столбец1,Столбец2;Столбец3, Столбец4; Столбец5'\n",
    "re.split(r'[,;]\\s?', columns)"
   ]
  },
  {
   "cell_type": "code",
   "execution_count": null,
   "metadata": {
    "id": "_tiEjOyJ_hzS"
   },
   "outputs": [],
   "source": []
  },
  {
   "cell_type": "code",
   "execution_count": null,
   "metadata": {
    "id": "dGqHFMNR_hzT"
   },
   "outputs": [],
   "source": [
    "# произведем замену на regex\n",
    "text = \"\"\"Что такое регулярные выражения и как их использовать? \n",
    "Говоря простым языком, регулярное выражение — это последовательность символов, используемая для поиска и замены текста в строке или файле. Как уже было упомянуто,\n",
    "их поддерживает множество языков общего назначения: Python, Perl, R.\n",
    "Так что изучение регулярных выражений рано или поздно пригодится.\"\"\"\n",
    "\n",
    "print(re.sub(r'регулярн[а-я]+ выражен[а-я]+', 'regex', text))"
   ]
  },
  {
   "cell_type": "code",
   "execution_count": null,
   "metadata": {
    "id": "vEXnaRol_hzT"
   },
   "outputs": [],
   "source": [
    "text = \"Некоторые обычные слова подозрительны: хор, хук, хек.\" \n",
    "print(re.sub(r'\\b[хХ]\\w{2}\\b', 'censored', text)) "
   ]
  },
  {
   "cell_type": "code",
   "execution_count": 8,
   "metadata": {
    "id": "JC8bnaBk_hzT"
   },
   "outputs": [],
   "source": [
    "# Практика. Удалим все знаки пунктуации из текста через sub\n",
    "text = \"\"\"Что такое регулярные выражения и как их использовать? \n",
    "Говоря простым языком, регулярное выражение — это последовательность символов, используемая для поиска и замены текста в строке или файле. Как уже было упомянуто,\n",
    "их поддерживает множество языков общего назначения: Python, Perl, R.\n",
    "Так что изучение регулярных выражений рано или поздно пригодится.\"\"\""
   ]
  },
  {
   "cell_type": "code",
   "execution_count": null,
   "metadata": {
    "id": "fks9ubDa_hzU"
   },
   "outputs": [],
   "source": [
    "print(re.sub(r'[,.!?]', '', text))"
   ]
  },
  {
   "cell_type": "markdown",
   "metadata": {
    "id": "ar8N3rykBnvu"
   },
   "source": []
  },
  {
   "cell_type": "code",
   "execution_count": null,
   "metadata": {
    "id": "VzI26XiV_hzU"
   },
   "outputs": [],
   "source": [
    "# скобочные группы\n",
    "# выделим группы символов из посадочного талона, где:\n",
    "# - первые 2 символа - это авиакомпания;\n",
    "# - 4 следующие символа - номер рейса;\n",
    "# - 3 следующих символа - аэропорт отправления;\n",
    "# - 3 следюущих - аэропорт прибытия;\n",
    "# - оставшиеся - дата рейса\n",
    "# Все буквы всегда в верхнем регистре"
   ]
  },
  {
   "cell_type": "code",
   "execution_count": null,
   "metadata": {
    "id": "LlGOJfFT_hzV"
   },
   "outputs": [],
   "source": [
    "flight = '''Boarding pass: \n",
    "LA4214 AER-CDB 06NOV \n",
    "LA4332 AER-CDB 07NOV\n",
    "'''"
   ]
  },
  {
   "cell_type": "code",
   "execution_count": null,
   "metadata": {
    "id": "bjec5-PB_hzV"
   },
   "outputs": [],
   "source": [
    "regex_flight = r'([A-Z]{2})(\\d{4})\\s([A-Z]{3})-([A-Z]{3})\\s(\\d{2}[A-Z]{3})'"
   ]
  },
  {
   "cell_type": "code",
   "execution_count": null,
   "metadata": {
    "id": "K90yhL6J_hzV"
   },
   "outputs": [],
   "source": [
    "# ВНИМАНИЕ! При наличии скобочных групп функция find_all ищет только их! \n",
    "# Остальные функции получают такой-же match объект, в котором есть возможность обратиться к любой группе\n",
    "flight_result = re.findall(regex_flight, flight)"
   ]
  },
  {
   "cell_type": "code",
   "execution_count": null,
   "metadata": {
    "id": "FtPQ5puv_hzW"
   },
   "outputs": [],
   "source": [
    "print(flight_result)"
   ]
  },
  {
   "cell_type": "code",
   "execution_count": null,
   "metadata": {
    "id": "DW-PG4mp_hzW"
   },
   "outputs": [],
   "source": [
    "flight_match_result = re.search(regex_flight, flight)\n",
    "print(flight_match_result)\n",
    "print(flight_match_result.group(3))"
   ]
  },
  {
   "cell_type": "code",
   "execution_count": null,
   "metadata": {
    "id": "dKRzXYJI_hzW"
   },
   "outputs": [],
   "source": [
    "# переведем даты к другому формату при помощи групп\n",
    "date = 'some text 08/30/1991 some text'\n",
    "re.sub(r'(\\d\\d)/(\\d\\d)/(\\d{4})', r'\\2.\\1.\\3', date)"
   ]
  },
  {
   "cell_type": "code",
   "execution_count": 1,
   "metadata": {
    "id": "Igp0COzW_hzX"
   },
   "outputs": [],
   "source": [
    "# удалим последовательные повторы цифр\n",
    "numbers = '44444555 6666 8888 7777 44445467457547457555555'"
   ]
  },
  {
   "cell_type": "code",
   "execution_count": 4,
   "metadata": {
    "id": "zCGLQ2Dg_hzX"
   },
   "outputs": [
    {
     "data": {
      "text/plain": [
       "'45 6 8 7 454674575474575'"
      ]
     },
     "execution_count": 4,
     "metadata": {},
     "output_type": "execute_result"
    }
   ],
   "source": [
    "re.sub(r'(\\d)\\1+', r'\\1', numbers)"
   ]
  },
  {
   "cell_type": "code",
   "execution_count": null,
   "metadata": {
    "id": "daNJpfTe_hzX"
   },
   "outputs": [],
   "source": []
  },
  {
   "cell_type": "code",
   "execution_count": null,
   "metadata": {
    "id": "RBGewGNf_hzY"
   },
   "outputs": [],
   "source": [
    "# ПРАКТИКА. Посчитаем количество лайков и репостов по всем сообщениям\n",
    "messages = ['Опять дождь! Лайков: 2', 'Крутой был концерт 21 августа! Лайков: 28, Репостов: 22']"
   ]
  },
  {
   "cell_type": "code",
   "execution_count": null,
   "metadata": {
    "id": "gQfec0rL_hzY"
   },
   "outputs": [],
   "source": []
  },
  {
   "cell_type": "code",
   "execution_count": null,
   "metadata": {
    "id": "kBnKnsiG_hzY"
   },
   "outputs": [],
   "source": []
  },
  {
   "cell_type": "code",
   "execution_count": null,
   "metadata": {
    "id": "JpYcMJ7N_hzY"
   },
   "outputs": [],
   "source": [
    "# Флаги\n",
    "text = \"\"\"Что такое регулярные выражения и как их использовать? \n",
    "Говоря простым языком, регулярное выражение — это последовательность символов, используемая для поиска и замены текста в строке или файле. Как уже было упомянуто,\n",
    "их поддерживает множество языков общего назначения: Python, Perl, R.\n",
    "Так что изучение регулярных выражений рано или поздно пригодится.\"\"\""
   ]
  },
  {
   "cell_type": "code",
   "execution_count": null,
   "metadata": {
    "id": "9BJwqTt8_hzZ"
   },
   "outputs": [],
   "source": [
    "print(re.findall(r'[a-z]+', text)) \n",
    "print(re.findall(r'[a-z]+', text, flags=re.IGNORECASE)) "
   ]
  },
  {
   "cell_type": "code",
   "execution_count": null,
   "metadata": {
    "id": "p7mS82iG_hzZ"
   },
   "outputs": [],
   "source": [
    "# print(re.findall(r'^\\w+', text)) \n",
    "print(re.findall(r'^\\w+', text, flags=re.MULTILINE)) "
   ]
  },
  {
   "cell_type": "code",
   "execution_count": null,
   "metadata": {
    "id": "ubIcC-fr_hzZ"
   },
   "outputs": [],
   "source": []
  },
  {
   "cell_type": "code",
   "execution_count": null,
   "metadata": {
    "id": "MAIeq0qM_hza"
   },
   "outputs": [],
   "source": [
    "# lookaround. Достанем имена только загруженных файлов\n",
    "report = 'файл 11.txt загружен, файл 22.txt загружен, файл 33.txt ошибка 44345, файл 44.txt ошибка 43535'\n",
    "# find_downloaded = r'\\d+\\.txt(?=\\sзагружен)'\n",
    "files_error = r'\\d+\\.txt(?!\\sзагружен)'\n",
    "# re.findall(find_downloaded, report)\n",
    "re.findall(files_error, report)"
   ]
  },
  {
   "cell_type": "code",
   "execution_count": null,
   "metadata": {
    "id": "LIjlIz6q_hza"
   },
   "outputs": [],
   "source": []
  },
  {
   "cell_type": "code",
   "execution_count": 9,
   "metadata": {
    "id": "zOxfkL8L_hza"
   },
   "outputs": [],
   "source": [
    "# ПРАКТИКА. Получить только рублевые цены\n",
    "prices = 'RUB4.44, RUB10.88, EUR0.99, RUB99.99'"
   ]
  },
  {
   "cell_type": "code",
   "execution_count": 10,
   "metadata": {
    "id": "eA3B1dhK_hza"
   },
   "outputs": [
    {
     "ename": "SyntaxError",
     "evalue": "invalid syntax (<ipython-input-10-643bbba51a50>, line 1)",
     "output_type": "error",
     "traceback": [
      "\u001b[1;36m  File \u001b[1;32m\"<ipython-input-10-643bbba51a50>\"\u001b[1;36m, line \u001b[1;32m1\u001b[0m\n\u001b[1;33m    rub = (?<=RUB)r'\\d+\\.\\d+'\u001b[0m\n\u001b[1;37m           ^\u001b[0m\n\u001b[1;31mSyntaxError\u001b[0m\u001b[1;31m:\u001b[0m invalid syntax\n"
     ]
    }
   ],
   "source": [
    "rub = (?<=RUB)r'\\d+\\.\\d+'"
   ]
  },
  {
   "cell_type": "markdown",
   "metadata": {
    "id": "WiWg81tWHz2b"
   },
   "source": [
    "https://regexcrossword.com/howtoplay"
   ]
  },
  {
   "cell_type": "code",
   "execution_count": null,
   "metadata": {},
   "outputs": [],
   "source": []
  },
  {
   "cell_type": "code",
   "execution_count": null,
   "metadata": {},
   "outputs": [],
   "source": []
  },
  {
   "cell_type": "code",
   "execution_count": 22,
   "metadata": {},
   "outputs": [
    {
     "data": {
      "text/plain": [
       "['\\\\w']"
      ]
     },
     "execution_count": 22,
     "metadata": {},
     "output_type": "execute_result"
    }
   ],
   "source": [
    "text  =  \"За что отвечает символ \\w в питоне?\"\n",
    "re.findall(r'\\\\w', text)"
   ]
  },
  {
   "cell_type": "markdown",
   "metadata": {
    "id": "4bInRY3OHWNB"
   },
   "source": [
    "Регулярные\n",
    "выражения\n",
    "Сборник рецептов\n",
    "2015\n",
    "Ян Гойвертс,\n",
    "Стивен\n",
    "Левитан"
   ]
  }
 ],
 "metadata": {
  "colab": {
   "collapsed_sections": [],
   "name": "netology_regex_17_02_22.ipynb",
   "provenance": []
  },
  "kernelspec": {
   "display_name": "Python 3",
   "language": "python",
   "name": "python3"
  },
  "language_info": {
   "codemirror_mode": {
    "name": "ipython",
    "version": 3
   },
   "file_extension": ".py",
   "mimetype": "text/x-python",
   "name": "python",
   "nbconvert_exporter": "python",
   "pygments_lexer": "ipython3",
   "version": "3.8.8"
  }
 },
 "nbformat": 4,
 "nbformat_minor": 1
}
