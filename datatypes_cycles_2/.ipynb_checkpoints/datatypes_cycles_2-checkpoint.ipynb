{
 "cells": [
  {
   "cell_type": "markdown",
   "id": "19e33c2b",
   "metadata": {},
   "source": [
    "# Домашнее задание \"Введение в типы данных и циклы. Часть 2\""
   ]
  },
  {
   "cell_type": "markdown",
   "id": "32462c0c",
   "metadata": {},
   "source": [
    "Задание 1.\n",
    "Дана переменная, в которой хранится словарь, содержащий гео-метки для каждого пользователя (пример структуры данных приведен \n",
    "ниже). Вам необходимо написать программу, которая выведет на экран множество уникальных гео-меток всех пользователей.\n",
    "\n",
    "Пример работы программы:\n",
    "\n",
    "ids = {'user1': [213, 213, 213, 15, 213], \n",
    "       'user2': [54, 54, 119, 119, 119], \n",
    "       'user3': [213, 98, 98, 35]}\n",
    "Результат: {98, 35, 15, 213, 54, 119}"
   ]
  },
  {
   "cell_type": "code",
   "execution_count": 44,
   "id": "bbf7d277",
   "metadata": {},
   "outputs": [
    {
     "data": {
      "text/plain": [
       "{15, 35, 54, 98, 119, 213}"
      ]
     },
     "execution_count": 44,
     "metadata": {},
     "output_type": "execute_result"
    }
   ],
   "source": [
    "ids = {'user1': [213, 213, 213, 15, 213], 'user2': [54, 54, 119, 119, 119], 'user3': [213, 98, 98, 35]}\n",
    "\n",
    "out = []\n",
    "\n",
    "for i in ids.values():\n",
    "    out += i\n",
    "    \n",
    "set(out)"
   ]
  },
  {
   "cell_type": "markdown",
   "id": "e737bb6e",
   "metadata": {},
   "source": [
    "Задание 2\n",
    "Дана переменная, в которой хранится список поисковых запросов пользователя (пример структуры данных приведен ниже). Вам необходимо написать программу, которая выведет на экран распределение количества слов в запросах в требуемом виде.\n",
    "\n",
    "Пример работы программы:\n",
    "\n",
    "queries = [\n",
    "    'смотреть сериалы онлайн',\n",
    "    'новости спорта',\n",
    "    'афиша кино',\n",
    "    'курс доллара',\n",
    "    'сериалы этим летом',\n",
    "    'курс по питону',\n",
    "    'сериалы про спорт',\n",
    "]\n",
    "Результат:\n",
    "\n",
    "Поисковых запросов, содержащих 2 слов(а): 42.86%\n",
    "Поисковых запросов, содержащих 3 слов(а): 57.14%"
   ]
  },
  {
   "cell_type": "code",
   "execution_count": 79,
   "id": "a0cb47c3",
   "metadata": {},
   "outputs": [
    {
     "name": "stdout",
     "output_type": "stream",
     "text": [
      "Поисковых запросов, содержащих 2 слов(а):  42.86% \n",
      "Поисковых запросов, содержащих 3 слов(а):  57.14%\n"
     ]
    }
   ],
   "source": [
    "queries = [ 'смотреть сериалы онлайн', 'новости спорта', 'афиша кино', 'курс доллара', 'сериалы этим летом', 'курс по питону', 'сериалы про спорт', ]\n",
    "\n",
    "two = 0 #счетчик запросов из двух слов\n",
    "three = 0 #счетчик запросов из трех слов\n",
    "\n",
    "for i in queries:\n",
    "    if len(i.split(' ')) == 2:\n",
    "        two += 1 \n",
    "    elif len(i.split(' ')) == 3:\n",
    "        three +=1\n",
    "\n",
    "two_p = str(round(two * 100 / len(queries), 2)) + '%'\n",
    "three_p = str(round(three * 100 / len(queries), 2)) + '%'\n",
    "        \n",
    "print('Поисковых запросов, содержащих 2 слов(а): ', two_p, '\\nПоисковых запросов, содержащих 3 слов(а): ', three_p)"
   ]
  },
  {
   "cell_type": "markdown",
   "id": "45c60e61",
   "metadata": {},
   "source": [
    "Задание 3\n",
    "Дана переменная, в которой хранится информация о затратах и доходе рекламных кампаний по различным источникам. Необходимо дополнить исходную структуру показателем ROI, который рассчитаем по формуле: (revenue / cost - 1) * 100\n",
    "\n",
    "Пример работы программы:\n",
    "\n",
    "results = {\n",
    "    'vk': {'revenue': 103, 'cost': 98},\n",
    "    'yandex': {'revenue': 179, 'cost': 153},\n",
    "    'facebook': {'revenue': 103, 'cost': 110},\n",
    "    'adwords': {'revenue': 35, 'cost': 34},\n",
    "    'twitter': {'revenue': 11, 'cost': 24},\n",
    "}\n",
    "Результат:\n",
    "\n",
    "{'adwords': {'revenue': 35, 'cost': 34, 'ROI': 2.94},\n",
    " 'facebook': {'revenue': 103, 'cost': 110, 'ROI': -6.36},\n",
    " 'twitter': {'revenue': 11, 'cost': 24, 'ROI': -54.17},\n",
    " 'vk': {'revenue': 103, 'cost': 98, 'ROI': 5.1},\n",
    " 'yandex': {'revenue': 179, 'cost': 153, 'ROI': 16.99}}"
   ]
  },
  {
   "cell_type": "code",
   "execution_count": 96,
   "id": "26a75219",
   "metadata": {},
   "outputs": [
    {
     "data": {
      "text/plain": [
       "{'vk': {'revenue': 103, 'cost': 98, 'ROI': 5.1},\n",
       " 'yandex': {'revenue': 179, 'cost': 153, 'ROI': 16.99},\n",
       " 'facebook': {'revenue': 103, 'cost': 110, 'ROI': -6.36},\n",
       " 'adwords': {'revenue': 35, 'cost': 34, 'ROI': 2.94},\n",
       " 'twitter': {'revenue': 11, 'cost': 24, 'ROI': -54.17}}"
      ]
     },
     "execution_count": 96,
     "metadata": {},
     "output_type": "execute_result"
    }
   ],
   "source": [
    "results = { 'vk': {'revenue': 103, 'cost': 98}, 'yandex': {'revenue': 179, 'cost': 153}, 'facebook': {'revenue': 103, 'cost': 110}, 'adwords': {'revenue': 35, 'cost': 34}, 'twitter': {'revenue': 11, 'cost': 24}, }\n",
    "\n",
    "for i in results.values():\n",
    "    i['ROI'] = round((i['revenue'] / i['cost'] - 1) * 100, 2)\n",
    "\n",
    "results"
   ]
  },
  {
   "cell_type": "markdown",
   "id": "9da20f54",
   "metadata": {},
   "source": [
    "Задание 4\n",
    "Дана переменная, в которой хранится статистика рекламных каналов по объемам продаж (пример структуры данных приведен ниже). Напишите программу, которая возвращает название канала с максимальным объемом продаж.\n",
    "\n",
    "Пример работы программы:\n",
    "\n",
    "stats = {'facebook': 55, 'yandex': 115, 'vk': 120, 'google': 99, 'email': 42, 'ok': 98}\n",
    "\n",
    "Результат: Максимальный объем продаж на рекламном канале: vk"
   ]
  },
  {
   "cell_type": "code",
   "execution_count": 104,
   "id": "7ff3730a",
   "metadata": {},
   "outputs": [
    {
     "name": "stdout",
     "output_type": "stream",
     "text": [
      "vk\n"
     ]
    }
   ],
   "source": [
    "stats = {'facebook': 55, 'yandex': 115, 'vk': 120, 'google': 99, 'email': 42, 'ok': 98}\n",
    "\n",
    "max_name = ''\n",
    "max_value = 0\n",
    "\n",
    "for mn, mv  in stats.items():\n",
    "    if mv > max_value:\n",
    "        max_value = mv\n",
    "        max_name = mn\n",
    "        \n",
    "print(max_name)"
   ]
  },
  {
   "cell_type": "markdown",
   "id": "35ffc999",
   "metadata": {},
   "source": [
    "Задание 5 (необязательно)\n",
    "Дан список произвольной длины. Необходимо написать код, который на основе исходного списка составит словарь такого уровня вложенности, какова длина исхондого списка.\n",
    "\n",
    "Примеры работы программы:\n",
    "\n",
    "my_list = ['2018-01-01', 'yandex', 'cpc', 100]\n",
    "Результат: {'2018-01-01': {'yandex': {'cpc': 100}}}\n",
    "\n",
    "my_list = ['a', 'b', 'c', 'd', 'e', 'f']\n",
    "Результат: {'a': {'b': {'c': {'d': {'e': 'f'}}}}}\n",
    "\n"
   ]
  },
  {
   "cell_type": "code",
   "execution_count": 137,
   "id": "f83f457a",
   "metadata": {},
   "outputs": [
    {
     "name": "stdout",
     "output_type": "stream",
     "text": [
      "{'a': {'b': {'c': {'d': {'e': 'f'}}}}}\n"
     ]
    }
   ],
   "source": [
    "import copy\n",
    "\n",
    "my_list = ['a', 'b', 'c', 'd', 'e', 'f']\n",
    "\n",
    "out = {}\n",
    "\n",
    "my_list.reverse()\n",
    "\n",
    "out[my_list[1]] = my_list[0]\n",
    "\n",
    "for i in my_list[2:]:\n",
    "    tmp = copy.copy(out)\n",
    "    out = {}\n",
    "    out[i] = tmp\n",
    "    \n",
    "print(out)"
   ]
  },
  {
   "cell_type": "markdown",
   "id": "998fb100",
   "metadata": {},
   "source": [
    "Задание 6 (необязательно)\n",
    "Дана книга рецептов с информацией о том, сколько ингредиентов нужно для приготовления блюда в расчете на одну порцию (пример данных представлен ниже).\n",
    "Напишите программу, которая будет запрашивать у пользователя количество порций для приготовления этих блюд и отображать информацию о суммарном количестве требуемых ингредиентов в указанном виде.\n",
    "Внимание! Одинаковые ингридиенты с разными размерностями нужно считать раздельно!\n",
    "Пример работы программы:\n",
    "\n",
    "cook_book = {\n",
    "  'салат': [\n",
    "     {'ingridient_name': 'сыр', 'quantity': 50, 'measure': 'гр'},\n",
    "     {'ingridient_name': 'томаты', 'quantity': 2, 'measure': 'шт'},\n",
    "     {'ingridient_name': 'огурцы', 'quantity': 20, 'measure': 'гр'},\n",
    "     {'ingridient_name': 'маслины', 'quantity': 10, 'measure': 'гр'},\n",
    "     {'ingridient_name': 'оливковое масло', 'quantity': 20, 'measure': 'мл'},\n",
    "     {'ingridient_name': 'салат', 'quantity': 10, 'measure': 'гр'},\n",
    "     {'ingridient_name': 'перец', 'quantity': 20, 'measure': 'гр'}\n",
    "    ],\n",
    "  'пицца': [\n",
    "     {'ingridient_name': 'сыр', 'quantity': 20, 'measure': 'гр'},\n",
    "     {'ingridient_name': 'колбаса', 'quantity': 30, 'measure': 'гр'},\n",
    "     {'ingridient_name': 'бекон', 'quantity': 30, 'measure': 'гр'},\n",
    "     {'ingridient_name': 'оливки', 'quantity': 10, 'measure': 'гр'},\n",
    "     {'ingridient_name': 'томаты', 'quantity': 20, 'measure': 'гр'},\n",
    "     {'ingridient_name': 'тесто', 'quantity': 100, 'measure': 'гр'},   \n",
    "    ],\n",
    "  'лимонад': [\n",
    "     {'ingridient_name': 'лимон', 'quantity': 1, 'measure': 'шт'},\n",
    "     {'ingridient_name': 'вода', 'quantity': 200, 'measure': 'мл'},\n",
    "     {'ingridient_name': 'сахар', 'quantity': 10, 'measure': 'гр'},\n",
    "     {'ingridient_name': 'лайм', 'quantity': 20, 'measure': 'гр'},    \n",
    "    ]\n",
    "}\n",
    "\n",
    "Введите количество порций:  \n",
    "3\n",
    "Результат:\n",
    "\n",
    "Сыр: 210 гр  \n",
    "Томаты: 6 шт  \n",
    "Огурцы: 60 гр  \n",
    "Маслины: 30 гр  \n",
    "Оливковое масло: 60 мл  \n",
    "Салат: 30 гр  \n",
    "Перец: 60 гр  \n",
    "Колбаса: 90 гр  \n",
    "Бекон: 90 гр  \n",
    "Оливки: 30 гр  \n",
    "Томаты: 60 гр  \n",
    "Тесто: 300 гр  \n",
    "Лимон: 3 шт  \n",
    "Вода: 600 мл  \n",
    "Сахар: 30 гр  \n",
    "Лайм: 60 гр"
   ]
  },
  {
   "cell_type": "code",
   "execution_count": 38,
   "id": "5136e6d5",
   "metadata": {},
   "outputs": [
    {
     "name": "stdout",
     "output_type": "stream",
     "text": [
      "Количество порций:  3 \n",
      "\n",
      "Сыр 210 гр\n",
      "Томаты 6 шт\n",
      "Огурцы 60 гр\n",
      "Маслины 30 гр\n",
      "Оливковое масло 60 мл\n",
      "Салат 30 гр\n",
      "Перец 60 гр\n",
      "Колбаса 90 гр\n",
      "Бекон 90 гр\n",
      "Оливки 30 гр\n",
      "Томаты 60 гр\n",
      "Тесто 300 гр\n",
      "Лимон 3 шт\n",
      "Вода 600 мл\n",
      "Сахар 30 гр\n",
      "Лайм 60 гр\n"
     ]
    }
   ],
   "source": [
    "cook_book = { 'салат': [ {'ingridient_name': 'сыр', 'quantity': 50, 'measure': 'гр'}, \n",
    "                        {'ingridient_name': 'томаты', 'quantity': 2, 'measure': 'шт'}, \n",
    "                        {'ingridient_name': 'огурцы', 'quantity': 20, 'measure': 'гр'}, \n",
    "                        {'ingridient_name': 'маслины', 'quantity': 10, 'measure': 'гр'}, \n",
    "                        {'ingridient_name': 'оливковое масло', 'quantity': 20, 'measure': 'мл'}, \n",
    "                        {'ingridient_name': 'салат', 'quantity': 10, 'measure': 'гр'}, \n",
    "                        {'ingridient_name': 'перец', 'quantity': 20, 'measure': 'гр'} ], \n",
    "             'пицца': [ {'ingridient_name': 'сыр', 'quantity': 20, 'measure': 'гр'}, \n",
    "                       {'ingridient_name': 'колбаса', 'quantity': 30, 'measure': 'гр'}, \n",
    "                       {'ingridient_name': 'бекон', 'quantity': 30, 'measure': 'гр'}, \n",
    "                       {'ingridient_name': 'оливки', 'quantity': 10, 'measure': 'гр'}, \n",
    "                       {'ingridient_name': 'томаты', 'quantity': 20, 'measure': 'гр'}, \n",
    "                       {'ingridient_name': 'тесто', 'quantity': 100, 'measure': 'гр'},], \n",
    "             'лимонад': [ {'ingridient_name': 'лимон', 'quantity': 1, 'measure': 'шт'}, \n",
    "                         {'ingridient_name': 'вода', 'quantity': 200, 'measure': 'мл'}, \n",
    "                         {'ingridient_name': 'сахар', 'quantity': 10, 'measure': 'гр'}, \n",
    "                         {'ingridient_name': 'лайм', 'quantity': 20, 'measure': 'гр'},] }\n",
    "\n",
    "out = []\n",
    "\n",
    "portion = 3\n",
    "\n",
    "for i in cook_book.values():\n",
    "    \n",
    "    for j in i:\n",
    "        check = 0 #триггер нахождения элементы в выходном списке\n",
    "        for n, t in enumerate(out):\n",
    "            \n",
    "            if j['ingridient_name'] == t[0] and j['measure'] == t[2]: #Элемент уже есть в списке\n",
    "                out[n][1] += j['quantity'] * portion\n",
    "                check = 1\n",
    "                \n",
    "        if check == 0: #элемента нет, делаем новую запись\n",
    "                out.append([j['ingridient_name'], j['quantity'] * portion, j['measure']])\n",
    "\n",
    "print('Количество порций: ', portion, '\\n')\n",
    "\n",
    "for p in out:\n",
    "    print(p[0].capitalize(), p[1], p[2])\n"
   ]
  }
 ],
 "metadata": {
  "kernelspec": {
   "display_name": "Python 3",
   "language": "python",
   "name": "python3"
  },
  "language_info": {
   "codemirror_mode": {
    "name": "ipython",
    "version": 3
   },
   "file_extension": ".py",
   "mimetype": "text/x-python",
   "name": "python",
   "nbconvert_exporter": "python",
   "pygments_lexer": "ipython3",
   "version": "3.8.8"
  }
 },
 "nbformat": 4,
 "nbformat_minor": 5
}
