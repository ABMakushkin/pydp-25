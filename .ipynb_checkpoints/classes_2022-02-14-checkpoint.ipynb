{
 "cells": [
  {
   "cell_type": "code",
   "execution_count": 6,
   "metadata": {},
   "outputs": [],
   "source": [
    "def func_1():\n",
    "    currency = 'USD'\n",
    "    print(currency)\n",
    "    \n",
    "    return currency\n",
    "    \n",
    "def func_2(currency):\n",
    "    print(currency)"
   ]
  },
  {
   "cell_type": "code",
   "execution_count": 7,
   "metadata": {},
   "outputs": [
    {
     "name": "stdout",
     "output_type": "stream",
     "text": [
      "USD\n"
     ]
    }
   ],
   "source": [
    "currency = func_1()"
   ]
  },
  {
   "cell_type": "code",
   "execution_count": 8,
   "metadata": {},
   "outputs": [
    {
     "name": "stdout",
     "output_type": "stream",
     "text": [
      "USD\n"
     ]
    }
   ],
   "source": [
    "func_2(currency)"
   ]
  },
  {
   "cell_type": "code",
   "execution_count": null,
   "metadata": {},
   "outputs": [],
   "source": [
    "from classes_2022-02-14 import AnyName"
   ]
  },
  {
   "cell_type": "code",
   "execution_count": 13,
   "metadata": {},
   "outputs": [],
   "source": [
    "def useful_func(x, y):\n",
    "    return x**2 + y**2\n",
    "\n",
    "class AnyName:\n",
    "    bank = 'Sber'\n",
    "    \n",
    "    def __init__(self, currency='RUB'):\n",
    "        # создаем все атрибуты, которые необходимы для работы\n",
    "        # метод работает при обращении к классу\n",
    "        print('Создаю необходимые атрибуты')\n",
    "        self.currency = currency\n",
    "        self.print = 123\n",
    "        print(123)\n",
    "        \n",
    "        # приватные атрибуты\n",
    "        self._private_attr = 'v5.31'\n",
    "        self.__secret_attr = 123\n",
    "        \n",
    "        self.split = 'x'\n",
    "        \n",
    "    def split(self):\n",
    "        return 111\n",
    "    \n",
    "    def method_1(self):\n",
    "        self.currency = 'USD'\n",
    "        print('Создан атрибут currency')\n",
    "        print(self.__secret_attr)\n",
    "        \n",
    "    def method_2(self):\n",
    "        print(self.currency)\n",
    "        \n",
    "    @staticmethod\n",
    "    def useful_func(x, y):\n",
    "        return x**2 + y**2\n",
    "    \n",
    "    @staticmethod\n",
    "    def useful_func_2(x, y):\n",
    "        return x**2 + y**2"
   ]
  },
  {
   "cell_type": "code",
   "execution_count": 14,
   "metadata": {},
   "outputs": [
    {
     "name": "stdout",
     "output_type": "stream",
     "text": [
      "Создаю необходимые атрибуты\n",
      "123\n"
     ]
    }
   ],
   "source": [
    "a = AnyName('GBP')"
   ]
  },
  {
   "cell_type": "code",
   "execution_count": 16,
   "metadata": {},
   "outputs": [
    {
     "data": {
      "text/plain": [
       "'x'"
      ]
     },
     "execution_count": 16,
     "metadata": {},
     "output_type": "execute_result"
    }
   ],
   "source": [
    "a.split"
   ]
  },
  {
   "cell_type": "code",
   "execution_count": 17,
   "metadata": {},
   "outputs": [
    {
     "ename": "TypeError",
     "evalue": "'str' object is not callable",
     "output_type": "error",
     "traceback": [
      "\u001b[0;31m---------------------------------------------------------------------------\u001b[0m",
      "\u001b[0;31mTypeError\u001b[0m                                 Traceback (most recent call last)",
      "\u001b[0;32m<ipython-input-17-d951bd4a63fe>\u001b[0m in \u001b[0;36m<module>\u001b[0;34m\u001b[0m\n\u001b[0;32m----> 1\u001b[0;31m \u001b[0ma\u001b[0m\u001b[0;34m.\u001b[0m\u001b[0msplit\u001b[0m\u001b[0;34m(\u001b[0m\u001b[0;34m)\u001b[0m\u001b[0;34m\u001b[0m\u001b[0;34m\u001b[0m\u001b[0m\n\u001b[0m",
      "\u001b[0;31mTypeError\u001b[0m: 'str' object is not callable"
     ]
    }
   ],
   "source": [
    "a.split()"
   ]
  },
  {
   "cell_type": "code",
   "execution_count": 9,
   "metadata": {
    "scrolled": true
   },
   "outputs": [
    {
     "data": {
      "text/plain": [
       "['1', '2', '3']"
      ]
     },
     "execution_count": 9,
     "metadata": {},
     "output_type": "execute_result"
    }
   ],
   "source": [
    "'1,2,3'.split(',')"
   ]
  },
  {
   "cell_type": "code",
   "execution_count": 5,
   "metadata": {},
   "outputs": [
    {
     "data": {
      "text/plain": [
       "123"
      ]
     },
     "execution_count": 5,
     "metadata": {},
     "output_type": "execute_result"
    }
   ],
   "source": [
    "a.print"
   ]
  },
  {
   "cell_type": "code",
   "execution_count": 51,
   "metadata": {},
   "outputs": [
    {
     "data": {
      "text/plain": [
       "13"
      ]
     },
     "execution_count": 51,
     "metadata": {},
     "output_type": "execute_result"
    }
   ],
   "source": [
    "a.useful_func(2, 3)"
   ]
  },
  {
   "cell_type": "code",
   "execution_count": 48,
   "metadata": {},
   "outputs": [
    {
     "name": "stdout",
     "output_type": "stream",
     "text": [
      "Создан атрибут currency\n",
      "123\n"
     ]
    }
   ],
   "source": [
    "a.method_1()"
   ]
  },
  {
   "cell_type": "code",
   "execution_count": 40,
   "metadata": {},
   "outputs": [
    {
     "ename": "AttributeError",
     "evalue": "'AnyName' object has no attribute '__secret_attr'",
     "output_type": "error",
     "traceback": [
      "\u001b[0;31m---------------------------------------------------------------------------\u001b[0m",
      "\u001b[0;31mAttributeError\u001b[0m                            Traceback (most recent call last)",
      "\u001b[0;32m<ipython-input-40-c4ac2513fc27>\u001b[0m in \u001b[0;36m<module>\u001b[0;34m\u001b[0m\n\u001b[0;32m----> 1\u001b[0;31m \u001b[0ma\u001b[0m\u001b[0;34m.\u001b[0m\u001b[0m__secret_attr\u001b[0m\u001b[0;34m\u001b[0m\u001b[0;34m\u001b[0m\u001b[0m\n\u001b[0m",
      "\u001b[0;31mAttributeError\u001b[0m: 'AnyName' object has no attribute '__secret_attr'"
     ]
    }
   ],
   "source": [
    "a.__secret_attr"
   ]
  },
  {
   "cell_type": "code",
   "execution_count": 37,
   "metadata": {},
   "outputs": [
    {
     "data": {
      "text/plain": [
       "'v5.4'"
      ]
     },
     "execution_count": 37,
     "metadata": {},
     "output_type": "execute_result"
    }
   ],
   "source": [
    "a._private_attr = 'v5.4'\n",
    "a._private_attr"
   ]
  },
  {
   "cell_type": "code",
   "execution_count": 25,
   "metadata": {},
   "outputs": [
    {
     "data": {
      "text/plain": [
       "'Sber'"
      ]
     },
     "execution_count": 25,
     "metadata": {},
     "output_type": "execute_result"
    }
   ],
   "source": [
    "a.bank"
   ]
  },
  {
   "cell_type": "code",
   "execution_count": 33,
   "metadata": {},
   "outputs": [
    {
     "data": {
      "text/plain": [
       "'GBP'"
      ]
     },
     "execution_count": 33,
     "metadata": {},
     "output_type": "execute_result"
    }
   ],
   "source": [
    "a.currency"
   ]
  },
  {
   "cell_type": "code",
   "execution_count": 22,
   "metadata": {},
   "outputs": [
    {
     "name": "stdout",
     "output_type": "stream",
     "text": [
      "RUB\n"
     ]
    }
   ],
   "source": [
    "a.method_2()"
   ]
  },
  {
   "cell_type": "code",
   "execution_count": 13,
   "metadata": {},
   "outputs": [
    {
     "name": "stdout",
     "output_type": "stream",
     "text": [
      "Создан атрибут currency\n"
     ]
    }
   ],
   "source": [
    "a.method_1()"
   ]
  },
  {
   "cell_type": "code",
   "execution_count": 15,
   "metadata": {},
   "outputs": [
    {
     "data": {
      "text/plain": [
       "'EUR'"
      ]
     },
     "execution_count": 15,
     "metadata": {},
     "output_type": "execute_result"
    }
   ],
   "source": [
    "a.currency = 'EUR'\n",
    "a.currency"
   ]
  },
  {
   "cell_type": "code",
   "execution_count": 16,
   "metadata": {},
   "outputs": [
    {
     "name": "stdout",
     "output_type": "stream",
     "text": [
      "EUR\n"
     ]
    }
   ],
   "source": [
    "a.method_2()"
   ]
  },
  {
   "cell_type": "code",
   "execution_count": null,
   "metadata": {},
   "outputs": [],
   "source": []
  },
  {
   "cell_type": "code",
   "execution_count": null,
   "metadata": {},
   "outputs": [],
   "source": []
  },
  {
   "cell_type": "code",
   "execution_count": null,
   "metadata": {},
   "outputs": [],
   "source": []
  },
  {
   "cell_type": "markdown",
   "metadata": {},
   "source": [
    "# Вопросы"
   ]
  },
  {
   "cell_type": "markdown",
   "metadata": {},
   "source": [
    "```python\n",
    "def __init__(self, format_='value'):\n",
    "    # встроенные функции и названия переменных\n",
    "    self.format = format_\n",
    "```"
   ]
  },
  {
   "cell_type": "code",
   "execution_count": 1,
   "metadata": {},
   "outputs": [],
   "source": [
    "print_ = 1"
   ]
  },
  {
   "cell_type": "code",
   "execution_count": 2,
   "metadata": {},
   "outputs": [
    {
     "name": "stdout",
     "output_type": "stream",
     "text": [
      "1\n"
     ]
    }
   ],
   "source": [
    "print(print_)"
   ]
  },
  {
   "cell_type": "code",
   "execution_count": null,
   "metadata": {},
   "outputs": [],
   "source": []
  },
  {
   "cell_type": "markdown",
   "metadata": {},
   "source": [
    "```python\n",
    "self.r = requests.get('https://www.cbr-xml-daily.ru/daily_json.js')  # почему self.r\n",
    "```"
   ]
  },
  {
   "cell_type": "code",
   "execution_count": null,
   "metadata": {},
   "outputs": [],
   "source": []
  },
  {
   "cell_type": "markdown",
   "metadata": {},
   "source": [
    "Что имеется в виду в задании 2 ДЗ. зачем добавлять доп. параметр diff в в класс Rate, когда задачу можно решить одной сторокой в методе make_format() и где должны возвращить ся True и False?\n",
    "\n",
    "Добавьте в класс Rate параметр diff (со значениями True или False), который в случае значения True в методах курсов валют (eur, usd итд) будет возвращать не курс валюты, а изменение по сравнению в прошлым значением. Считайте, self.diff будет принимать значение True только при возврате значения курса. При отображении всей информации о валюте он не используется."
   ]
  },
  {
   "cell_type": "code",
   "execution_count": null,
   "metadata": {},
   "outputs": [],
   "source": [
    "r = Rate(diff=False) --> курс валюты 85.45\n",
    "r.usd()"
   ]
  },
  {
   "cell_type": "code",
   "execution_count": null,
   "metadata": {},
   "outputs": [],
   "source": [
    "Rate(diff=True) --> разницу сегодняшнего и вчерашнего курса валюты\n",
    "r.usd()"
   ]
  },
  {
   "cell_type": "code",
   "execution_count": null,
   "metadata": {},
   "outputs": [],
   "source": []
  },
  {
   "cell_type": "markdown",
   "metadata": {},
   "source": [
    "зачем мы в методе make_format(self, currency) ввели переменную currency (в скобках), в каких случаях надо вводить подобную переменную, а в каких случаях используется только self?"
   ]
  },
  {
   "cell_type": "code",
   "execution_count": null,
   "metadata": {},
   "outputs": [],
   "source": [
    "def func(currency)"
   ]
  },
  {
   "cell_type": "code",
   "execution_count": null,
   "metadata": {},
   "outputs": [],
   "source": []
  },
  {
   "cell_type": "markdown",
   "metadata": {},
   "source": [
    "Первый вопрос относится к лекции “Что мы знаем о функциях”. Пример def line_count(line, count_empty_lines = True). Объясните, пожалуйста, что означают в этом примере True и False. Для чего они нужны в функции"
   ]
  },
  {
   "cell_type": "code",
   "execution_count": 19,
   "metadata": {},
   "outputs": [],
   "source": [
    "def line_count(line, count_empty_lines=True):\n",
    "    \"\"\"Doctring (документация)\"\"\"\n",
    "    return count_empty_lines"
   ]
  },
  {
   "cell_type": "code",
   "execution_count": 20,
   "metadata": {},
   "outputs": [
    {
     "data": {
      "text/plain": [
       "False"
      ]
     },
     "execution_count": 20,
     "metadata": {},
     "output_type": "execute_result"
    }
   ],
   "source": [
    "line_count('...', count_empty_lines=False)"
   ]
  },
  {
   "cell_type": "code",
   "execution_count": 21,
   "metadata": {
    "scrolled": true
   },
   "outputs": [
    {
     "data": {
      "text/plain": [
       "True"
      ]
     },
     "execution_count": 21,
     "metadata": {},
     "output_type": "execute_result"
    }
   ],
   "source": [
    "bbbb"
   ]
  },
  {
   "cell_type": "code",
   "execution_count": null,
   "metadata": {},
   "outputs": [],
   "source": []
  },
  {
   "cell_type": "code",
   "execution_count": 22,
   "metadata": {},
   "outputs": [],
   "source": [
    "def line_count(line, count_empty_lines=True, sep=','):\n",
    "    if count_empty_lines:\n",
    "        return len(line.split(sep))\n",
    "    else:\n",
    "        if line:\n",
    "            return len(line.split(sep))\n",
    "        else:\n",
    "            return 0"
   ]
  },
  {
   "cell_type": "code",
   "execution_count": 25,
   "metadata": {},
   "outputs": [
    {
     "data": {
      "text/plain": [
       "3"
      ]
     },
     "execution_count": 25,
     "metadata": {},
     "output_type": "execute_result"
    }
   ],
   "source": [
    "line_count('111,222,333')"
   ]
  },
  {
   "cell_type": "code",
   "execution_count": 27,
   "metadata": {},
   "outputs": [
    {
     "data": {
      "text/plain": [
       "0"
      ]
     },
     "execution_count": 27,
     "metadata": {},
     "output_type": "execute_result"
    }
   ],
   "source": [
    "# для первых коллег\n",
    "line_count(line='', count_empty_lines=False)"
   ]
  },
  {
   "cell_type": "code",
   "execution_count": 28,
   "metadata": {},
   "outputs": [
    {
     "data": {
      "text/plain": [
       "1"
      ]
     },
     "execution_count": 28,
     "metadata": {},
     "output_type": "execute_result"
    }
   ],
   "source": [
    "# для вторых\n",
    "line_count(line='', count_empty_lines=True)"
   ]
  },
  {
   "cell_type": "code",
   "execution_count": 30,
   "metadata": {},
   "outputs": [
    {
     "data": {
      "text/plain": [
       "5"
      ]
     },
     "execution_count": 30,
     "metadata": {},
     "output_type": "execute_result"
    }
   ],
   "source": [
    "line_count('111,222,333, ,555', count_empty_lines=True)"
   ]
  },
  {
   "cell_type": "code",
   "execution_count": 31,
   "metadata": {},
   "outputs": [
    {
     "data": {
      "text/plain": [
       "5"
      ]
     },
     "execution_count": 31,
     "metadata": {},
     "output_type": "execute_result"
    }
   ],
   "source": [
    "line_count('111,222,333, ,555', count_empty_lines=False)"
   ]
  },
  {
   "cell_type": "code",
   "execution_count": null,
   "metadata": {},
   "outputs": [],
   "source": []
  },
  {
   "cell_type": "code",
   "execution_count": null,
   "metadata": {},
   "outputs": [],
   "source": []
  },
  {
   "cell_type": "markdown",
   "metadata": {},
   "source": [
    "Второй вопрос – к лекции “Объявление классов. Метод init”. В примере про зарплаты есть  -  print('Сотрудник {}, зарплата {}'.format(self.name, self.salary)). Объясните, пожалуйста, эту строку. В print есть {}, .format… Это какой-то метод?"
   ]
  },
  {
   "cell_type": "code",
   "execution_count": 32,
   "metadata": {},
   "outputs": [],
   "source": [
    "name = 'Вася'\n",
    "value = 1"
   ]
  },
  {
   "cell_type": "code",
   "execution_count": 33,
   "metadata": {},
   "outputs": [
    {
     "name": "stdout",
     "output_type": "stream",
     "text": [
      "СотрудникВася зарплата1\n"
     ]
    }
   ],
   "source": [
    "print('Сотрудник' + name + ' зарплата' + str(value))"
   ]
  },
  {
   "cell_type": "code",
   "execution_count": 34,
   "metadata": {},
   "outputs": [
    {
     "name": "stdout",
     "output_type": "stream",
     "text": [
      "Сотрудник Вася, зарплата 1\n"
     ]
    }
   ],
   "source": [
    "print(f'Сотрудник {name}, зарплата {value}')"
   ]
  },
  {
   "cell_type": "code",
   "execution_count": 36,
   "metadata": {
    "scrolled": true
   },
   "outputs": [
    {
     "name": "stdout",
     "output_type": "stream",
     "text": [
      "Сотрудник Вася, зарплата 1, Вася\n"
     ]
    }
   ],
   "source": [
    "print('Сотрудник {0}, зарплата {1}, {0}'.format(name, value))"
   ]
  },
  {
   "cell_type": "code",
   "execution_count": null,
   "metadata": {},
   "outputs": [],
   "source": []
  },
  {
   "cell_type": "code",
   "execution_count": null,
   "metadata": {},
   "outputs": [],
   "source": []
  },
  {
   "cell_type": "markdown",
   "metadata": {},
   "source": [
    "# Требования к отчету\n",
    "(в хронологическом порядке)\n",
    "\n",
    "1. Нужен отчет по трафику (визиты по дням)\n",
    "2. Сделайте таблицу попроще\n",
    "3. А можно сразу очень много строк получить?\n",
    "\n",
    "[Демо-счетчик](https://metrika.yandex.ru/stat/traffic?sort=-ym%3As%3Avisits&period=2020-08-01%3A2020-09-06&accuracy=1&id=44147844&stateHash=5d3ee51607d6bde783131e11) Яндекс.Метрики\n"
   ]
  },
  {
   "cell_type": "code",
   "execution_count": 37,
   "metadata": {},
   "outputs": [],
   "source": [
    "import requests"
   ]
  },
  {
   "cell_type": "code",
   "execution_count": 44,
   "metadata": {},
   "outputs": [],
   "source": [
    "API_URL = 'https://api-metrika.yandex.ru/stat/v1/data'\n",
    "METRIKA_ROWS_LIMIT = 100000  # max 100000\n",
    "\n",
    "DEMO_COUNTER = 44147844"
   ]
  },
  {
   "cell_type": "code",
   "execution_count": 45,
   "metadata": {},
   "outputs": [],
   "source": [
    "class Metrika:\n",
    "    def __init__(self, token='', counter=DEMO_COUNTER, start_date='2020-09-01', end_date='2020-09-10'):\n",
    "        self.counter = counter\n",
    "        self.limit = METRIKA_ROWS_LIMIT\n",
    "        self.start_date = start_date\n",
    "        self.end_date = end_date\n",
    "        \n",
    "        if token:\n",
    "            self.headers = {'Authorization': 'OAuth ' + token}\n",
    "        else:\n",
    "            self.headers = ''  # для демо-счетчика заголовок запроса должен быть пустым\n",
    "        \n",
    "        self.dimensions = ''\n",
    "        self.metrics = ''\n",
    "        self.report = []\n",
    "        \n",
    "    def api_request(self, offset=1):\n",
    "        params = {\n",
    "            'id': self.counter,\n",
    "            'date1': self.start_date,\n",
    "            'date2': self.end_date,\n",
    "            'metrics': self.metrics,\n",
    "            'dimensions': self.dimensions,\n",
    "            'limit': self.limit,\n",
    "            'offset': offset,\n",
    "            'accuracy': 1,\n",
    "        }\n",
    "        \n",
    "        response = requests.get(API_URL, params=params, headers=self.headers)\n",
    "        return response.json()['data']\n",
    "    \n",
    "    def traffic(self):\n",
    "        self.metrics = 'ym:s:visits'\n",
    "        self.dimensions = 'ym:s:date'\n",
    "        \n",
    "        report = self.full_report()\n",
    "        print('Report', report)\n",
    "        self.report = report\n",
    "        \n",
    "    def browsers(self):\n",
    "        self.metrics = 'ym:s:visits,ym:s:users'\n",
    "        self.dimensions = 'ym:s:date,ym:s:browser'\n",
    "        \n",
    "        report = self.full_report()\n",
    "        print('Report', report)\n",
    "        self.report = report\n",
    "    \n",
    "    def reformat_api_report(self):\n",
    "        reformatted_report = []\n",
    "\n",
    "        for line in self.report:\n",
    "            dimensions = [x['name'] for x in line['dimensions']]\n",
    "            reformatted_report.append(dimensions + line['metrics'])\n",
    "\n",
    "        self.report = reformatted_report\n",
    "    \n",
    "    def full_report(self):\n",
    "        full_data = []\n",
    "        offset = 1\n",
    "        \n",
    "        while True:\n",
    "            print('Starting offset {}'.format(offset))\n",
    "            data = self.api_request(offset=offset)\n",
    "            full_data += data\n",
    "            \n",
    "            offset += self.limit\n",
    "            if not data or len(data) < self.limit:\n",
    "                break\n",
    "        \n",
    "        return full_data"
   ]
  },
  {
   "cell_type": "code",
   "execution_count": 48,
   "metadata": {
    "scrolled": false
   },
   "outputs": [
    {
     "name": "stdout",
     "output_type": "stream",
     "text": [
      "Starting offset 1\n",
      "Report [{'dimensions': [{'name': '2020-09-08'}, {'icon_id': '6', 'icon_type': 'browser', 'name': 'Google Chrome', 'id': '6'}], 'metrics': [329.0, 307.0]}, {'dimensions': [{'name': '2020-09-09'}, {'icon_id': '6', 'icon_type': 'browser', 'name': 'Google Chrome', 'id': '6'}], 'metrics': [318.0, 289.0]}, {'dimensions': [{'name': '2020-09-03'}, {'icon_id': '6', 'icon_type': 'browser', 'name': 'Google Chrome', 'id': '6'}], 'metrics': [310.0, 292.0]}, {'dimensions': [{'name': '2020-09-07'}, {'icon_id': '6', 'icon_type': 'browser', 'name': 'Google Chrome', 'id': '6'}], 'metrics': [299.0, 271.0]}, {'dimensions': [{'name': '2020-09-02'}, {'icon_id': '6', 'icon_type': 'browser', 'name': 'Google Chrome', 'id': '6'}], 'metrics': [298.0, 279.0]}, {'dimensions': [{'name': '2020-09-10'}, {'icon_id': '6', 'icon_type': 'browser', 'name': 'Google Chrome', 'id': '6'}], 'metrics': [295.0, 261.0]}, {'dimensions': [{'name': '2020-09-01'}, {'icon_id': '6', 'icon_type': 'browser', 'name': 'Google Chrome', 'id': '6'}], 'metrics': [292.0, 278.0]}, {'dimensions': [{'name': '2020-09-04'}, {'icon_id': '6', 'icon_type': 'browser', 'name': 'Google Chrome', 'id': '6'}], 'metrics': [256.0, 237.0]}, {'dimensions': [{'name': '2020-09-05'}, {'icon_id': '6', 'icon_type': 'browser', 'name': 'Google Chrome', 'id': '6'}], 'metrics': [181.0, 170.0]}, {'dimensions': [{'name': '2020-09-06'}, {'icon_id': '6', 'icon_type': 'browser', 'name': 'Google Chrome', 'id': '6'}], 'metrics': [164.0, 159.0]}, {'dimensions': [{'name': '2020-09-07'}, {'icon_id': '70', 'icon_type': 'browser', 'name': 'Яндекс.Браузер', 'id': '70'}], 'metrics': [58.0, 47.0]}, {'dimensions': [{'name': '2020-09-01'}, {'icon_id': '70', 'icon_type': 'browser', 'name': 'Яндекс.Браузер', 'id': '70'}], 'metrics': [53.0, 48.0]}, {'dimensions': [{'name': '2020-09-09'}, {'icon_id': '70', 'icon_type': 'browser', 'name': 'Яндекс.Браузер', 'id': '70'}], 'metrics': [49.0, 41.0]}, {'dimensions': [{'name': '2020-09-08'}, {'icon_id': '70', 'icon_type': 'browser', 'name': 'Яндекс.Браузер', 'id': '70'}], 'metrics': [48.0, 48.0]}, {'dimensions': [{'name': '2020-09-02'}, {'icon_id': '3', 'icon_type': 'browser', 'name': 'Firefox', 'id': '3'}], 'metrics': [44.0, 43.0]}, {'dimensions': [{'name': '2020-09-08'}, {'icon_id': '3', 'icon_type': 'browser', 'name': 'Firefox', 'id': '3'}], 'metrics': [44.0, 40.0]}, {'dimensions': [{'name': '2020-09-06'}, {'icon_id': '83', 'icon_type': 'browser', 'name': 'Chrome Mobile', 'id': '83'}], 'metrics': [43.0, 37.0]}, {'dimensions': [{'name': '2020-09-01'}, {'icon_id': '3', 'icon_type': 'browser', 'name': 'Firefox', 'id': '3'}], 'metrics': [42.0, 41.0]}, {'dimensions': [{'name': '2020-09-09'}, {'icon_id': '3', 'icon_type': 'browser', 'name': 'Firefox', 'id': '3'}], 'metrics': [42.0, 39.0]}, {'dimensions': [{'name': '2020-09-03'}, {'icon_id': '70', 'icon_type': 'browser', 'name': 'Яндекс.Браузер', 'id': '70'}], 'metrics': [41.0, 39.0]}, {'dimensions': [{'name': '2020-09-04'}, {'icon_id': '3', 'icon_type': 'browser', 'name': 'Firefox', 'id': '3'}], 'metrics': [40.0, 40.0]}, {'dimensions': [{'name': '2020-09-08'}, {'icon_id': '83', 'icon_type': 'browser', 'name': 'Chrome Mobile', 'id': '83'}], 'metrics': [40.0, 38.0]}, {'dimensions': [{'name': '2020-09-02'}, {'icon_id': '70', 'icon_type': 'browser', 'name': 'Яндекс.Браузер', 'id': '70'}], 'metrics': [39.0, 36.0]}, {'dimensions': [{'name': '2020-09-10'}, {'icon_id': '83', 'icon_type': 'browser', 'name': 'Chrome Mobile', 'id': '83'}], 'metrics': [39.0, 36.0]}, {'dimensions': [{'name': '2020-09-02'}, {'icon_id': '83', 'icon_type': 'browser', 'name': 'Chrome Mobile', 'id': '83'}], 'metrics': [38.0, 37.0]}, {'dimensions': [{'name': '2020-09-07'}, {'icon_id': '83', 'icon_type': 'browser', 'name': 'Chrome Mobile', 'id': '83'}], 'metrics': [38.0, 34.0]}, {'dimensions': [{'name': '2020-09-07'}, {'icon_id': '3', 'icon_type': 'browser', 'name': 'Firefox', 'id': '3'}], 'metrics': [37.0, 35.0]}, {'dimensions': [{'name': '2020-09-03'}, {'icon_id': '3', 'icon_type': 'browser', 'name': 'Firefox', 'id': '3'}], 'metrics': [36.0, 34.0]}, {'dimensions': [{'name': '2020-09-01'}, {'icon_id': '4', 'icon_type': 'browser', 'name': 'Safari', 'id': '4'}], 'metrics': [35.0, 32.0]}, {'dimensions': [{'name': '2020-09-07'}, {'icon_id': '4', 'icon_type': 'browser', 'name': 'Safari', 'id': '4'}], 'metrics': [35.0, 34.0]}, {'dimensions': [{'name': '2020-09-10'}, {'icon_id': '3', 'icon_type': 'browser', 'name': 'Firefox', 'id': '3'}], 'metrics': [35.0, 34.0]}, {'dimensions': [{'name': '2020-09-10'}, {'icon_id': '70', 'icon_type': 'browser', 'name': 'Яндекс.Браузер', 'id': '70'}], 'metrics': [34.0, 29.0]}, {'dimensions': [{'name': '2020-09-01'}, {'icon_id': '83', 'icon_type': 'browser', 'name': 'Chrome Mobile', 'id': '83'}], 'metrics': [33.0, 28.0]}, {'dimensions': [{'name': '2020-09-04'}, {'icon_id': '83', 'icon_type': 'browser', 'name': 'Chrome Mobile', 'id': '83'}], 'metrics': [33.0, 31.0]}, {'dimensions': [{'name': '2020-09-05'}, {'icon_id': '83', 'icon_type': 'browser', 'name': 'Chrome Mobile', 'id': '83'}], 'metrics': [33.0, 30.0]}, {'dimensions': [{'name': '2020-09-04'}, {'icon_id': '70', 'icon_type': 'browser', 'name': 'Яндекс.Браузер', 'id': '70'}], 'metrics': [32.0, 31.0]}, {'dimensions': [{'name': '2020-09-10'}, {'icon_id': '4', 'icon_type': 'browser', 'name': 'Safari', 'id': '4'}], 'metrics': [32.0, 31.0]}, {'dimensions': [{'name': '2020-09-06'}, {'icon_id': '3', 'icon_type': 'browser', 'name': 'Firefox', 'id': '3'}], 'metrics': [29.0, 26.0]}, {'dimensions': [{'name': '2020-09-09'}, {'icon_id': '4', 'icon_type': 'browser', 'name': 'Safari', 'id': '4'}], 'metrics': [29.0, 29.0]}, {'dimensions': [{'name': '2020-09-03'}, {'icon_id': '83', 'icon_type': 'browser', 'name': 'Chrome Mobile', 'id': '83'}], 'metrics': [28.0, 26.0]}, {'dimensions': [{'name': '2020-09-02'}, {'icon_id': '4', 'icon_type': 'browser', 'name': 'Safari', 'id': '4'}], 'metrics': [23.0, 22.0]}, {'dimensions': [{'name': '2020-09-09'}, {'icon_id': '83', 'icon_type': 'browser', 'name': 'Chrome Mobile', 'id': '83'}], 'metrics': [22.0, 21.0]}, {'dimensions': [{'name': '2020-09-03'}, {'icon_id': '135', 'icon_type': 'browser', 'name': 'Edge', 'id': '135'}], 'metrics': [20.0, 18.0]}, {'dimensions': [{'name': '2020-09-05'}, {'icon_id': '3', 'icon_type': 'browser', 'name': 'Firefox', 'id': '3'}], 'metrics': [20.0, 19.0]}, {'dimensions': [{'name': '2020-09-06'}, {'icon_id': '70', 'icon_type': 'browser', 'name': 'Яндекс.Браузер', 'id': '70'}], 'metrics': [20.0, 20.0]}, {'dimensions': [{'name': '2020-09-08'}, {'icon_id': '4', 'icon_type': 'browser', 'name': 'Safari', 'id': '4'}], 'metrics': [20.0, 19.0]}, {'dimensions': [{'name': '2020-09-03'}, {'icon_id': '4', 'icon_type': 'browser', 'name': 'Safari', 'id': '4'}], 'metrics': [19.0, 17.0]}, {'dimensions': [{'name': '2020-09-04'}, {'icon_id': '4', 'icon_type': 'browser', 'name': 'Safari', 'id': '4'}], 'metrics': [18.0, 18.0]}, {'dimensions': [{'name': '2020-09-02'}, {'icon_id': '2', 'icon_type': 'browser', 'name': 'Opera', 'id': '2'}], 'metrics': [17.0, 17.0]}, {'dimensions': [{'name': '2020-09-05'}, {'icon_id': '70', 'icon_type': 'browser', 'name': 'Яндекс.Браузер', 'id': '70'}], 'metrics': [17.0, 16.0]}, {'dimensions': [{'name': '2020-09-09'}, {'icon_id': '38', 'icon_type': 'browser', 'name': 'Mobile Safari', 'id': '38'}], 'metrics': [17.0, 17.0]}, {'dimensions': [{'name': '2020-09-09'}, {'icon_id': '135', 'icon_type': 'browser', 'name': 'Edge', 'id': '135'}], 'metrics': [17.0, 17.0]}, {'dimensions': [{'name': '2020-09-05'}, {'icon_id': '4', 'icon_type': 'browser', 'name': 'Safari', 'id': '4'}], 'metrics': [16.0, 13.0]}, {'dimensions': [{'name': '2020-09-02'}, {'icon_id': '135', 'icon_type': 'browser', 'name': 'Edge', 'id': '135'}], 'metrics': [15.0, 13.0]}, {'dimensions': [{'name': '2020-09-04'}, {'icon_id': '135', 'icon_type': 'browser', 'name': 'Edge', 'id': '135'}], 'metrics': [15.0, 14.0]}, {'dimensions': [{'name': '2020-09-03'}, {'icon_id': '2', 'icon_type': 'browser', 'name': 'Opera', 'id': '2'}], 'metrics': [14.0, 13.0]}, {'dimensions': [{'name': '2020-09-07'}, {'icon_id': '135', 'icon_type': 'browser', 'name': 'Edge', 'id': '135'}], 'metrics': [14.0, 13.0]}, {'dimensions': [{'name': '2020-09-10'}, {'icon_id': '135', 'icon_type': 'browser', 'name': 'Edge', 'id': '135'}], 'metrics': [14.0, 12.0]}, {'dimensions': [{'name': '2020-09-01'}, {'icon_id': '135', 'icon_type': 'browser', 'name': 'Edge', 'id': '135'}], 'metrics': [13.0, 11.0]}, {'dimensions': [{'name': '2020-09-04'}, {'icon_id': '2', 'icon_type': 'browser', 'name': 'Opera', 'id': '2'}], 'metrics': [13.0, 13.0]}, {'dimensions': [{'name': '2020-09-09'}, {'icon_id': '2', 'icon_type': 'browser', 'name': 'Opera', 'id': '2'}], 'metrics': [13.0, 12.0]}, {'dimensions': [{'name': '2020-09-08'}, {'icon_id': '38', 'icon_type': 'browser', 'name': 'Mobile Safari', 'id': '38'}], 'metrics': [12.0, 11.0]}, {'dimensions': [{'name': '2020-09-01'}, {'icon_id': '2', 'icon_type': 'browser', 'name': 'Opera', 'id': '2'}], 'metrics': [11.0, 10.0]}, {'dimensions': [{'name': '2020-09-03'}, {'icon_id': '38', 'icon_type': 'browser', 'name': 'Mobile Safari', 'id': '38'}], 'metrics': [10.0, 10.0]}, {'dimensions': [{'name': '2020-09-01'}, {'icon_id': '38', 'icon_type': 'browser', 'name': 'Mobile Safari', 'id': '38'}], 'metrics': [9.0, 8.0]}, {'dimensions': [{'name': '2020-09-02'}, {'icon_id': '38', 'icon_type': 'browser', 'name': 'Mobile Safari', 'id': '38'}], 'metrics': [9.0, 8.0]}, {'dimensions': [{'name': '2020-09-04'}, {'icon_id': '38', 'icon_type': 'browser', 'name': 'Mobile Safari', 'id': '38'}], 'metrics': [9.0, 6.0]}, {'dimensions': [{'name': '2020-09-04'}, {'icon_id': '72', 'icon_type': 'browser', 'name': 'Android Browser', 'id': '72'}], 'metrics': [9.0, 9.0]}, {'dimensions': [{'name': '2020-09-05'}, {'icon_id': '38', 'icon_type': 'browser', 'name': 'Mobile Safari', 'id': '38'}], 'metrics': [9.0, 8.0]}, {'dimensions': [{'name': '2020-09-08'}, {'icon_id': '135', 'icon_type': 'browser', 'name': 'Edge', 'id': '135'}], 'metrics': [9.0, 9.0]}, {'dimensions': [{'name': '2020-09-02'}, {'icon_id': '72', 'icon_type': 'browser', 'name': 'Android Browser', 'id': '72'}], 'metrics': [8.0, 8.0]}, {'dimensions': [{'name': '2020-09-03'}, {'icon_id': '186', 'icon_type': 'browser', 'name': 'CocCoc', 'id': '186'}], 'metrics': [8.0, 7.0]}, {'dimensions': [{'name': '2020-09-03'}, {'icon_id': '190', 'icon_type': 'browser', 'name': 'Samsung Internet', 'id': '190'}], 'metrics': [8.0, 7.0]}, {'dimensions': [{'name': '2020-09-06'}, {'icon_id': '2', 'icon_type': 'browser', 'name': 'Opera', 'id': '2'}], 'metrics': [8.0, 8.0]}, {'dimensions': [{'name': '2020-09-06'}, {'icon_id': '4', 'icon_type': 'browser', 'name': 'Safari', 'id': '4'}], 'metrics': [8.0, 8.0]}, {'dimensions': [{'name': '2020-09-07'}, {'icon_id': '2', 'icon_type': 'browser', 'name': 'Opera', 'id': '2'}], 'metrics': [8.0, 8.0]}, {'dimensions': [{'name': '2020-09-09'}, {'icon_id': '190', 'icon_type': 'browser', 'name': 'Samsung Internet', 'id': '190'}], 'metrics': [8.0, 6.0]}, {'dimensions': [{'name': '2020-09-04'}, {'icon_id': '190', 'icon_type': 'browser', 'name': 'Samsung Internet', 'id': '190'}], 'metrics': [7.0, 7.0]}, {'dimensions': [{'name': '2020-09-05'}, {'icon_id': '72', 'icon_type': 'browser', 'name': 'Android Browser', 'id': '72'}], 'metrics': [7.0, 6.0]}, {'dimensions': [{'name': '2020-09-06'}, {'icon_id': '190', 'icon_type': 'browser', 'name': 'Samsung Internet', 'id': '190'}], 'metrics': [7.0, 7.0]}, {'dimensions': [{'name': '2020-09-10'}, {'icon_id': '2', 'icon_type': 'browser', 'name': 'Opera', 'id': '2'}], 'metrics': [7.0, 7.0]}, {'dimensions': [{'name': '2020-09-01'}, {'icon_id': '72', 'icon_type': 'browser', 'name': 'Android Browser', 'id': '72'}], 'metrics': [6.0, 6.0]}, {'dimensions': [{'name': '2020-09-01'}, {'icon_id': '190', 'icon_type': 'browser', 'name': 'Samsung Internet', 'id': '190'}], 'metrics': [6.0, 6.0]}, {'dimensions': [{'name': '2020-09-02'}, {'icon_id': '190', 'icon_type': 'browser', 'name': 'Samsung Internet', 'id': '190'}], 'metrics': [6.0, 6.0]}, {'dimensions': [{'name': '2020-09-05'}, {'icon_id': '135', 'icon_type': 'browser', 'name': 'Edge', 'id': '135'}], 'metrics': [6.0, 6.0]}, {'dimensions': [{'name': '2020-09-07'}, {'icon_id': '72', 'icon_type': 'browser', 'name': 'Android Browser', 'id': '72'}], 'metrics': [6.0, 6.0]}, {'dimensions': [{'name': '2020-09-07'}, {'icon_id': '38', 'icon_type': 'browser', 'name': 'Mobile Safari', 'id': '38'}], 'metrics': [5.0, 5.0]}, {'dimensions': [{'name': '2020-09-08'}, {'icon_id': '2', 'icon_type': 'browser', 'name': 'Opera', 'id': '2'}], 'metrics': [5.0, 5.0]}, {'dimensions': [{'name': '2020-09-08'}, {'icon_id': '72', 'icon_type': 'browser', 'name': 'Android Browser', 'id': '72'}], 'metrics': [5.0, 4.0]}, {'dimensions': [{'name': '2020-09-10'}, {'icon_id': '190', 'icon_type': 'browser', 'name': 'Samsung Internet', 'id': '190'}], 'metrics': [5.0, 4.0]}, {'dimensions': [{'name': '2020-09-03'}, {'icon_id': '72', 'icon_type': 'browser', 'name': 'Android Browser', 'id': '72'}], 'metrics': [4.0, 4.0]}, {'dimensions': [{'name': '2020-09-03'}, {'icon_id': '117', 'icon_type': 'browser', 'name': 'Яндекс: мобильное приложение', 'id': '117'}], 'metrics': [4.0, 4.0]}, {'dimensions': [{'name': '2020-09-05'}, {'icon_id': '2', 'icon_type': 'browser', 'name': 'Opera', 'id': '2'}], 'metrics': [4.0, 4.0]}, {'dimensions': [{'name': '2020-09-06'}, {'icon_id': '38', 'icon_type': 'browser', 'name': 'Mobile Safari', 'id': '38'}], 'metrics': [4.0, 4.0]}, {'dimensions': [{'name': '2020-09-06'}, {'icon_id': '135', 'icon_type': 'browser', 'name': 'Edge', 'id': '135'}], 'metrics': [4.0, 4.0]}, {'dimensions': [{'name': '2020-09-07'}, {'icon_id': '190', 'icon_type': 'browser', 'name': 'Samsung Internet', 'id': '190'}], 'metrics': [4.0, 4.0]}, {'dimensions': [{'name': '2020-09-08'}, {'icon_id': '190', 'icon_type': 'browser', 'name': 'Samsung Internet', 'id': '190'}], 'metrics': [4.0, 4.0]}, {'dimensions': [{'name': '2020-09-10'}, {'icon_id': '38', 'icon_type': 'browser', 'name': 'Mobile Safari', 'id': '38'}], 'metrics': [4.0, 4.0]}, {'dimensions': [{'name': '2020-09-10'}, {'icon_id': '72', 'icon_type': 'browser', 'name': 'Android Browser', 'id': '72'}], 'metrics': [4.0, 4.0]}, {'dimensions': [{'name': '2020-09-04'}, {'icon_id': '186', 'icon_type': 'browser', 'name': 'CocCoc', 'id': '186'}], 'metrics': [3.0, 3.0]}, {'dimensions': [{'name': '2020-09-06'}, {'icon_id': '72', 'icon_type': 'browser', 'name': 'Android Browser', 'id': '72'}], 'metrics': [3.0, 3.0]}, {'dimensions': [{'name': '2020-09-08'}, {'icon_id': '186', 'icon_type': 'browser', 'name': 'CocCoc', 'id': '186'}], 'metrics': [3.0, 3.0]}, {'dimensions': [{'name': '2020-09-02'}, {'icon_id': '88', 'icon_type': 'browser', 'name': 'MQQBrowser', 'id': '88'}], 'metrics': [2.0, 2.0]}, {'dimensions': [{'name': '2020-09-04'}, {'icon_id': '5', 'icon_type': 'browser', 'name': 'MSIE', 'id': '5'}], 'metrics': [2.0, 2.0]}, {'dimensions': [{'name': '2020-09-05'}, {'icon_id': '14', 'icon_type': 'browser', 'name': 'UCWEB', 'id': '14'}], 'metrics': [2.0, 2.0]}, {'dimensions': [{'name': '2020-09-05'}, {'icon_id': '117', 'icon_type': 'browser', 'name': 'Яндекс: мобильное приложение', 'id': '117'}], 'metrics': [2.0, 2.0]}, {'dimensions': [{'name': '2020-09-06'}, {'icon_id': '14', 'icon_type': 'browser', 'name': 'UCWEB', 'id': '14'}], 'metrics': [2.0, 2.0]}, {'dimensions': [{'name': '2020-09-06'}, {'icon_id': '199', 'icon_type': 'browser', 'name': 'Atom', 'id': '199'}], 'metrics': [2.0, 2.0]}, {'dimensions': [{'name': '2020-09-08'}, {'icon_id': '5', 'icon_type': 'browser', 'name': 'MSIE', 'id': '5'}], 'metrics': [2.0, 2.0]}, {'dimensions': [{'name': '2020-09-08'}, {'icon_id': '191', 'icon_type': 'browser', 'name': 'MIUI', 'id': '191'}], 'metrics': [2.0, 2.0]}, {'dimensions': [{'name': '2020-09-08'}, {'icon_id': '199', 'icon_type': 'browser', 'name': 'Atom', 'id': '199'}], 'metrics': [2.0, 1.0]}, {'dimensions': [{'name': '2020-09-09'}, {'icon_id': '72', 'icon_type': 'browser', 'name': 'Android Browser', 'id': '72'}], 'metrics': [2.0, 2.0]}, {'dimensions': [{'name': '2020-09-09'}, {'icon_id': '120', 'icon_type': 'browser', 'name': 'Google: мобильное приложение', 'id': '120'}], 'metrics': [2.0, 2.0]}, {'dimensions': [{'name': '2020-09-09'}, {'icon_id': '191', 'icon_type': 'browser', 'name': 'MIUI', 'id': '191'}], 'metrics': [2.0, 2.0]}, {'dimensions': [{'name': '2020-09-10'}, {'icon_id': '14', 'icon_type': 'browser', 'name': 'UCWEB', 'id': '14'}], 'metrics': [2.0, 2.0]}, {'dimensions': [{'name': '2020-09-10'}, {'icon_id': '37', 'icon_type': 'browser', 'name': 'Opera Mobile', 'id': '37'}], 'metrics': [2.0, 2.0]}, {'dimensions': [{'name': '2020-09-10'}, {'icon_id': '191', 'icon_type': 'browser', 'name': 'MIUI', 'id': '191'}], 'metrics': [2.0, 2.0]}, {'dimensions': [{'name': '2020-09-10'}, {'icon_id': '204', 'icon_type': 'browser', 'name': 'HeadlessChrome', 'id': '204'}], 'metrics': [2.0, 2.0]}, {'dimensions': [{'name': '2020-09-01'}, {'icon_id': '0', 'icon_type': 'browser', 'name': None, 'id': '0'}], 'metrics': [1.0, 1.0]}, {'dimensions': [{'name': '2020-09-01'}, {'icon_id': '14', 'icon_type': 'browser', 'name': 'UCWEB', 'id': '14'}], 'metrics': [1.0, 1.0]}, {'dimensions': [{'name': '2020-09-01'}, {'icon_id': '95', 'icon_type': 'browser', 'name': 'Chromium', 'id': '95'}], 'metrics': [1.0, 1.0]}, {'dimensions': [{'name': '2020-09-01'}, {'icon_id': '117', 'icon_type': 'browser', 'name': 'Яндекс: мобильное приложение', 'id': '117'}], 'metrics': [1.0, 1.0]}, {'dimensions': [{'name': '2020-09-01'}, {'icon_id': '186', 'icon_type': 'browser', 'name': 'CocCoc', 'id': '186'}], 'metrics': [1.0, 1.0]}, {'dimensions': [{'name': '2020-09-02'}, {'icon_id': '1', 'icon_type': 'browser', 'name': 'Opera Mini', 'id': '1'}], 'metrics': [1.0, 1.0]}, {'dimensions': [{'name': '2020-09-02'}, {'icon_id': '14', 'icon_type': 'browser', 'name': 'UCWEB', 'id': '14'}], 'metrics': [1.0, 1.0]}, {'dimensions': [{'name': '2020-09-02'}, {'icon_id': '53', 'icon_type': 'browser', 'name': 'Firefox Mobile', 'id': '53'}], 'metrics': [1.0, 1.0]}, {'dimensions': [{'name': '2020-09-02'}, {'icon_id': '117', 'icon_type': 'browser', 'name': 'Яндекс: мобильное приложение', 'id': '117'}], 'metrics': [1.0, 1.0]}, {'dimensions': [{'name': '2020-09-02'}, {'icon_id': '120', 'icon_type': 'browser', 'name': 'Google: мобильное приложение', 'id': '120'}], 'metrics': [1.0, 1.0]}, {'dimensions': [{'name': '2020-09-02'}, {'icon_id': '186', 'icon_type': 'browser', 'name': 'CocCoc', 'id': '186'}], 'metrics': [1.0, 1.0]}, {'dimensions': [{'name': '2020-09-03'}, {'icon_id': '5', 'icon_type': 'browser', 'name': 'MSIE', 'id': '5'}], 'metrics': [1.0, 1.0]}, {'dimensions': [{'name': '2020-09-03'}, {'icon_id': '14', 'icon_type': 'browser', 'name': 'UCWEB', 'id': '14'}], 'metrics': [1.0, 1.0]}, {'dimensions': [{'name': '2020-09-04'}, {'icon_id': '191', 'icon_type': 'browser', 'name': 'MIUI', 'id': '191'}], 'metrics': [1.0, 1.0]}, {'dimensions': [{'name': '2020-09-05'}, {'icon_id': '5', 'icon_type': 'browser', 'name': 'MSIE', 'id': '5'}], 'metrics': [1.0, 1.0]}, {'dimensions': [{'name': '2020-09-05'}, {'icon_id': '120', 'icon_type': 'browser', 'name': 'Google: мобильное приложение', 'id': '120'}], 'metrics': [1.0, 1.0]}, {'dimensions': [{'name': '2020-09-05'}, {'icon_id': '186', 'icon_type': 'browser', 'name': 'CocCoc', 'id': '186'}], 'metrics': [1.0, 1.0]}, {'dimensions': [{'name': '2020-09-05'}, {'icon_id': '190', 'icon_type': 'browser', 'name': 'Samsung Internet', 'id': '190'}], 'metrics': [1.0, 1.0]}, {'dimensions': [{'name': '2020-09-05'}, {'icon_id': '191', 'icon_type': 'browser', 'name': 'MIUI', 'id': '191'}], 'metrics': [1.0, 1.0]}, {'dimensions': [{'name': '2020-09-06'}, {'icon_id': '186', 'icon_type': 'browser', 'name': 'CocCoc', 'id': '186'}], 'metrics': [1.0, 1.0]}, {'dimensions': [{'name': '2020-09-06'}, {'icon_id': '191', 'icon_type': 'browser', 'name': 'MIUI', 'id': '191'}], 'metrics': [1.0, 1.0]}, {'dimensions': [{'name': '2020-09-06'}, {'icon_id': '203', 'icon_type': 'browser', 'name': 'Huawei Browser', 'id': '203'}], 'metrics': [1.0, 1.0]}, {'dimensions': [{'name': '2020-09-07'}, {'icon_id': '5', 'icon_type': 'browser', 'name': 'MSIE', 'id': '5'}], 'metrics': [1.0, 1.0]}, {'dimensions': [{'name': '2020-09-07'}, {'icon_id': '37', 'icon_type': 'browser', 'name': 'Opera Mobile', 'id': '37'}], 'metrics': [1.0, 1.0]}, {'dimensions': [{'name': '2020-09-07'}, {'icon_id': '53', 'icon_type': 'browser', 'name': 'Firefox Mobile', 'id': '53'}], 'metrics': [1.0, 1.0]}, {'dimensions': [{'name': '2020-09-07'}, {'icon_id': '95', 'icon_type': 'browser', 'name': 'Chromium', 'id': '95'}], 'metrics': [1.0, 1.0]}, {'dimensions': [{'name': '2020-09-07'}, {'icon_id': '117', 'icon_type': 'browser', 'name': 'Яндекс: мобильное приложение', 'id': '117'}], 'metrics': [1.0, 1.0]}, {'dimensions': [{'name': '2020-09-07'}, {'icon_id': '186', 'icon_type': 'browser', 'name': 'CocCoc', 'id': '186'}], 'metrics': [1.0, 1.0]}, {'dimensions': [{'name': '2020-09-07'}, {'icon_id': '200', 'icon_type': 'browser', 'name': 'Opera Touch', 'id': '200'}], 'metrics': [1.0, 1.0]}, {'dimensions': [{'name': '2020-09-08'}, {'icon_id': '1', 'icon_type': 'browser', 'name': 'Opera Mini', 'id': '1'}], 'metrics': [1.0, 1.0]}, {'dimensions': [{'name': '2020-09-08'}, {'icon_id': '14', 'icon_type': 'browser', 'name': 'UCWEB', 'id': '14'}], 'metrics': [1.0, 1.0]}, {'dimensions': [{'name': '2020-09-08'}, {'icon_id': '95', 'icon_type': 'browser', 'name': 'Chromium', 'id': '95'}], 'metrics': [1.0, 1.0]}, {'dimensions': [{'name': '2020-09-08'}, {'icon_id': '117', 'icon_type': 'browser', 'name': 'Яндекс: мобильное приложение', 'id': '117'}], 'metrics': [1.0, 1.0]}, {'dimensions': [{'name': '2020-09-08'}, {'icon_id': '120', 'icon_type': 'browser', 'name': 'Google: мобильное приложение', 'id': '120'}], 'metrics': [1.0, 1.0]}, {'dimensions': [{'name': '2020-09-09'}, {'icon_id': '5', 'icon_type': 'browser', 'name': 'MSIE', 'id': '5'}], 'metrics': [1.0, 1.0]}, {'dimensions': [{'name': '2020-09-09'}, {'icon_id': '14', 'icon_type': 'browser', 'name': 'UCWEB', 'id': '14'}], 'metrics': [1.0, 1.0]}, {'dimensions': [{'name': '2020-09-09'}, {'icon_id': '37', 'icon_type': 'browser', 'name': 'Opera Mobile', 'id': '37'}], 'metrics': [1.0, 1.0]}, {'dimensions': [{'name': '2020-09-09'}, {'icon_id': '95', 'icon_type': 'browser', 'name': 'Chromium', 'id': '95'}], 'metrics': [1.0, 1.0]}, {'dimensions': [{'name': '2020-09-09'}, {'icon_id': '186', 'icon_type': 'browser', 'name': 'CocCoc', 'id': '186'}], 'metrics': [1.0, 1.0]}, {'dimensions': [{'name': '2020-09-10'}, {'icon_id': '0', 'icon_type': 'browser', 'name': None, 'id': '0'}], 'metrics': [1.0, 1.0]}, {'dimensions': [{'name': '2020-09-10'}, {'icon_id': '120', 'icon_type': 'browser', 'name': 'Google: мобильное приложение', 'id': '120'}], 'metrics': [1.0, 1.0]}, {'dimensions': [{'name': '2020-09-10'}, {'icon_id': '192', 'icon_type': 'browser', 'name': 'Яндекс.Браузер lite', 'id': '192'}], 'metrics': [1.0, 1.0]}]\n"
     ]
    }
   ],
   "source": [
    "m = Metrika()\n",
    "m.browsers()"
   ]
  },
  {
   "cell_type": "code",
   "execution_count": 50,
   "metadata": {},
   "outputs": [],
   "source": [
    "m.reformat_api_report()"
   ]
  },
  {
   "cell_type": "code",
   "execution_count": 51,
   "metadata": {},
   "outputs": [
    {
     "data": {
      "text/plain": [
       "[['2020-09-08', 'Google Chrome', 329.0, 307.0],\n",
       " ['2020-09-09', 'Google Chrome', 318.0, 289.0],\n",
       " ['2020-09-03', 'Google Chrome', 310.0, 292.0],\n",
       " ['2020-09-07', 'Google Chrome', 299.0, 271.0],\n",
       " ['2020-09-02', 'Google Chrome', 298.0, 279.0],\n",
       " ['2020-09-10', 'Google Chrome', 295.0, 261.0],\n",
       " ['2020-09-01', 'Google Chrome', 292.0, 278.0],\n",
       " ['2020-09-04', 'Google Chrome', 256.0, 237.0],\n",
       " ['2020-09-05', 'Google Chrome', 181.0, 170.0],\n",
       " ['2020-09-06', 'Google Chrome', 164.0, 159.0],\n",
       " ['2020-09-07', 'Яндекс.Браузер', 58.0, 47.0],\n",
       " ['2020-09-01', 'Яндекс.Браузер', 53.0, 48.0],\n",
       " ['2020-09-09', 'Яндекс.Браузер', 49.0, 41.0],\n",
       " ['2020-09-08', 'Яндекс.Браузер', 48.0, 48.0],\n",
       " ['2020-09-02', 'Firefox', 44.0, 43.0],\n",
       " ['2020-09-08', 'Firefox', 44.0, 40.0],\n",
       " ['2020-09-06', 'Chrome Mobile', 43.0, 37.0],\n",
       " ['2020-09-01', 'Firefox', 42.0, 41.0],\n",
       " ['2020-09-09', 'Firefox', 42.0, 39.0],\n",
       " ['2020-09-03', 'Яндекс.Браузер', 41.0, 39.0],\n",
       " ['2020-09-04', 'Firefox', 40.0, 40.0],\n",
       " ['2020-09-08', 'Chrome Mobile', 40.0, 38.0],\n",
       " ['2020-09-02', 'Яндекс.Браузер', 39.0, 36.0],\n",
       " ['2020-09-10', 'Chrome Mobile', 39.0, 36.0],\n",
       " ['2020-09-02', 'Chrome Mobile', 38.0, 37.0],\n",
       " ['2020-09-07', 'Chrome Mobile', 38.0, 34.0],\n",
       " ['2020-09-07', 'Firefox', 37.0, 35.0],\n",
       " ['2020-09-03', 'Firefox', 36.0, 34.0],\n",
       " ['2020-09-01', 'Safari', 35.0, 32.0],\n",
       " ['2020-09-07', 'Safari', 35.0, 34.0],\n",
       " ['2020-09-10', 'Firefox', 35.0, 34.0],\n",
       " ['2020-09-10', 'Яндекс.Браузер', 34.0, 29.0],\n",
       " ['2020-09-01', 'Chrome Mobile', 33.0, 28.0],\n",
       " ['2020-09-04', 'Chrome Mobile', 33.0, 31.0],\n",
       " ['2020-09-05', 'Chrome Mobile', 33.0, 30.0],\n",
       " ['2020-09-04', 'Яндекс.Браузер', 32.0, 31.0],\n",
       " ['2020-09-10', 'Safari', 32.0, 31.0],\n",
       " ['2020-09-06', 'Firefox', 29.0, 26.0],\n",
       " ['2020-09-09', 'Safari', 29.0, 29.0],\n",
       " ['2020-09-03', 'Chrome Mobile', 28.0, 26.0],\n",
       " ['2020-09-02', 'Safari', 23.0, 22.0],\n",
       " ['2020-09-09', 'Chrome Mobile', 22.0, 21.0],\n",
       " ['2020-09-03', 'Edge', 20.0, 18.0],\n",
       " ['2020-09-05', 'Firefox', 20.0, 19.0],\n",
       " ['2020-09-06', 'Яндекс.Браузер', 20.0, 20.0],\n",
       " ['2020-09-08', 'Safari', 20.0, 19.0],\n",
       " ['2020-09-03', 'Safari', 19.0, 17.0],\n",
       " ['2020-09-04', 'Safari', 18.0, 18.0],\n",
       " ['2020-09-02', 'Opera', 17.0, 17.0],\n",
       " ['2020-09-05', 'Яндекс.Браузер', 17.0, 16.0],\n",
       " ['2020-09-09', 'Mobile Safari', 17.0, 17.0],\n",
       " ['2020-09-09', 'Edge', 17.0, 17.0],\n",
       " ['2020-09-05', 'Safari', 16.0, 13.0],\n",
       " ['2020-09-02', 'Edge', 15.0, 13.0],\n",
       " ['2020-09-04', 'Edge', 15.0, 14.0],\n",
       " ['2020-09-03', 'Opera', 14.0, 13.0],\n",
       " ['2020-09-07', 'Edge', 14.0, 13.0],\n",
       " ['2020-09-10', 'Edge', 14.0, 12.0],\n",
       " ['2020-09-01', 'Edge', 13.0, 11.0],\n",
       " ['2020-09-04', 'Opera', 13.0, 13.0],\n",
       " ['2020-09-09', 'Opera', 13.0, 12.0],\n",
       " ['2020-09-08', 'Mobile Safari', 12.0, 11.0],\n",
       " ['2020-09-01', 'Opera', 11.0, 10.0],\n",
       " ['2020-09-03', 'Mobile Safari', 10.0, 10.0],\n",
       " ['2020-09-01', 'Mobile Safari', 9.0, 8.0],\n",
       " ['2020-09-02', 'Mobile Safari', 9.0, 8.0],\n",
       " ['2020-09-04', 'Mobile Safari', 9.0, 6.0],\n",
       " ['2020-09-04', 'Android Browser', 9.0, 9.0],\n",
       " ['2020-09-05', 'Mobile Safari', 9.0, 8.0],\n",
       " ['2020-09-08', 'Edge', 9.0, 9.0],\n",
       " ['2020-09-02', 'Android Browser', 8.0, 8.0],\n",
       " ['2020-09-03', 'CocCoc', 8.0, 7.0],\n",
       " ['2020-09-03', 'Samsung Internet', 8.0, 7.0],\n",
       " ['2020-09-06', 'Opera', 8.0, 8.0],\n",
       " ['2020-09-06', 'Safari', 8.0, 8.0],\n",
       " ['2020-09-07', 'Opera', 8.0, 8.0],\n",
       " ['2020-09-09', 'Samsung Internet', 8.0, 6.0],\n",
       " ['2020-09-04', 'Samsung Internet', 7.0, 7.0],\n",
       " ['2020-09-05', 'Android Browser', 7.0, 6.0],\n",
       " ['2020-09-06', 'Samsung Internet', 7.0, 7.0],\n",
       " ['2020-09-10', 'Opera', 7.0, 7.0],\n",
       " ['2020-09-01', 'Android Browser', 6.0, 6.0],\n",
       " ['2020-09-01', 'Samsung Internet', 6.0, 6.0],\n",
       " ['2020-09-02', 'Samsung Internet', 6.0, 6.0],\n",
       " ['2020-09-05', 'Edge', 6.0, 6.0],\n",
       " ['2020-09-07', 'Android Browser', 6.0, 6.0],\n",
       " ['2020-09-07', 'Mobile Safari', 5.0, 5.0],\n",
       " ['2020-09-08', 'Opera', 5.0, 5.0],\n",
       " ['2020-09-08', 'Android Browser', 5.0, 4.0],\n",
       " ['2020-09-10', 'Samsung Internet', 5.0, 4.0],\n",
       " ['2020-09-03', 'Android Browser', 4.0, 4.0],\n",
       " ['2020-09-03', 'Яндекс: мобильное приложение', 4.0, 4.0],\n",
       " ['2020-09-05', 'Opera', 4.0, 4.0],\n",
       " ['2020-09-06', 'Mobile Safari', 4.0, 4.0],\n",
       " ['2020-09-06', 'Edge', 4.0, 4.0],\n",
       " ['2020-09-07', 'Samsung Internet', 4.0, 4.0],\n",
       " ['2020-09-08', 'Samsung Internet', 4.0, 4.0],\n",
       " ['2020-09-10', 'Mobile Safari', 4.0, 4.0],\n",
       " ['2020-09-10', 'Android Browser', 4.0, 4.0],\n",
       " ['2020-09-04', 'CocCoc', 3.0, 3.0],\n",
       " ['2020-09-06', 'Android Browser', 3.0, 3.0],\n",
       " ['2020-09-08', 'CocCoc', 3.0, 3.0],\n",
       " ['2020-09-02', 'MQQBrowser', 2.0, 2.0],\n",
       " ['2020-09-04', 'MSIE', 2.0, 2.0],\n",
       " ['2020-09-05', 'UCWEB', 2.0, 2.0],\n",
       " ['2020-09-05', 'Яндекс: мобильное приложение', 2.0, 2.0],\n",
       " ['2020-09-06', 'UCWEB', 2.0, 2.0],\n",
       " ['2020-09-06', 'Atom', 2.0, 2.0],\n",
       " ['2020-09-08', 'MSIE', 2.0, 2.0],\n",
       " ['2020-09-08', 'MIUI', 2.0, 2.0],\n",
       " ['2020-09-08', 'Atom', 2.0, 1.0],\n",
       " ['2020-09-09', 'Android Browser', 2.0, 2.0],\n",
       " ['2020-09-09', 'Google: мобильное приложение', 2.0, 2.0],\n",
       " ['2020-09-09', 'MIUI', 2.0, 2.0],\n",
       " ['2020-09-10', 'UCWEB', 2.0, 2.0],\n",
       " ['2020-09-10', 'Opera Mobile', 2.0, 2.0],\n",
       " ['2020-09-10', 'MIUI', 2.0, 2.0],\n",
       " ['2020-09-10', 'HeadlessChrome', 2.0, 2.0],\n",
       " ['2020-09-01', None, 1.0, 1.0],\n",
       " ['2020-09-01', 'UCWEB', 1.0, 1.0],\n",
       " ['2020-09-01', 'Chromium', 1.0, 1.0],\n",
       " ['2020-09-01', 'Яндекс: мобильное приложение', 1.0, 1.0],\n",
       " ['2020-09-01', 'CocCoc', 1.0, 1.0],\n",
       " ['2020-09-02', 'Opera Mini', 1.0, 1.0],\n",
       " ['2020-09-02', 'UCWEB', 1.0, 1.0],\n",
       " ['2020-09-02', 'Firefox Mobile', 1.0, 1.0],\n",
       " ['2020-09-02', 'Яндекс: мобильное приложение', 1.0, 1.0],\n",
       " ['2020-09-02', 'Google: мобильное приложение', 1.0, 1.0],\n",
       " ['2020-09-02', 'CocCoc', 1.0, 1.0],\n",
       " ['2020-09-03', 'MSIE', 1.0, 1.0],\n",
       " ['2020-09-03', 'UCWEB', 1.0, 1.0],\n",
       " ['2020-09-04', 'MIUI', 1.0, 1.0],\n",
       " ['2020-09-05', 'MSIE', 1.0, 1.0],\n",
       " ['2020-09-05', 'Google: мобильное приложение', 1.0, 1.0],\n",
       " ['2020-09-05', 'CocCoc', 1.0, 1.0],\n",
       " ['2020-09-05', 'Samsung Internet', 1.0, 1.0],\n",
       " ['2020-09-05', 'MIUI', 1.0, 1.0],\n",
       " ['2020-09-06', 'CocCoc', 1.0, 1.0],\n",
       " ['2020-09-06', 'MIUI', 1.0, 1.0],\n",
       " ['2020-09-06', 'Huawei Browser', 1.0, 1.0],\n",
       " ['2020-09-07', 'MSIE', 1.0, 1.0],\n",
       " ['2020-09-07', 'Opera Mobile', 1.0, 1.0],\n",
       " ['2020-09-07', 'Firefox Mobile', 1.0, 1.0],\n",
       " ['2020-09-07', 'Chromium', 1.0, 1.0],\n",
       " ['2020-09-07', 'Яндекс: мобильное приложение', 1.0, 1.0],\n",
       " ['2020-09-07', 'CocCoc', 1.0, 1.0],\n",
       " ['2020-09-07', 'Opera Touch', 1.0, 1.0],\n",
       " ['2020-09-08', 'Opera Mini', 1.0, 1.0],\n",
       " ['2020-09-08', 'UCWEB', 1.0, 1.0],\n",
       " ['2020-09-08', 'Chromium', 1.0, 1.0],\n",
       " ['2020-09-08', 'Яндекс: мобильное приложение', 1.0, 1.0],\n",
       " ['2020-09-08', 'Google: мобильное приложение', 1.0, 1.0],\n",
       " ['2020-09-09', 'MSIE', 1.0, 1.0],\n",
       " ['2020-09-09', 'UCWEB', 1.0, 1.0],\n",
       " ['2020-09-09', 'Opera Mobile', 1.0, 1.0],\n",
       " ['2020-09-09', 'Chromium', 1.0, 1.0],\n",
       " ['2020-09-09', 'CocCoc', 1.0, 1.0],\n",
       " ['2020-09-10', None, 1.0, 1.0],\n",
       " ['2020-09-10', 'Google: мобильное приложение', 1.0, 1.0],\n",
       " ['2020-09-10', 'Яндекс.Браузер lite', 1.0, 1.0]]"
      ]
     },
     "execution_count": 51,
     "metadata": {},
     "output_type": "execute_result"
    }
   ],
   "source": [
    "m.report"
   ]
  },
  {
   "cell_type": "code",
   "execution_count": 52,
   "metadata": {},
   "outputs": [
    {
     "name": "stdout",
     "output_type": "stream",
     "text": [
      "Starting offset 1\n",
      "Report [{'dimensions': [{'name': '2020-09-08'}], 'metrics': [530.0]}, {'dimensions': [{'name': '2020-09-09'}], 'metrics': [526.0]}, {'dimensions': [{'name': '2020-09-07'}], 'metrics': [511.0]}, {'dimensions': [{'name': '2020-09-01'}], 'metrics': [505.0]}, {'dimensions': [{'name': '2020-09-02'}], 'metrics': [505.0]}, {'dimensions': [{'name': '2020-09-03'}], 'metrics': [504.0]}, {'dimensions': [{'name': '2020-09-10'}], 'metrics': [480.0]}, {'dimensions': [{'name': '2020-09-04'}], 'metrics': [438.0]}, {'dimensions': [{'name': '2020-09-05'}], 'metrics': [302.0]}, {'dimensions': [{'name': '2020-09-06'}], 'metrics': [297.0]}]\n"
     ]
    }
   ],
   "source": [
    "m.traffic()"
   ]
  },
  {
   "cell_type": "code",
   "execution_count": 54,
   "metadata": {},
   "outputs": [],
   "source": [
    "m.reformat_api_report()"
   ]
  },
  {
   "cell_type": "code",
   "execution_count": 55,
   "metadata": {},
   "outputs": [
    {
     "data": {
      "text/plain": [
       "[['2020-09-08', 530.0],\n",
       " ['2020-09-09', 526.0],\n",
       " ['2020-09-07', 511.0],\n",
       " ['2020-09-01', 505.0],\n",
       " ['2020-09-02', 505.0],\n",
       " ['2020-09-03', 504.0],\n",
       " ['2020-09-10', 480.0],\n",
       " ['2020-09-04', 438.0],\n",
       " ['2020-09-05', 302.0],\n",
       " ['2020-09-06', 297.0]]"
      ]
     },
     "execution_count": 55,
     "metadata": {},
     "output_type": "execute_result"
    }
   ],
   "source": [
    "m.report"
   ]
  },
  {
   "cell_type": "code",
   "execution_count": null,
   "metadata": {},
   "outputs": [],
   "source": []
  }
 ],
 "metadata": {
  "kernelspec": {
   "display_name": "Python 3",
   "language": "python",
   "name": "python3"
  },
  "language_info": {
   "codemirror_mode": {
    "name": "ipython",
    "version": 3
   },
   "file_extension": ".py",
   "mimetype": "text/x-python",
   "name": "python",
   "nbconvert_exporter": "python",
   "pygments_lexer": "ipython3",
   "version": "3.8.8"
  }
 },
 "nbformat": 4,
 "nbformat_minor": 4
}
