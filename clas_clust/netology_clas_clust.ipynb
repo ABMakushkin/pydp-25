{
 "cells": [
  {
   "cell_type": "markdown",
   "metadata": {
    "id": "nXOA4pGqoi7p"
   },
   "source": [
    "# Задачи классификации и кластеризации\n",
    "\n",
    "Булыгин Олег:  \n",
    "* [LinkedIn](linkedin.com/in/obulygin)  \n",
    "* [Мой канал в ТГ по Python](https://t.me/pythontalk_ru)\n",
    "* [Чат канала](https://t.me/pythontalk_chat)\n",
    "* [Блог в Телетайпе](https://teletype.in/@pythontalk)"
   ]
  },
  {
   "cell_type": "code",
   "execution_count": null,
   "metadata": {
    "id": "-ppToJrUWoJ0"
   },
   "outputs": [],
   "source": [
    "from sklearn.datasets import load_wine\n",
    "import pandas as pd\n",
    "import numpy as np\n",
    "import matplotlib.pyplot as plt"
   ]
  },
  {
   "cell_type": "code",
   "execution_count": null,
   "metadata": {
    "id": "cmLC9M6oW2v8"
   },
   "outputs": [],
   "source": [
    "wine = load_wine()"
   ]
  },
  {
   "cell_type": "code",
   "execution_count": null,
   "metadata": {
    "colab": {
     "base_uri": "https://localhost:8080/"
    },
    "id": "7eptbMYNvq0S",
    "outputId": "dde54ac0-18f0-4a8c-c200-5cef2831aad4"
   },
   "outputs": [
    {
     "name": "stdout",
     "output_type": "stream",
     "text": [
      ".. _wine_dataset:\n",
      "\n",
      "Wine recognition dataset\n",
      "------------------------\n",
      "\n",
      "**Data Set Characteristics:**\n",
      "\n",
      "    :Number of Instances: 178\n",
      "    :Number of Attributes: 13 numeric, predictive attributes and the class\n",
      "    :Attribute Information:\n",
      " \t\t- Alcohol\n",
      " \t\t- Malic acid\n",
      " \t\t- Ash\n",
      "\t\t- Alcalinity of ash  \n",
      " \t\t- Magnesium\n",
      "\t\t- Total phenols\n",
      " \t\t- Flavanoids\n",
      " \t\t- Nonflavanoid phenols\n",
      " \t\t- Proanthocyanins\n",
      "\t\t- Color intensity\n",
      " \t\t- Hue\n",
      " \t\t- OD280/OD315 of diluted wines\n",
      " \t\t- Proline\n",
      "\n",
      "    - class:\n",
      "            - class_0\n",
      "            - class_1\n",
      "            - class_2\n",
      "\t\t\n",
      "    :Summary Statistics:\n",
      "    \n",
      "    ============================= ==== ===== ======= =====\n",
      "                                   Min   Max   Mean     SD\n",
      "    ============================= ==== ===== ======= =====\n",
      "    Alcohol:                      11.0  14.8    13.0   0.8\n",
      "    Malic Acid:                   0.74  5.80    2.34  1.12\n",
      "    Ash:                          1.36  3.23    2.36  0.27\n",
      "    Alcalinity of Ash:            10.6  30.0    19.5   3.3\n",
      "    Magnesium:                    70.0 162.0    99.7  14.3\n",
      "    Total Phenols:                0.98  3.88    2.29  0.63\n",
      "    Flavanoids:                   0.34  5.08    2.03  1.00\n",
      "    Nonflavanoid Phenols:         0.13  0.66    0.36  0.12\n",
      "    Proanthocyanins:              0.41  3.58    1.59  0.57\n",
      "    Colour Intensity:              1.3  13.0     5.1   2.3\n",
      "    Hue:                          0.48  1.71    0.96  0.23\n",
      "    OD280/OD315 of diluted wines: 1.27  4.00    2.61  0.71\n",
      "    Proline:                       278  1680     746   315\n",
      "    ============================= ==== ===== ======= =====\n",
      "\n",
      "    :Missing Attribute Values: None\n",
      "    :Class Distribution: class_0 (59), class_1 (71), class_2 (48)\n",
      "    :Creator: R.A. Fisher\n",
      "    :Donor: Michael Marshall (MARSHALL%PLU@io.arc.nasa.gov)\n",
      "    :Date: July, 1988\n",
      "\n",
      "This is a copy of UCI ML Wine recognition datasets.\n",
      "https://archive.ics.uci.edu/ml/machine-learning-databases/wine/wine.data\n",
      "\n",
      "The data is the results of a chemical analysis of wines grown in the same\n",
      "region in Italy by three different cultivators. There are thirteen different\n",
      "measurements taken for different constituents found in the three types of\n",
      "wine.\n",
      "\n",
      "Original Owners: \n",
      "\n",
      "Forina, M. et al, PARVUS - \n",
      "An Extendible Package for Data Exploration, Classification and Correlation. \n",
      "Institute of Pharmaceutical and Food Analysis and Technologies,\n",
      "Via Brigata Salerno, 16147 Genoa, Italy.\n",
      "\n",
      "Citation:\n",
      "\n",
      "Lichman, M. (2013). UCI Machine Learning Repository\n",
      "[https://archive.ics.uci.edu/ml]. Irvine, CA: University of California,\n",
      "School of Information and Computer Science. \n",
      "\n",
      ".. topic:: References\n",
      "\n",
      "  (1) S. Aeberhard, D. Coomans and O. de Vel, \n",
      "  Comparison of Classifiers in High Dimensional Settings, \n",
      "  Tech. Rep. no. 92-02, (1992), Dept. of Computer Science and Dept. of  \n",
      "  Mathematics and Statistics, James Cook University of North Queensland. \n",
      "  (Also submitted to Technometrics). \n",
      "\n",
      "  The data was used with many others for comparing various \n",
      "  classifiers. The classes are separable, though only RDA \n",
      "  has achieved 100% correct classification. \n",
      "  (RDA : 100%, QDA 99.4%, LDA 98.9%, 1NN 96.1% (z-transformed data)) \n",
      "  (All results using the leave-one-out technique) \n",
      "\n",
      "  (2) S. Aeberhard, D. Coomans and O. de Vel, \n",
      "  \"THE CLASSIFICATION PERFORMANCE OF RDA\" \n",
      "  Tech. Rep. no. 92-01, (1992), Dept. of Computer Science and Dept. of \n",
      "  Mathematics and Statistics, James Cook University of North Queensland. \n",
      "  (Also submitted to Journal of Chemometrics).\n",
      "\n"
     ]
    }
   ],
   "source": [
    "print(wine.DESCR)"
   ]
  },
  {
   "cell_type": "code",
   "execution_count": null,
   "metadata": {
    "id": "7rO21IhnvyIo"
   },
   "outputs": [],
   "source": [
    "# загружаем данные в датафрейм\n",
    "data = pd.DataFrame(wine.data, columns=wine.feature_names)\n",
    "data_class = wine.target"
   ]
  },
  {
   "cell_type": "code",
   "execution_count": null,
   "metadata": {
    "colab": {
     "base_uri": "https://localhost:8080/",
     "height": 467
    },
    "id": "M92y_fa2wBjn",
    "outputId": "5016eb96-79f7-42a4-d646-dedceb491c8e"
   },
   "outputs": [
    {
     "data": {
      "text/html": [
       "\n",
       "  <div id=\"df-38e369d9-0b16-47d1-ae0c-f1c3fba8ca27\">\n",
       "    <div class=\"colab-df-container\">\n",
       "      <div>\n",
       "<style scoped>\n",
       "    .dataframe tbody tr th:only-of-type {\n",
       "        vertical-align: middle;\n",
       "    }\n",
       "\n",
       "    .dataframe tbody tr th {\n",
       "        vertical-align: top;\n",
       "    }\n",
       "\n",
       "    .dataframe thead th {\n",
       "        text-align: right;\n",
       "    }\n",
       "</style>\n",
       "<table border=\"1\" class=\"dataframe\">\n",
       "  <thead>\n",
       "    <tr style=\"text-align: right;\">\n",
       "      <th></th>\n",
       "      <th>alcohol</th>\n",
       "      <th>malic_acid</th>\n",
       "      <th>ash</th>\n",
       "      <th>alcalinity_of_ash</th>\n",
       "      <th>magnesium</th>\n",
       "      <th>total_phenols</th>\n",
       "      <th>flavanoids</th>\n",
       "      <th>nonflavanoid_phenols</th>\n",
       "      <th>proanthocyanins</th>\n",
       "      <th>color_intensity</th>\n",
       "      <th>hue</th>\n",
       "      <th>od280/od315_of_diluted_wines</th>\n",
       "      <th>proline</th>\n",
       "    </tr>\n",
       "  </thead>\n",
       "  <tbody>\n",
       "    <tr>\n",
       "      <th>0</th>\n",
       "      <td>14.23</td>\n",
       "      <td>1.71</td>\n",
       "      <td>2.43</td>\n",
       "      <td>15.6</td>\n",
       "      <td>127.0</td>\n",
       "      <td>2.80</td>\n",
       "      <td>3.06</td>\n",
       "      <td>0.28</td>\n",
       "      <td>2.29</td>\n",
       "      <td>5.64</td>\n",
       "      <td>1.04</td>\n",
       "      <td>3.92</td>\n",
       "      <td>1065.0</td>\n",
       "    </tr>\n",
       "    <tr>\n",
       "      <th>1</th>\n",
       "      <td>13.20</td>\n",
       "      <td>1.78</td>\n",
       "      <td>2.14</td>\n",
       "      <td>11.2</td>\n",
       "      <td>100.0</td>\n",
       "      <td>2.65</td>\n",
       "      <td>2.76</td>\n",
       "      <td>0.26</td>\n",
       "      <td>1.28</td>\n",
       "      <td>4.38</td>\n",
       "      <td>1.05</td>\n",
       "      <td>3.40</td>\n",
       "      <td>1050.0</td>\n",
       "    </tr>\n",
       "    <tr>\n",
       "      <th>2</th>\n",
       "      <td>13.16</td>\n",
       "      <td>2.36</td>\n",
       "      <td>2.67</td>\n",
       "      <td>18.6</td>\n",
       "      <td>101.0</td>\n",
       "      <td>2.80</td>\n",
       "      <td>3.24</td>\n",
       "      <td>0.30</td>\n",
       "      <td>2.81</td>\n",
       "      <td>5.68</td>\n",
       "      <td>1.03</td>\n",
       "      <td>3.17</td>\n",
       "      <td>1185.0</td>\n",
       "    </tr>\n",
       "    <tr>\n",
       "      <th>3</th>\n",
       "      <td>14.37</td>\n",
       "      <td>1.95</td>\n",
       "      <td>2.50</td>\n",
       "      <td>16.8</td>\n",
       "      <td>113.0</td>\n",
       "      <td>3.85</td>\n",
       "      <td>3.49</td>\n",
       "      <td>0.24</td>\n",
       "      <td>2.18</td>\n",
       "      <td>7.80</td>\n",
       "      <td>0.86</td>\n",
       "      <td>3.45</td>\n",
       "      <td>1480.0</td>\n",
       "    </tr>\n",
       "    <tr>\n",
       "      <th>4</th>\n",
       "      <td>13.24</td>\n",
       "      <td>2.59</td>\n",
       "      <td>2.87</td>\n",
       "      <td>21.0</td>\n",
       "      <td>118.0</td>\n",
       "      <td>2.80</td>\n",
       "      <td>2.69</td>\n",
       "      <td>0.39</td>\n",
       "      <td>1.82</td>\n",
       "      <td>4.32</td>\n",
       "      <td>1.04</td>\n",
       "      <td>2.93</td>\n",
       "      <td>735.0</td>\n",
       "    </tr>\n",
       "    <tr>\n",
       "      <th>...</th>\n",
       "      <td>...</td>\n",
       "      <td>...</td>\n",
       "      <td>...</td>\n",
       "      <td>...</td>\n",
       "      <td>...</td>\n",
       "      <td>...</td>\n",
       "      <td>...</td>\n",
       "      <td>...</td>\n",
       "      <td>...</td>\n",
       "      <td>...</td>\n",
       "      <td>...</td>\n",
       "      <td>...</td>\n",
       "      <td>...</td>\n",
       "    </tr>\n",
       "    <tr>\n",
       "      <th>173</th>\n",
       "      <td>13.71</td>\n",
       "      <td>5.65</td>\n",
       "      <td>2.45</td>\n",
       "      <td>20.5</td>\n",
       "      <td>95.0</td>\n",
       "      <td>1.68</td>\n",
       "      <td>0.61</td>\n",
       "      <td>0.52</td>\n",
       "      <td>1.06</td>\n",
       "      <td>7.70</td>\n",
       "      <td>0.64</td>\n",
       "      <td>1.74</td>\n",
       "      <td>740.0</td>\n",
       "    </tr>\n",
       "    <tr>\n",
       "      <th>174</th>\n",
       "      <td>13.40</td>\n",
       "      <td>3.91</td>\n",
       "      <td>2.48</td>\n",
       "      <td>23.0</td>\n",
       "      <td>102.0</td>\n",
       "      <td>1.80</td>\n",
       "      <td>0.75</td>\n",
       "      <td>0.43</td>\n",
       "      <td>1.41</td>\n",
       "      <td>7.30</td>\n",
       "      <td>0.70</td>\n",
       "      <td>1.56</td>\n",
       "      <td>750.0</td>\n",
       "    </tr>\n",
       "    <tr>\n",
       "      <th>175</th>\n",
       "      <td>13.27</td>\n",
       "      <td>4.28</td>\n",
       "      <td>2.26</td>\n",
       "      <td>20.0</td>\n",
       "      <td>120.0</td>\n",
       "      <td>1.59</td>\n",
       "      <td>0.69</td>\n",
       "      <td>0.43</td>\n",
       "      <td>1.35</td>\n",
       "      <td>10.20</td>\n",
       "      <td>0.59</td>\n",
       "      <td>1.56</td>\n",
       "      <td>835.0</td>\n",
       "    </tr>\n",
       "    <tr>\n",
       "      <th>176</th>\n",
       "      <td>13.17</td>\n",
       "      <td>2.59</td>\n",
       "      <td>2.37</td>\n",
       "      <td>20.0</td>\n",
       "      <td>120.0</td>\n",
       "      <td>1.65</td>\n",
       "      <td>0.68</td>\n",
       "      <td>0.53</td>\n",
       "      <td>1.46</td>\n",
       "      <td>9.30</td>\n",
       "      <td>0.60</td>\n",
       "      <td>1.62</td>\n",
       "      <td>840.0</td>\n",
       "    </tr>\n",
       "    <tr>\n",
       "      <th>177</th>\n",
       "      <td>14.13</td>\n",
       "      <td>4.10</td>\n",
       "      <td>2.74</td>\n",
       "      <td>24.5</td>\n",
       "      <td>96.0</td>\n",
       "      <td>2.05</td>\n",
       "      <td>0.76</td>\n",
       "      <td>0.56</td>\n",
       "      <td>1.35</td>\n",
       "      <td>9.20</td>\n",
       "      <td>0.61</td>\n",
       "      <td>1.60</td>\n",
       "      <td>560.0</td>\n",
       "    </tr>\n",
       "  </tbody>\n",
       "</table>\n",
       "<p>178 rows × 13 columns</p>\n",
       "</div>\n",
       "      <button class=\"colab-df-convert\" onclick=\"convertToInteractive('df-38e369d9-0b16-47d1-ae0c-f1c3fba8ca27')\"\n",
       "              title=\"Convert this dataframe to an interactive table.\"\n",
       "              style=\"display:none;\">\n",
       "        \n",
       "  <svg xmlns=\"http://www.w3.org/2000/svg\" height=\"24px\"viewBox=\"0 0 24 24\"\n",
       "       width=\"24px\">\n",
       "    <path d=\"M0 0h24v24H0V0z\" fill=\"none\"/>\n",
       "    <path d=\"M18.56 5.44l.94 2.06.94-2.06 2.06-.94-2.06-.94-.94-2.06-.94 2.06-2.06.94zm-11 1L8.5 8.5l.94-2.06 2.06-.94-2.06-.94L8.5 2.5l-.94 2.06-2.06.94zm10 10l.94 2.06.94-2.06 2.06-.94-2.06-.94-.94-2.06-.94 2.06-2.06.94z\"/><path d=\"M17.41 7.96l-1.37-1.37c-.4-.4-.92-.59-1.43-.59-.52 0-1.04.2-1.43.59L10.3 9.45l-7.72 7.72c-.78.78-.78 2.05 0 2.83L4 21.41c.39.39.9.59 1.41.59.51 0 1.02-.2 1.41-.59l7.78-7.78 2.81-2.81c.8-.78.8-2.07 0-2.86zM5.41 20L4 18.59l7.72-7.72 1.47 1.35L5.41 20z\"/>\n",
       "  </svg>\n",
       "      </button>\n",
       "      \n",
       "  <style>\n",
       "    .colab-df-container {\n",
       "      display:flex;\n",
       "      flex-wrap:wrap;\n",
       "      gap: 12px;\n",
       "    }\n",
       "\n",
       "    .colab-df-convert {\n",
       "      background-color: #E8F0FE;\n",
       "      border: none;\n",
       "      border-radius: 50%;\n",
       "      cursor: pointer;\n",
       "      display: none;\n",
       "      fill: #1967D2;\n",
       "      height: 32px;\n",
       "      padding: 0 0 0 0;\n",
       "      width: 32px;\n",
       "    }\n",
       "\n",
       "    .colab-df-convert:hover {\n",
       "      background-color: #E2EBFA;\n",
       "      box-shadow: 0px 1px 2px rgba(60, 64, 67, 0.3), 0px 1px 3px 1px rgba(60, 64, 67, 0.15);\n",
       "      fill: #174EA6;\n",
       "    }\n",
       "\n",
       "    [theme=dark] .colab-df-convert {\n",
       "      background-color: #3B4455;\n",
       "      fill: #D2E3FC;\n",
       "    }\n",
       "\n",
       "    [theme=dark] .colab-df-convert:hover {\n",
       "      background-color: #434B5C;\n",
       "      box-shadow: 0px 1px 3px 1px rgba(0, 0, 0, 0.15);\n",
       "      filter: drop-shadow(0px 1px 2px rgba(0, 0, 0, 0.3));\n",
       "      fill: #FFFFFF;\n",
       "    }\n",
       "  </style>\n",
       "\n",
       "      <script>\n",
       "        const buttonEl =\n",
       "          document.querySelector('#df-38e369d9-0b16-47d1-ae0c-f1c3fba8ca27 button.colab-df-convert');\n",
       "        buttonEl.style.display =\n",
       "          google.colab.kernel.accessAllowed ? 'block' : 'none';\n",
       "\n",
       "        async function convertToInteractive(key) {\n",
       "          const element = document.querySelector('#df-38e369d9-0b16-47d1-ae0c-f1c3fba8ca27');\n",
       "          const dataTable =\n",
       "            await google.colab.kernel.invokeFunction('convertToInteractive',\n",
       "                                                     [key], {});\n",
       "          if (!dataTable) return;\n",
       "\n",
       "          const docLinkHtml = 'Like what you see? Visit the ' +\n",
       "            '<a target=\"_blank\" href=https://colab.research.google.com/notebooks/data_table.ipynb>data table notebook</a>'\n",
       "            + ' to learn more about interactive tables.';\n",
       "          element.innerHTML = '';\n",
       "          dataTable['output_type'] = 'display_data';\n",
       "          await google.colab.output.renderOutput(dataTable, element);\n",
       "          const docLink = document.createElement('div');\n",
       "          docLink.innerHTML = docLinkHtml;\n",
       "          element.appendChild(docLink);\n",
       "        }\n",
       "      </script>\n",
       "    </div>\n",
       "  </div>\n",
       "  "
      ],
      "text/plain": [
       "     alcohol  malic_acid   ash  alcalinity_of_ash  magnesium  total_phenols  \\\n",
       "0      14.23        1.71  2.43               15.6      127.0           2.80   \n",
       "1      13.20        1.78  2.14               11.2      100.0           2.65   \n",
       "2      13.16        2.36  2.67               18.6      101.0           2.80   \n",
       "3      14.37        1.95  2.50               16.8      113.0           3.85   \n",
       "4      13.24        2.59  2.87               21.0      118.0           2.80   \n",
       "..       ...         ...   ...                ...        ...            ...   \n",
       "173    13.71        5.65  2.45               20.5       95.0           1.68   \n",
       "174    13.40        3.91  2.48               23.0      102.0           1.80   \n",
       "175    13.27        4.28  2.26               20.0      120.0           1.59   \n",
       "176    13.17        2.59  2.37               20.0      120.0           1.65   \n",
       "177    14.13        4.10  2.74               24.5       96.0           2.05   \n",
       "\n",
       "     flavanoids  nonflavanoid_phenols  proanthocyanins  color_intensity   hue  \\\n",
       "0          3.06                  0.28             2.29             5.64  1.04   \n",
       "1          2.76                  0.26             1.28             4.38  1.05   \n",
       "2          3.24                  0.30             2.81             5.68  1.03   \n",
       "3          3.49                  0.24             2.18             7.80  0.86   \n",
       "4          2.69                  0.39             1.82             4.32  1.04   \n",
       "..          ...                   ...              ...              ...   ...   \n",
       "173        0.61                  0.52             1.06             7.70  0.64   \n",
       "174        0.75                  0.43             1.41             7.30  0.70   \n",
       "175        0.69                  0.43             1.35            10.20  0.59   \n",
       "176        0.68                  0.53             1.46             9.30  0.60   \n",
       "177        0.76                  0.56             1.35             9.20  0.61   \n",
       "\n",
       "     od280/od315_of_diluted_wines  proline  \n",
       "0                            3.92   1065.0  \n",
       "1                            3.40   1050.0  \n",
       "2                            3.17   1185.0  \n",
       "3                            3.45   1480.0  \n",
       "4                            2.93    735.0  \n",
       "..                            ...      ...  \n",
       "173                          1.74    740.0  \n",
       "174                          1.56    750.0  \n",
       "175                          1.56    835.0  \n",
       "176                          1.62    840.0  \n",
       "177                          1.60    560.0  \n",
       "\n",
       "[178 rows x 13 columns]"
      ]
     },
     "execution_count": 5,
     "metadata": {},
     "output_type": "execute_result"
    }
   ],
   "source": [
    "data"
   ]
  },
  {
   "cell_type": "code",
   "execution_count": null,
   "metadata": {
    "colab": {
     "base_uri": "https://localhost:8080/"
    },
    "id": "4u8TEZjzby45",
    "outputId": "1311d2d5-2f3c-4c09-cfdc-16e0d5ccffb5"
   },
   "outputs": [
    {
     "data": {
      "text/plain": [
       "array([0, 0, 0, 0, 0, 0, 0, 0, 0, 0, 0, 0, 0, 0, 0, 0, 0, 0, 0, 0, 0, 0,\n",
       "       0, 0, 0, 0, 0, 0, 0, 0, 0, 0, 0, 0, 0, 0, 0, 0, 0, 0, 0, 0, 0, 0,\n",
       "       0, 0, 0, 0, 0, 0, 0, 0, 0, 0, 0, 0, 0, 0, 0, 1, 1, 1, 1, 1, 1, 1,\n",
       "       1, 1, 1, 1, 1, 1, 1, 1, 1, 1, 1, 1, 1, 1, 1, 1, 1, 1, 1, 1, 1, 1,\n",
       "       1, 1, 1, 1, 1, 1, 1, 1, 1, 1, 1, 1, 1, 1, 1, 1, 1, 1, 1, 1, 1, 1,\n",
       "       1, 1, 1, 1, 1, 1, 1, 1, 1, 1, 1, 1, 1, 1, 1, 1, 1, 1, 1, 1, 2, 2,\n",
       "       2, 2, 2, 2, 2, 2, 2, 2, 2, 2, 2, 2, 2, 2, 2, 2, 2, 2, 2, 2, 2, 2,\n",
       "       2, 2, 2, 2, 2, 2, 2, 2, 2, 2, 2, 2, 2, 2, 2, 2, 2, 2, 2, 2, 2, 2,\n",
       "       2, 2])"
      ]
     },
     "execution_count": 6,
     "metadata": {},
     "output_type": "execute_result"
    }
   ],
   "source": [
    "data_class"
   ]
  },
  {
   "cell_type": "code",
   "execution_count": null,
   "metadata": {
    "id": "lFjqjX-iwCaW"
   },
   "outputs": [],
   "source": [
    "# разделяем выборку на тренировочную и тестовую\n",
    "from sklearn.model_selection import train_test_split\n",
    "X_train, X_test, y_train, y_test = train_test_split(data, data_class, random_state=42)"
   ]
  },
  {
   "cell_type": "code",
   "execution_count": null,
   "metadata": {
    "id": "ygkZ_ffYby48"
   },
   "outputs": [],
   "source": [
    "len(y_test)"
   ]
  },
  {
   "cell_type": "code",
   "execution_count": null,
   "metadata": {
    "id": "6HINhvLtwdZT"
   },
   "outputs": [],
   "source": [
    "# импортируем LDA-функционал\n",
    "from sklearn.discriminant_analysis import LinearDiscriminantAnalysis"
   ]
  },
  {
   "cell_type": "code",
   "execution_count": null,
   "metadata": {
    "id": "0Us8oVotwku1"
   },
   "outputs": [],
   "source": [
    "lda = LinearDiscriminantAnalysis()"
   ]
  },
  {
   "cell_type": "code",
   "execution_count": null,
   "metadata": {
    "colab": {
     "base_uri": "https://localhost:8080/",
     "height": 74
    },
    "id": "h5Ufc5sjwnZ3",
    "outputId": "f04374ca-918b-4149-fb8b-e656e622cf62"
   },
   "outputs": [
    {
     "data": {
      "text/html": [
       "<style>#sk-container-id-1 {color: black;background-color: white;}#sk-container-id-1 pre{padding: 0;}#sk-container-id-1 div.sk-toggleable {background-color: white;}#sk-container-id-1 label.sk-toggleable__label {cursor: pointer;display: block;width: 100%;margin-bottom: 0;padding: 0.3em;box-sizing: border-box;text-align: center;}#sk-container-id-1 label.sk-toggleable__label-arrow:before {content: \"▸\";float: left;margin-right: 0.25em;color: #696969;}#sk-container-id-1 label.sk-toggleable__label-arrow:hover:before {color: black;}#sk-container-id-1 div.sk-estimator:hover label.sk-toggleable__label-arrow:before {color: black;}#sk-container-id-1 div.sk-toggleable__content {max-height: 0;max-width: 0;overflow: hidden;text-align: left;background-color: #f0f8ff;}#sk-container-id-1 div.sk-toggleable__content pre {margin: 0.2em;color: black;border-radius: 0.25em;background-color: #f0f8ff;}#sk-container-id-1 input.sk-toggleable__control:checked~div.sk-toggleable__content {max-height: 200px;max-width: 100%;overflow: auto;}#sk-container-id-1 input.sk-toggleable__control:checked~label.sk-toggleable__label-arrow:before {content: \"▾\";}#sk-container-id-1 div.sk-estimator input.sk-toggleable__control:checked~label.sk-toggleable__label {background-color: #d4ebff;}#sk-container-id-1 div.sk-label input.sk-toggleable__control:checked~label.sk-toggleable__label {background-color: #d4ebff;}#sk-container-id-1 input.sk-hidden--visually {border: 0;clip: rect(1px 1px 1px 1px);clip: rect(1px, 1px, 1px, 1px);height: 1px;margin: -1px;overflow: hidden;padding: 0;position: absolute;width: 1px;}#sk-container-id-1 div.sk-estimator {font-family: monospace;background-color: #f0f8ff;border: 1px dotted black;border-radius: 0.25em;box-sizing: border-box;margin-bottom: 0.5em;}#sk-container-id-1 div.sk-estimator:hover {background-color: #d4ebff;}#sk-container-id-1 div.sk-parallel-item::after {content: \"\";width: 100%;border-bottom: 1px solid gray;flex-grow: 1;}#sk-container-id-1 div.sk-label:hover label.sk-toggleable__label {background-color: #d4ebff;}#sk-container-id-1 div.sk-serial::before {content: \"\";position: absolute;border-left: 1px solid gray;box-sizing: border-box;top: 0;bottom: 0;left: 50%;z-index: 0;}#sk-container-id-1 div.sk-serial {display: flex;flex-direction: column;align-items: center;background-color: white;padding-right: 0.2em;padding-left: 0.2em;position: relative;}#sk-container-id-1 div.sk-item {position: relative;z-index: 1;}#sk-container-id-1 div.sk-parallel {display: flex;align-items: stretch;justify-content: center;background-color: white;position: relative;}#sk-container-id-1 div.sk-item::before, #sk-container-id-1 div.sk-parallel-item::before {content: \"\";position: absolute;border-left: 1px solid gray;box-sizing: border-box;top: 0;bottom: 0;left: 50%;z-index: -1;}#sk-container-id-1 div.sk-parallel-item {display: flex;flex-direction: column;z-index: 1;position: relative;background-color: white;}#sk-container-id-1 div.sk-parallel-item:first-child::after {align-self: flex-end;width: 50%;}#sk-container-id-1 div.sk-parallel-item:last-child::after {align-self: flex-start;width: 50%;}#sk-container-id-1 div.sk-parallel-item:only-child::after {width: 0;}#sk-container-id-1 div.sk-dashed-wrapped {border: 1px dashed gray;margin: 0 0.4em 0.5em 0.4em;box-sizing: border-box;padding-bottom: 0.4em;background-color: white;}#sk-container-id-1 div.sk-label label {font-family: monospace;font-weight: bold;display: inline-block;line-height: 1.2em;}#sk-container-id-1 div.sk-label-container {text-align: center;}#sk-container-id-1 div.sk-container {/* jupyter's `normalize.less` sets `[hidden] { display: none; }` but bootstrap.min.css set `[hidden] { display: none !important; }` so we also need the `!important` here to be able to override the default hidden behavior on the sphinx rendered scikit-learn.org. See: https://github.com/scikit-learn/scikit-learn/issues/21755 */display: inline-block !important;position: relative;}#sk-container-id-1 div.sk-text-repr-fallback {display: none;}</style><div id=\"sk-container-id-1\" class=\"sk-top-container\"><div class=\"sk-text-repr-fallback\"><pre>LinearDiscriminantAnalysis()</pre><b>In a Jupyter environment, please rerun this cell to show the HTML representation or trust the notebook. <br />On GitHub, the HTML representation is unable to render, please try loading this page with nbviewer.org.</b></div><div class=\"sk-container\" hidden><div class=\"sk-item\"><div class=\"sk-estimator sk-toggleable\"><input class=\"sk-toggleable__control sk-hidden--visually\" id=\"sk-estimator-id-1\" type=\"checkbox\" checked><label for=\"sk-estimator-id-1\" class=\"sk-toggleable__label sk-toggleable__label-arrow\">LinearDiscriminantAnalysis</label><div class=\"sk-toggleable__content\"><pre>LinearDiscriminantAnalysis()</pre></div></div></div></div></div>"
      ],
      "text/plain": [
       "LinearDiscriminantAnalysis()"
      ]
     },
     "execution_count": 10,
     "metadata": {},
     "output_type": "execute_result"
    }
   ],
   "source": [
    "# обучаем данные\n",
    "lda.fit(X_train, y_train)"
   ]
  },
  {
   "cell_type": "code",
   "execution_count": null,
   "metadata": {
    "colab": {
     "base_uri": "https://localhost:8080/"
    },
    "id": "bcZ3H-T1xSWu",
    "outputId": "10c44bb0-1d58-4850-8ffb-7cee27d5b5ee"
   },
   "outputs": [
    {
     "data": {
      "text/plain": [
       "array([0, 0, 2, 0, 1, 0, 1, 2, 1, 2, 0, 2, 0, 1, 0, 1, 1, 1, 0, 1, 0, 1,\n",
       "       1, 2, 2, 2, 1, 1, 1, 0, 0, 1, 2, 0, 0, 0, 2, 2, 1, 2, 0, 1, 1, 1,\n",
       "       2])"
      ]
     },
     "execution_count": 11,
     "metadata": {},
     "output_type": "execute_result"
    }
   ],
   "source": [
    "# делаем прогноз на тестовой выборке\n",
    "lda.predict(X_test)"
   ]
  },
  {
   "cell_type": "code",
   "execution_count": null,
   "metadata": {
    "id": "9wGodM6OxUds"
   },
   "outputs": [],
   "source": [
    "# смотрим разницу факта и прогноза\n",
    "result = pd.DataFrame([y_test, lda.predict(X_test)]).T"
   ]
  },
  {
   "cell_type": "code",
   "execution_count": null,
   "metadata": {
    "colab": {
     "base_uri": "https://localhost:8080/",
     "height": 1000
    },
    "id": "RK4zDP6ZxaXI",
    "outputId": "08baba94-f33f-4154-dc72-87a1be0474c9"
   },
   "outputs": [
    {
     "data": {
      "text/html": [
       "\n",
       "  <div id=\"df-67e981dd-33ee-4b3e-b7de-edb047610644\">\n",
       "    <div class=\"colab-df-container\">\n",
       "      <div>\n",
       "<style scoped>\n",
       "    .dataframe tbody tr th:only-of-type {\n",
       "        vertical-align: middle;\n",
       "    }\n",
       "\n",
       "    .dataframe tbody tr th {\n",
       "        vertical-align: top;\n",
       "    }\n",
       "\n",
       "    .dataframe thead th {\n",
       "        text-align: right;\n",
       "    }\n",
       "</style>\n",
       "<table border=\"1\" class=\"dataframe\">\n",
       "  <thead>\n",
       "    <tr style=\"text-align: right;\">\n",
       "      <th></th>\n",
       "      <th>0</th>\n",
       "      <th>1</th>\n",
       "    </tr>\n",
       "  </thead>\n",
       "  <tbody>\n",
       "    <tr>\n",
       "      <th>0</th>\n",
       "      <td>0</td>\n",
       "      <td>0</td>\n",
       "    </tr>\n",
       "    <tr>\n",
       "      <th>1</th>\n",
       "      <td>0</td>\n",
       "      <td>0</td>\n",
       "    </tr>\n",
       "    <tr>\n",
       "      <th>2</th>\n",
       "      <td>2</td>\n",
       "      <td>2</td>\n",
       "    </tr>\n",
       "    <tr>\n",
       "      <th>3</th>\n",
       "      <td>0</td>\n",
       "      <td>0</td>\n",
       "    </tr>\n",
       "    <tr>\n",
       "      <th>4</th>\n",
       "      <td>1</td>\n",
       "      <td>1</td>\n",
       "    </tr>\n",
       "    <tr>\n",
       "      <th>5</th>\n",
       "      <td>0</td>\n",
       "      <td>0</td>\n",
       "    </tr>\n",
       "    <tr>\n",
       "      <th>6</th>\n",
       "      <td>1</td>\n",
       "      <td>1</td>\n",
       "    </tr>\n",
       "    <tr>\n",
       "      <th>7</th>\n",
       "      <td>2</td>\n",
       "      <td>2</td>\n",
       "    </tr>\n",
       "    <tr>\n",
       "      <th>8</th>\n",
       "      <td>1</td>\n",
       "      <td>1</td>\n",
       "    </tr>\n",
       "    <tr>\n",
       "      <th>9</th>\n",
       "      <td>2</td>\n",
       "      <td>2</td>\n",
       "    </tr>\n",
       "    <tr>\n",
       "      <th>10</th>\n",
       "      <td>0</td>\n",
       "      <td>0</td>\n",
       "    </tr>\n",
       "    <tr>\n",
       "      <th>11</th>\n",
       "      <td>2</td>\n",
       "      <td>2</td>\n",
       "    </tr>\n",
       "    <tr>\n",
       "      <th>12</th>\n",
       "      <td>0</td>\n",
       "      <td>0</td>\n",
       "    </tr>\n",
       "    <tr>\n",
       "      <th>13</th>\n",
       "      <td>1</td>\n",
       "      <td>1</td>\n",
       "    </tr>\n",
       "    <tr>\n",
       "      <th>14</th>\n",
       "      <td>0</td>\n",
       "      <td>0</td>\n",
       "    </tr>\n",
       "    <tr>\n",
       "      <th>15</th>\n",
       "      <td>1</td>\n",
       "      <td>1</td>\n",
       "    </tr>\n",
       "    <tr>\n",
       "      <th>16</th>\n",
       "      <td>1</td>\n",
       "      <td>1</td>\n",
       "    </tr>\n",
       "    <tr>\n",
       "      <th>17</th>\n",
       "      <td>1</td>\n",
       "      <td>1</td>\n",
       "    </tr>\n",
       "    <tr>\n",
       "      <th>18</th>\n",
       "      <td>0</td>\n",
       "      <td>0</td>\n",
       "    </tr>\n",
       "    <tr>\n",
       "      <th>19</th>\n",
       "      <td>1</td>\n",
       "      <td>1</td>\n",
       "    </tr>\n",
       "    <tr>\n",
       "      <th>20</th>\n",
       "      <td>0</td>\n",
       "      <td>0</td>\n",
       "    </tr>\n",
       "    <tr>\n",
       "      <th>21</th>\n",
       "      <td>1</td>\n",
       "      <td>1</td>\n",
       "    </tr>\n",
       "    <tr>\n",
       "      <th>22</th>\n",
       "      <td>1</td>\n",
       "      <td>1</td>\n",
       "    </tr>\n",
       "    <tr>\n",
       "      <th>23</th>\n",
       "      <td>2</td>\n",
       "      <td>2</td>\n",
       "    </tr>\n",
       "    <tr>\n",
       "      <th>24</th>\n",
       "      <td>2</td>\n",
       "      <td>2</td>\n",
       "    </tr>\n",
       "    <tr>\n",
       "      <th>25</th>\n",
       "      <td>2</td>\n",
       "      <td>2</td>\n",
       "    </tr>\n",
       "    <tr>\n",
       "      <th>26</th>\n",
       "      <td>1</td>\n",
       "      <td>1</td>\n",
       "    </tr>\n",
       "    <tr>\n",
       "      <th>27</th>\n",
       "      <td>1</td>\n",
       "      <td>1</td>\n",
       "    </tr>\n",
       "    <tr>\n",
       "      <th>28</th>\n",
       "      <td>1</td>\n",
       "      <td>1</td>\n",
       "    </tr>\n",
       "    <tr>\n",
       "      <th>29</th>\n",
       "      <td>0</td>\n",
       "      <td>0</td>\n",
       "    </tr>\n",
       "    <tr>\n",
       "      <th>30</th>\n",
       "      <td>0</td>\n",
       "      <td>0</td>\n",
       "    </tr>\n",
       "    <tr>\n",
       "      <th>31</th>\n",
       "      <td>1</td>\n",
       "      <td>1</td>\n",
       "    </tr>\n",
       "    <tr>\n",
       "      <th>32</th>\n",
       "      <td>2</td>\n",
       "      <td>2</td>\n",
       "    </tr>\n",
       "    <tr>\n",
       "      <th>33</th>\n",
       "      <td>0</td>\n",
       "      <td>0</td>\n",
       "    </tr>\n",
       "    <tr>\n",
       "      <th>34</th>\n",
       "      <td>0</td>\n",
       "      <td>0</td>\n",
       "    </tr>\n",
       "    <tr>\n",
       "      <th>35</th>\n",
       "      <td>0</td>\n",
       "      <td>0</td>\n",
       "    </tr>\n",
       "    <tr>\n",
       "      <th>36</th>\n",
       "      <td>2</td>\n",
       "      <td>2</td>\n",
       "    </tr>\n",
       "    <tr>\n",
       "      <th>37</th>\n",
       "      <td>2</td>\n",
       "      <td>2</td>\n",
       "    </tr>\n",
       "    <tr>\n",
       "      <th>38</th>\n",
       "      <td>1</td>\n",
       "      <td>1</td>\n",
       "    </tr>\n",
       "    <tr>\n",
       "      <th>39</th>\n",
       "      <td>2</td>\n",
       "      <td>2</td>\n",
       "    </tr>\n",
       "    <tr>\n",
       "      <th>40</th>\n",
       "      <td>0</td>\n",
       "      <td>0</td>\n",
       "    </tr>\n",
       "    <tr>\n",
       "      <th>41</th>\n",
       "      <td>1</td>\n",
       "      <td>1</td>\n",
       "    </tr>\n",
       "    <tr>\n",
       "      <th>42</th>\n",
       "      <td>1</td>\n",
       "      <td>1</td>\n",
       "    </tr>\n",
       "    <tr>\n",
       "      <th>43</th>\n",
       "      <td>1</td>\n",
       "      <td>1</td>\n",
       "    </tr>\n",
       "    <tr>\n",
       "      <th>44</th>\n",
       "      <td>2</td>\n",
       "      <td>2</td>\n",
       "    </tr>\n",
       "  </tbody>\n",
       "</table>\n",
       "</div>\n",
       "      <button class=\"colab-df-convert\" onclick=\"convertToInteractive('df-67e981dd-33ee-4b3e-b7de-edb047610644')\"\n",
       "              title=\"Convert this dataframe to an interactive table.\"\n",
       "              style=\"display:none;\">\n",
       "        \n",
       "  <svg xmlns=\"http://www.w3.org/2000/svg\" height=\"24px\"viewBox=\"0 0 24 24\"\n",
       "       width=\"24px\">\n",
       "    <path d=\"M0 0h24v24H0V0z\" fill=\"none\"/>\n",
       "    <path d=\"M18.56 5.44l.94 2.06.94-2.06 2.06-.94-2.06-.94-.94-2.06-.94 2.06-2.06.94zm-11 1L8.5 8.5l.94-2.06 2.06-.94-2.06-.94L8.5 2.5l-.94 2.06-2.06.94zm10 10l.94 2.06.94-2.06 2.06-.94-2.06-.94-.94-2.06-.94 2.06-2.06.94z\"/><path d=\"M17.41 7.96l-1.37-1.37c-.4-.4-.92-.59-1.43-.59-.52 0-1.04.2-1.43.59L10.3 9.45l-7.72 7.72c-.78.78-.78 2.05 0 2.83L4 21.41c.39.39.9.59 1.41.59.51 0 1.02-.2 1.41-.59l7.78-7.78 2.81-2.81c.8-.78.8-2.07 0-2.86zM5.41 20L4 18.59l7.72-7.72 1.47 1.35L5.41 20z\"/>\n",
       "  </svg>\n",
       "      </button>\n",
       "      \n",
       "  <style>\n",
       "    .colab-df-container {\n",
       "      display:flex;\n",
       "      flex-wrap:wrap;\n",
       "      gap: 12px;\n",
       "    }\n",
       "\n",
       "    .colab-df-convert {\n",
       "      background-color: #E8F0FE;\n",
       "      border: none;\n",
       "      border-radius: 50%;\n",
       "      cursor: pointer;\n",
       "      display: none;\n",
       "      fill: #1967D2;\n",
       "      height: 32px;\n",
       "      padding: 0 0 0 0;\n",
       "      width: 32px;\n",
       "    }\n",
       "\n",
       "    .colab-df-convert:hover {\n",
       "      background-color: #E2EBFA;\n",
       "      box-shadow: 0px 1px 2px rgba(60, 64, 67, 0.3), 0px 1px 3px 1px rgba(60, 64, 67, 0.15);\n",
       "      fill: #174EA6;\n",
       "    }\n",
       "\n",
       "    [theme=dark] .colab-df-convert {\n",
       "      background-color: #3B4455;\n",
       "      fill: #D2E3FC;\n",
       "    }\n",
       "\n",
       "    [theme=dark] .colab-df-convert:hover {\n",
       "      background-color: #434B5C;\n",
       "      box-shadow: 0px 1px 3px 1px rgba(0, 0, 0, 0.15);\n",
       "      filter: drop-shadow(0px 1px 2px rgba(0, 0, 0, 0.3));\n",
       "      fill: #FFFFFF;\n",
       "    }\n",
       "  </style>\n",
       "\n",
       "      <script>\n",
       "        const buttonEl =\n",
       "          document.querySelector('#df-67e981dd-33ee-4b3e-b7de-edb047610644 button.colab-df-convert');\n",
       "        buttonEl.style.display =\n",
       "          google.colab.kernel.accessAllowed ? 'block' : 'none';\n",
       "\n",
       "        async function convertToInteractive(key) {\n",
       "          const element = document.querySelector('#df-67e981dd-33ee-4b3e-b7de-edb047610644');\n",
       "          const dataTable =\n",
       "            await google.colab.kernel.invokeFunction('convertToInteractive',\n",
       "                                                     [key], {});\n",
       "          if (!dataTable) return;\n",
       "\n",
       "          const docLinkHtml = 'Like what you see? Visit the ' +\n",
       "            '<a target=\"_blank\" href=https://colab.research.google.com/notebooks/data_table.ipynb>data table notebook</a>'\n",
       "            + ' to learn more about interactive tables.';\n",
       "          element.innerHTML = '';\n",
       "          dataTable['output_type'] = 'display_data';\n",
       "          await google.colab.output.renderOutput(dataTable, element);\n",
       "          const docLink = document.createElement('div');\n",
       "          docLink.innerHTML = docLinkHtml;\n",
       "          element.appendChild(docLink);\n",
       "        }\n",
       "      </script>\n",
       "    </div>\n",
       "  </div>\n",
       "  "
      ],
      "text/plain": [
       "    0  1\n",
       "0   0  0\n",
       "1   0  0\n",
       "2   2  2\n",
       "3   0  0\n",
       "4   1  1\n",
       "5   0  0\n",
       "6   1  1\n",
       "7   2  2\n",
       "8   1  1\n",
       "9   2  2\n",
       "10  0  0\n",
       "11  2  2\n",
       "12  0  0\n",
       "13  1  1\n",
       "14  0  0\n",
       "15  1  1\n",
       "16  1  1\n",
       "17  1  1\n",
       "18  0  0\n",
       "19  1  1\n",
       "20  0  0\n",
       "21  1  1\n",
       "22  1  1\n",
       "23  2  2\n",
       "24  2  2\n",
       "25  2  2\n",
       "26  1  1\n",
       "27  1  1\n",
       "28  1  1\n",
       "29  0  0\n",
       "30  0  0\n",
       "31  1  1\n",
       "32  2  2\n",
       "33  0  0\n",
       "34  0  0\n",
       "35  0  0\n",
       "36  2  2\n",
       "37  2  2\n",
       "38  1  1\n",
       "39  2  2\n",
       "40  0  0\n",
       "41  1  1\n",
       "42  1  1\n",
       "43  1  1\n",
       "44  2  2"
      ]
     },
     "execution_count": 13,
     "metadata": {},
     "output_type": "execute_result"
    }
   ],
   "source": [
    "result"
   ]
  },
  {
   "cell_type": "markdown",
   "metadata": {
    "id": "aSDnZ2pvQDOh"
   },
   "source": [
    "Почитать про другие метрики качества в задачах классификации: https://habr.com/ru/company/ods/blog/328372/"
   ]
  },
  {
   "cell_type": "code",
   "execution_count": null,
   "metadata": {
    "id": "B66nVhbk2Mf1"
   },
   "outputs": [],
   "source": [
    "# расчет точности - отношение верных прогнозов к общему количеству позиций\n",
    "# является хорошей метрикой для сбалансированных классов\n",
    "# (наблюдений в категориях примерно одинаковое количество)\n",
    "\n",
    "from sklearn.metrics import accuracy_score"
   ]
  },
  {
   "cell_type": "code",
   "execution_count": null,
   "metadata": {
    "colab": {
     "base_uri": "https://localhost:8080/"
    },
    "id": "2x5pYOZB2P2F",
    "outputId": "75049a4d-2d6d-4ebc-a923-799d075b9dea"
   },
   "outputs": [
    {
     "data": {
      "text/plain": [
       "1.0"
      ]
     },
     "execution_count": 15,
     "metadata": {},
     "output_type": "execute_result"
    }
   ],
   "source": [
    "accuracy_score(y_test, lda.predict(X_test))"
   ]
  },
  {
   "cell_type": "code",
   "execution_count": null,
   "metadata": {
    "id": "QMgpA-vtj7h8"
   },
   "outputs": [],
   "source": [
    "import sklearn\n",
    "\n",
    "help(sklearn.metrics)"
   ]
  },
  {
   "cell_type": "code",
   "execution_count": null,
   "metadata": {
    "colab": {
     "base_uri": "https://localhost:8080/"
    },
    "id": "aBdqgd5ixdMh",
    "outputId": "1c6751ad-6a9c-475a-d29c-bb802533d61e"
   },
   "outputs": [
    {
     "data": {
      "text/plain": [
       "array([[ 2.77785654e+00, -2.62823777e-01,  6.34033699e+00,\n",
       "        -9.23264800e-01,  1.12148061e-03, -1.73622434e+00,\n",
       "         4.95743646e+00,  3.14554165e+00, -1.19253447e+00,\n",
       "        -8.98034416e-01, -1.73258088e-01,  3.81064150e+00,\n",
       "         1.36856107e-02],\n",
       "       [-2.00764892e+00, -4.89578703e-01, -6.54854947e+00,\n",
       "         4.49722072e-01,  4.06933168e-05, -7.56394603e-01,\n",
       "         1.34633325e+00,  2.67670321e+00,  1.06737575e+00,\n",
       "        -6.98689535e-01,  3.51943073e+00,  4.92874648e-01,\n",
       "        -5.99014310e-03],\n",
       "       [-4.39452636e-01,  1.04199771e+00,  1.89161928e+00,\n",
       "         4.66343927e-01, -1.43060813e-03,  3.23563291e+00,\n",
       "        -8.04119074e+00, -7.78525286e+00, -1.13872164e-01,\n",
       "         2.12622388e+00, -4.96962424e+00, -5.38307173e+00,\n",
       "        -7.90803569e-03]])"
      ]
     },
     "execution_count": 17,
     "metadata": {},
     "output_type": "execute_result"
    }
   ],
   "source": [
    "# коэффициенты дискриминатных линий\n",
    "lda.coef_"
   ]
  },
  {
   "cell_type": "code",
   "execution_count": null,
   "metadata": {
    "id": "KFSam-cJzCOG"
   },
   "outputs": [],
   "source": [
    "# визуализируем дискриминантные линии только по 2 признакам\n",
    "small_train = X_train[['ash', 'flavanoids']]\n",
    "small_test = X_test[['ash', 'flavanoids']]"
   ]
  },
  {
   "cell_type": "code",
   "execution_count": null,
   "metadata": {
    "colab": {
     "base_uri": "https://localhost:8080/",
     "height": 448
    },
    "id": "SX47KNgXySEU",
    "outputId": "e7bff07a-7ce5-4916-ddf4-796f29b5f2a3"
   },
   "outputs": [
    {
     "name": "stderr",
     "output_type": "stream",
     "text": [
      "WARNING:matplotlib.legend:No artists with labels found to put in legend.  Note that artists whose label start with an underscore are ignored when legend() is called with no argument.\n"
     ]
    },
    {
     "data": {
      "image/png": "[encoded data removed]",
      "text/plain": [
       "<Figure size 640x480 with 1 Axes>"
      ]
     },
     "metadata": {},
     "output_type": "display_data"
    }
   ],
   "source": [
    "plt.scatter(x=small_train['ash'], y=small_train['flavanoids'], c=y_train)\n",
    "plt.legend()\n",
    "plt.show()\n"
   ]
  },
  {
   "cell_type": "code",
   "execution_count": null,
   "metadata": {
    "colab": {
     "base_uri": "https://localhost:8080/",
     "height": 74
    },
    "id": "jzWXDuY7y453",
    "outputId": "7a210359-4226-45ed-b651-97858d499247"
   },
   "outputs": [
    {
     "data": {
      "text/html": [
       "<style>#sk-container-id-2 {color: black;background-color: white;}#sk-container-id-2 pre{padding: 0;}#sk-container-id-2 div.sk-toggleable {background-color: white;}#sk-container-id-2 label.sk-toggleable__label {cursor: pointer;display: block;width: 100%;margin-bottom: 0;padding: 0.3em;box-sizing: border-box;text-align: center;}#sk-container-id-2 label.sk-toggleable__label-arrow:before {content: \"▸\";float: left;margin-right: 0.25em;color: #696969;}#sk-container-id-2 label.sk-toggleable__label-arrow:hover:before {color: black;}#sk-container-id-2 div.sk-estimator:hover label.sk-toggleable__label-arrow:before {color: black;}#sk-container-id-2 div.sk-toggleable__content {max-height: 0;max-width: 0;overflow: hidden;text-align: left;background-color: #f0f8ff;}#sk-container-id-2 div.sk-toggleable__content pre {margin: 0.2em;color: black;border-radius: 0.25em;background-color: #f0f8ff;}#sk-container-id-2 input.sk-toggleable__control:checked~div.sk-toggleable__content {max-height: 200px;max-width: 100%;overflow: auto;}#sk-container-id-2 input.sk-toggleable__control:checked~label.sk-toggleable__label-arrow:before {content: \"▾\";}#sk-container-id-2 div.sk-estimator input.sk-toggleable__control:checked~label.sk-toggleable__label {background-color: #d4ebff;}#sk-container-id-2 div.sk-label input.sk-toggleable__control:checked~label.sk-toggleable__label {background-color: #d4ebff;}#sk-container-id-2 input.sk-hidden--visually {border: 0;clip: rect(1px 1px 1px 1px);clip: rect(1px, 1px, 1px, 1px);height: 1px;margin: -1px;overflow: hidden;padding: 0;position: absolute;width: 1px;}#sk-container-id-2 div.sk-estimator {font-family: monospace;background-color: #f0f8ff;border: 1px dotted black;border-radius: 0.25em;box-sizing: border-box;margin-bottom: 0.5em;}#sk-container-id-2 div.sk-estimator:hover {background-color: #d4ebff;}#sk-container-id-2 div.sk-parallel-item::after {content: \"\";width: 100%;border-bottom: 1px solid gray;flex-grow: 1;}#sk-container-id-2 div.sk-label:hover label.sk-toggleable__label {background-color: #d4ebff;}#sk-container-id-2 div.sk-serial::before {content: \"\";position: absolute;border-left: 1px solid gray;box-sizing: border-box;top: 0;bottom: 0;left: 50%;z-index: 0;}#sk-container-id-2 div.sk-serial {display: flex;flex-direction: column;align-items: center;background-color: white;padding-right: 0.2em;padding-left: 0.2em;position: relative;}#sk-container-id-2 div.sk-item {position: relative;z-index: 1;}#sk-container-id-2 div.sk-parallel {display: flex;align-items: stretch;justify-content: center;background-color: white;position: relative;}#sk-container-id-2 div.sk-item::before, #sk-container-id-2 div.sk-parallel-item::before {content: \"\";position: absolute;border-left: 1px solid gray;box-sizing: border-box;top: 0;bottom: 0;left: 50%;z-index: -1;}#sk-container-id-2 div.sk-parallel-item {display: flex;flex-direction: column;z-index: 1;position: relative;background-color: white;}#sk-container-id-2 div.sk-parallel-item:first-child::after {align-self: flex-end;width: 50%;}#sk-container-id-2 div.sk-parallel-item:last-child::after {align-self: flex-start;width: 50%;}#sk-container-id-2 div.sk-parallel-item:only-child::after {width: 0;}#sk-container-id-2 div.sk-dashed-wrapped {border: 1px dashed gray;margin: 0 0.4em 0.5em 0.4em;box-sizing: border-box;padding-bottom: 0.4em;background-color: white;}#sk-container-id-2 div.sk-label label {font-family: monospace;font-weight: bold;display: inline-block;line-height: 1.2em;}#sk-container-id-2 div.sk-label-container {text-align: center;}#sk-container-id-2 div.sk-container {/* jupyter's `normalize.less` sets `[hidden] { display: none; }` but bootstrap.min.css set `[hidden] { display: none !important; }` so we also need the `!important` here to be able to override the default hidden behavior on the sphinx rendered scikit-learn.org. See: https://github.com/scikit-learn/scikit-learn/issues/21755 */display: inline-block !important;position: relative;}#sk-container-id-2 div.sk-text-repr-fallback {display: none;}</style><div id=\"sk-container-id-2\" class=\"sk-top-container\"><div class=\"sk-text-repr-fallback\"><pre>LinearDiscriminantAnalysis()</pre><b>In a Jupyter environment, please rerun this cell to show the HTML representation or trust the notebook. <br />On GitHub, the HTML representation is unable to render, please try loading this page with nbviewer.org.</b></div><div class=\"sk-container\" hidden><div class=\"sk-item\"><div class=\"sk-estimator sk-toggleable\"><input class=\"sk-toggleable__control sk-hidden--visually\" id=\"sk-estimator-id-2\" type=\"checkbox\" checked><label for=\"sk-estimator-id-2\" class=\"sk-toggleable__label sk-toggleable__label-arrow\">LinearDiscriminantAnalysis</label><div class=\"sk-toggleable__content\"><pre>LinearDiscriminantAnalysis()</pre></div></div></div></div></div>"
      ],
      "text/plain": [
       "LinearDiscriminantAnalysis()"
      ]
     },
     "execution_count": 20,
     "metadata": {},
     "output_type": "execute_result"
    }
   ],
   "source": [
    "lda_small = LinearDiscriminantAnalysis()\n",
    "lda_small.fit(small_train, y_train)"
   ]
  },
  {
   "cell_type": "code",
   "execution_count": null,
   "metadata": {
    "colab": {
     "base_uri": "https://localhost:8080/"
    },
    "id": "MSo9yPBxzPYx",
    "outputId": "bfdf306c-a763-48ca-c255-f75f9daf22b2"
   },
   "outputs": [
    {
     "data": {
      "text/plain": [
       "array([[2.45795455, 2.98522727],\n",
       "       [2.24735849, 2.07150943],\n",
       "       [2.41416667, 0.76888889]])"
      ]
     },
     "execution_count": 21,
     "metadata": {},
     "output_type": "execute_result"
    }
   ],
   "source": [
    "# посмотрим на наши центроиды\n",
    "lda_small.means_"
   ]
  },
  {
   "cell_type": "code",
   "execution_count": null,
   "metadata": {
    "colab": {
     "base_uri": "https://localhost:8080/"
    },
    "id": "3YYXgqJMla-X",
    "outputId": "c5ca3792-ee2d-47b8-cc33-092731c5a944"
   },
   "outputs": [
    {
     "data": {
      "text/plain": [
       "array([0, 1, 1, 2, 0, 1, 0, 0, 2, 2, 1, 1, 0, 1, 0, 2, 1, 1, 2, 0, 0, 0,\n",
       "       2, 0, 0, 1, 2, 1, 0, 2, 1, 0, 2, 1, 1, 0, 1, 0, 0, 1, 0, 0, 2, 1,\n",
       "       1, 1, 0, 1, 1, 1, 2, 2, 0, 1, 2, 2, 1, 1, 0, 1, 2, 2, 1, 2, 1, 1,\n",
       "       1, 0, 0, 2, 0, 2, 0, 0, 1, 1, 0, 0, 0, 1, 0, 1, 2, 1, 1, 1, 2, 2,\n",
       "       1, 0, 0, 1, 2, 2, 0, 1, 2, 2, 2, 2, 1, 0, 1, 0, 2, 0, 0, 1, 0, 0,\n",
       "       2, 1, 0, 2, 2, 0, 0, 2, 2, 2, 1, 1, 1, 1, 1, 1, 2, 0, 1, 1, 0, 1,\n",
       "       1])"
      ]
     },
     "execution_count": 32,
     "metadata": {},
     "output_type": "execute_result"
    }
   ],
   "source": [
    "y_train"
   ]
  },
  {
   "cell_type": "code",
   "execution_count": null,
   "metadata": {
    "colab": {
     "base_uri": "https://localhost:8080/",
     "height": 448
    },
    "id": "IrQb_JTwzREc",
    "outputId": "e6a1ef45-826e-43ea-9b7e-07cea82f97c7"
   },
   "outputs": [
    {
     "data": {
      "text/plain": [
       "<matplotlib.collections.PathCollection at 0x7fca43d4eda0>"
      ]
     },
     "execution_count": 22,
     "metadata": {},
     "output_type": "execute_result"
    },
    {
     "data": {
      "image/png": "[encoded data removed]",
      "text/plain": [
       "<Figure size 640x480 with 1 Axes>"
      ]
     },
     "metadata": {},
     "output_type": "display_data"
    }
   ],
   "source": [
    "# сам scatter plot\n",
    "plt.scatter(small_train['ash'], small_train['flavanoids'], c=y_train)\n",
    "# центроиды\n",
    "plt.scatter(lda_small.means_[:, 0], lda_small.means_[:, 1], c='r', s=150, marker='*')\n"
   ]
  },
  {
   "cell_type": "code",
   "execution_count": null,
   "metadata": {
    "colab": {
     "base_uri": "https://localhost:8080/",
     "height": 448
    },
    "id": "0FIaGY8jWia1",
    "outputId": "9644da2d-ad62-4ebb-f34f-55d5b2be8d46"
   },
   "outputs": [
    {
     "data": {
      "text/plain": [
       "<matplotlib.collections.PathCollection at 0x7fca3dd9be50>"
      ]
     },
     "execution_count": 23,
     "metadata": {},
     "output_type": "execute_result"
    },
    {
     "data": {
      "image/png": "[encoded data removed]",
      "text/plain": [
       "<Figure size 640x480 with 1 Axes>"
      ]
     },
     "metadata": {},
     "output_type": "display_data"
    }
   ],
   "source": [
    "# визуализация разделения на тесте\n",
    "plt.scatter(small_test['ash'], small_test['flavanoids'], c=lda_small.predict(small_test))\n",
    "# центроиды\n",
    "plt.scatter(lda_small.means_[:, 0], lda_small.means_[:, 1], c='r', s=150, marker='*')"
   ]
  },
  {
   "cell_type": "code",
   "execution_count": null,
   "metadata": {
    "colab": {
     "base_uri": "https://localhost:8080/"
    },
    "id": "e4_nponj4X5a",
    "outputId": "c6034819-e960-4285-ecdd-19c070142010"
   },
   "outputs": [
    {
     "data": {
      "text/plain": [
       "array([[-0.35930524,  3.52752381],\n",
       "       [-1.82165655,  0.40785359],\n",
       "       [ 3.1210341 , -4.9118691 ]])"
      ]
     },
     "execution_count": 24,
     "metadata": {},
     "output_type": "execute_result"
    }
   ],
   "source": [
    "# второй признак во много раз важнее первого для кластеризации (это видно по визуализации)\n",
    "lda_small.coef_"
   ]
  },
  {
   "cell_type": "code",
   "execution_count": null,
   "metadata": {
    "colab": {
     "base_uri": "https://localhost:8080/"
    },
    "id": "fDmV457H4kz_",
    "outputId": "bf3a39b6-0a1b-4e13-c1df-4cff3503f843"
   },
   "outputs": [
    {
     "data": {
      "text/plain": [
       "0.8"
      ]
     },
     "execution_count": 25,
     "metadata": {},
     "output_type": "execute_result"
    }
   ],
   "source": [
    "# какая будет точность?\n",
    "accuracy_score(y_test, lda_small.predict(small_test))"
   ]
  },
  {
   "cell_type": "code",
   "execution_count": null,
   "metadata": {
    "colab": {
     "base_uri": "https://localhost:8080/",
     "height": 112
    },
    "id": "bhPt9IHjby5I",
    "outputId": "02bc98e5-1a2b-4e87-e042-18dd3c06ef8b"
   },
   "outputs": [
    {
     "data": {
      "text/html": [
       "\n",
       "  <div id=\"df-6f51ea69-bc83-48f9-be89-be02e5c4a0f5\">\n",
       "    <div class=\"colab-df-container\">\n",
       "      <div>\n",
       "<style scoped>\n",
       "    .dataframe tbody tr th:only-of-type {\n",
       "        vertical-align: middle;\n",
       "    }\n",
       "\n",
       "    .dataframe tbody tr th {\n",
       "        vertical-align: top;\n",
       "    }\n",
       "\n",
       "    .dataframe thead th {\n",
       "        text-align: right;\n",
       "    }\n",
       "</style>\n",
       "<table border=\"1\" class=\"dataframe\">\n",
       "  <thead>\n",
       "    <tr style=\"text-align: right;\">\n",
       "      <th></th>\n",
       "      <th>flavanoids</th>\n",
       "      <th>ash</th>\n",
       "    </tr>\n",
       "  </thead>\n",
       "  <tbody>\n",
       "    <tr>\n",
       "      <th>flavanoids</th>\n",
       "      <td>1.000000</td>\n",
       "      <td>0.115077</td>\n",
       "    </tr>\n",
       "    <tr>\n",
       "      <th>ash</th>\n",
       "      <td>0.115077</td>\n",
       "      <td>1.000000</td>\n",
       "    </tr>\n",
       "  </tbody>\n",
       "</table>\n",
       "</div>\n",
       "      <button class=\"colab-df-convert\" onclick=\"convertToInteractive('df-6f51ea69-bc83-48f9-be89-be02e5c4a0f5')\"\n",
       "              title=\"Convert this dataframe to an interactive table.\"\n",
       "              style=\"display:none;\">\n",
       "        \n",
       "  <svg xmlns=\"http://www.w3.org/2000/svg\" height=\"24px\"viewBox=\"0 0 24 24\"\n",
       "       width=\"24px\">\n",
       "    <path d=\"M0 0h24v24H0V0z\" fill=\"none\"/>\n",
       "    <path d=\"M18.56 5.44l.94 2.06.94-2.06 2.06-.94-2.06-.94-.94-2.06-.94 2.06-2.06.94zm-11 1L8.5 8.5l.94-2.06 2.06-.94-2.06-.94L8.5 2.5l-.94 2.06-2.06.94zm10 10l.94 2.06.94-2.06 2.06-.94-2.06-.94-.94-2.06-.94 2.06-2.06.94z\"/><path d=\"M17.41 7.96l-1.37-1.37c-.4-.4-.92-.59-1.43-.59-.52 0-1.04.2-1.43.59L10.3 9.45l-7.72 7.72c-.78.78-.78 2.05 0 2.83L4 21.41c.39.39.9.59 1.41.59.51 0 1.02-.2 1.41-.59l7.78-7.78 2.81-2.81c.8-.78.8-2.07 0-2.86zM5.41 20L4 18.59l7.72-7.72 1.47 1.35L5.41 20z\"/>\n",
       "  </svg>\n",
       "      </button>\n",
       "      \n",
       "  <style>\n",
       "    .colab-df-container {\n",
       "      display:flex;\n",
       "      flex-wrap:wrap;\n",
       "      gap: 12px;\n",
       "    }\n",
       "\n",
       "    .colab-df-convert {\n",
       "      background-color: #E8F0FE;\n",
       "      border: none;\n",
       "      border-radius: 50%;\n",
       "      cursor: pointer;\n",
       "      display: none;\n",
       "      fill: #1967D2;\n",
       "      height: 32px;\n",
       "      padding: 0 0 0 0;\n",
       "      width: 32px;\n",
       "    }\n",
       "\n",
       "    .colab-df-convert:hover {\n",
       "      background-color: #E2EBFA;\n",
       "      box-shadow: 0px 1px 2px rgba(60, 64, 67, 0.3), 0px 1px 3px 1px rgba(60, 64, 67, 0.15);\n",
       "      fill: #174EA6;\n",
       "    }\n",
       "\n",
       "    [theme=dark] .colab-df-convert {\n",
       "      background-color: #3B4455;\n",
       "      fill: #D2E3FC;\n",
       "    }\n",
       "\n",
       "    [theme=dark] .colab-df-convert:hover {\n",
       "      background-color: #434B5C;\n",
       "      box-shadow: 0px 1px 3px 1px rgba(0, 0, 0, 0.15);\n",
       "      filter: drop-shadow(0px 1px 2px rgba(0, 0, 0, 0.3));\n",
       "      fill: #FFFFFF;\n",
       "    }\n",
       "  </style>\n",
       "\n",
       "      <script>\n",
       "        const buttonEl =\n",
       "          document.querySelector('#df-6f51ea69-bc83-48f9-be89-be02e5c4a0f5 button.colab-df-convert');\n",
       "        buttonEl.style.display =\n",
       "          google.colab.kernel.accessAllowed ? 'block' : 'none';\n",
       "\n",
       "        async function convertToInteractive(key) {\n",
       "          const element = document.querySelector('#df-6f51ea69-bc83-48f9-be89-be02e5c4a0f5');\n",
       "          const dataTable =\n",
       "            await google.colab.kernel.invokeFunction('convertToInteractive',\n",
       "                                                     [key], {});\n",
       "          if (!dataTable) return;\n",
       "\n",
       "          const docLinkHtml = 'Like what you see? Visit the ' +\n",
       "            '<a target=\"_blank\" href=https://colab.research.google.com/notebooks/data_table.ipynb>data table notebook</a>'\n",
       "            + ' to learn more about interactive tables.';\n",
       "          element.innerHTML = '';\n",
       "          dataTable['output_type'] = 'display_data';\n",
       "          await google.colab.output.renderOutput(dataTable, element);\n",
       "          const docLink = document.createElement('div');\n",
       "          docLink.innerHTML = docLinkHtml;\n",
       "          element.appendChild(docLink);\n",
       "        }\n",
       "      </script>\n",
       "    </div>\n",
       "  </div>\n",
       "  "
      ],
      "text/plain": [
       "            flavanoids       ash\n",
       "flavanoids    1.000000  0.115077\n",
       "ash           0.115077  1.000000"
      ]
     },
     "execution_count": 26,
     "metadata": {},
     "output_type": "execute_result"
    }
   ],
   "source": [
    "data[['flavanoids', 'ash']].corr()"
   ]
  },
  {
   "cell_type": "code",
   "execution_count": null,
   "metadata": {
    "id": "E-gchIEJ4t2d"
   },
   "outputs": [],
   "source": [
    "# заменим модель на логистическую регрессиию\n",
    "# кому интересно, отличия логистической регрессии от LDA:\n",
    "# https://www.introspective-mode.org/logistic-regression-or-discriminant-function-analysis/\n",
    "# Основные моменты:\n",
    "# LR может работать с категориальными признаками\n",
    "# зависимая переменная в LR подчиняется логистической функции (изменяется от 0 до 1) и непрерывна\n",
    "from sklearn.linear_model import LogisticRegression"
   ]
  },
  {
   "cell_type": "code",
   "execution_count": null,
   "metadata": {
    "id": "R4NDgweF41cm"
   },
   "outputs": [],
   "source": [
    "lr = LogisticRegression()"
   ]
  },
  {
   "cell_type": "code",
   "execution_count": null,
   "metadata": {
    "colab": {
     "base_uri": "https://localhost:8080/",
     "height": 220
    },
    "id": "badyR0Tj43nx",
    "outputId": "4075089b-53fb-4d0d-af3c-183296be53b3"
   },
   "outputs": [
    {
     "name": "stderr",
     "output_type": "stream",
     "text": [
      "/usr/local/lib/python3.10/dist-packages/sklearn/linear_model/_logistic.py:458: ConvergenceWarning: lbfgs failed to converge (status=1):\n",
      "STOP: TOTAL NO. of ITERATIONS REACHED LIMIT.\n",
      "\n",
      "Increase the number of iterations (max_iter) or scale the data as shown in:\n",
      "    https://scikit-learn.org/stable/modules/preprocessing.html\n",
      "Please also refer to the documentation for alternative solver options:\n",
      "    https://scikit-learn.org/stable/modules/linear_model.html#logistic-regression\n",
      "  n_iter_i = _check_optimize_result(\n"
     ]
    },
    {
     "data": {
      "text/html": [
       "<style>#sk-container-id-3 {color: black;background-color: white;}#sk-container-id-3 pre{padding: 0;}#sk-container-id-3 div.sk-toggleable {background-color: white;}#sk-container-id-3 label.sk-toggleable__label {cursor: pointer;display: block;width: 100%;margin-bottom: 0;padding: 0.3em;box-sizing: border-box;text-align: center;}#sk-container-id-3 label.sk-toggleable__label-arrow:before {content: \"▸\";float: left;margin-right: 0.25em;color: #696969;}#sk-container-id-3 label.sk-toggleable__label-arrow:hover:before {color: black;}#sk-container-id-3 div.sk-estimator:hover label.sk-toggleable__label-arrow:before {color: black;}#sk-container-id-3 div.sk-toggleable__content {max-height: 0;max-width: 0;overflow: hidden;text-align: left;background-color: #f0f8ff;}#sk-container-id-3 div.sk-toggleable__content pre {margin: 0.2em;color: black;border-radius: 0.25em;background-color: #f0f8ff;}#sk-container-id-3 input.sk-toggleable__control:checked~div.sk-toggleable__content {max-height: 200px;max-width: 100%;overflow: auto;}#sk-container-id-3 input.sk-toggleable__control:checked~label.sk-toggleable__label-arrow:before {content: \"▾\";}#sk-container-id-3 div.sk-estimator input.sk-toggleable__control:checked~label.sk-toggleable__label {background-color: #d4ebff;}#sk-container-id-3 div.sk-label input.sk-toggleable__control:checked~label.sk-toggleable__label {background-color: #d4ebff;}#sk-container-id-3 input.sk-hidden--visually {border: 0;clip: rect(1px 1px 1px 1px);clip: rect(1px, 1px, 1px, 1px);height: 1px;margin: -1px;overflow: hidden;padding: 0;position: absolute;width: 1px;}#sk-container-id-3 div.sk-estimator {font-family: monospace;background-color: #f0f8ff;border: 1px dotted black;border-radius: 0.25em;box-sizing: border-box;margin-bottom: 0.5em;}#sk-container-id-3 div.sk-estimator:hover {background-color: #d4ebff;}#sk-container-id-3 div.sk-parallel-item::after {content: \"\";width: 100%;border-bottom: 1px solid gray;flex-grow: 1;}#sk-container-id-3 div.sk-label:hover label.sk-toggleable__label {background-color: #d4ebff;}#sk-container-id-3 div.sk-serial::before {content: \"\";position: absolute;border-left: 1px solid gray;box-sizing: border-box;top: 0;bottom: 0;left: 50%;z-index: 0;}#sk-container-id-3 div.sk-serial {display: flex;flex-direction: column;align-items: center;background-color: white;padding-right: 0.2em;padding-left: 0.2em;position: relative;}#sk-container-id-3 div.sk-item {position: relative;z-index: 1;}#sk-container-id-3 div.sk-parallel {display: flex;align-items: stretch;justify-content: center;background-color: white;position: relative;}#sk-container-id-3 div.sk-item::before, #sk-container-id-3 div.sk-parallel-item::before {content: \"\";position: absolute;border-left: 1px solid gray;box-sizing: border-box;top: 0;bottom: 0;left: 50%;z-index: -1;}#sk-container-id-3 div.sk-parallel-item {display: flex;flex-direction: column;z-index: 1;position: relative;background-color: white;}#sk-container-id-3 div.sk-parallel-item:first-child::after {align-self: flex-end;width: 50%;}#sk-container-id-3 div.sk-parallel-item:last-child::after {align-self: flex-start;width: 50%;}#sk-container-id-3 div.sk-parallel-item:only-child::after {width: 0;}#sk-container-id-3 div.sk-dashed-wrapped {border: 1px dashed gray;margin: 0 0.4em 0.5em 0.4em;box-sizing: border-box;padding-bottom: 0.4em;background-color: white;}#sk-container-id-3 div.sk-label label {font-family: monospace;font-weight: bold;display: inline-block;line-height: 1.2em;}#sk-container-id-3 div.sk-label-container {text-align: center;}#sk-container-id-3 div.sk-container {/* jupyter's `normalize.less` sets `[hidden] { display: none; }` but bootstrap.min.css set `[hidden] { display: none !important; }` so we also need the `!important` here to be able to override the default hidden behavior on the sphinx rendered scikit-learn.org. See: https://github.com/scikit-learn/scikit-learn/issues/21755 */display: inline-block !important;position: relative;}#sk-container-id-3 div.sk-text-repr-fallback {display: none;}</style><div id=\"sk-container-id-3\" class=\"sk-top-container\"><div class=\"sk-text-repr-fallback\"><pre>LogisticRegression()</pre><b>In a Jupyter environment, please rerun this cell to show the HTML representation or trust the notebook. <br />On GitHub, the HTML representation is unable to render, please try loading this page with nbviewer.org.</b></div><div class=\"sk-container\" hidden><div class=\"sk-item\"><div class=\"sk-estimator sk-toggleable\"><input class=\"sk-toggleable__control sk-hidden--visually\" id=\"sk-estimator-id-3\" type=\"checkbox\" checked><label for=\"sk-estimator-id-3\" class=\"sk-toggleable__label sk-toggleable__label-arrow\">LogisticRegression</label><div class=\"sk-toggleable__content\"><pre>LogisticRegression()</pre></div></div></div></div></div>"
      ],
      "text/plain": [
       "LogisticRegression()"
      ]
     },
     "execution_count": 29,
     "metadata": {},
     "output_type": "execute_result"
    }
   ],
   "source": [
    "lr.fit(X_train, y_train)"
   ]
  },
  {
   "cell_type": "code",
   "execution_count": null,
   "metadata": {
    "colab": {
     "base_uri": "https://localhost:8080/"
    },
    "id": "NfqW9uR9481f",
    "outputId": "aa984832-a2c9-40d1-af76-061b1c454199"
   },
   "outputs": [
    {
     "data": {
      "text/plain": [
       "array([0, 0, 2, 0, 1, 0, 1, 2, 1, 2, 1, 2, 0, 1, 0, 1, 1, 1, 0, 1, 0, 1,\n",
       "       1, 2, 2, 2, 1, 1, 1, 0, 0, 1, 2, 0, 0, 0, 2, 2, 1, 2, 0, 1, 1, 1,\n",
       "       2])"
      ]
     },
     "execution_count": 34,
     "metadata": {},
     "output_type": "execute_result"
    }
   ],
   "source": [
    "lr.predict(X_test)"
   ]
  },
  {
   "cell_type": "code",
   "execution_count": null,
   "metadata": {
    "colab": {
     "base_uri": "https://localhost:8080/"
    },
    "id": "DNUNJ6NLby5J",
    "outputId": "d6e7a480-a0d1-4905-8ea7-c91b7b30d84c"
   },
   "outputs": [
    {
     "data": {
      "text/plain": [
       "array([[9.73067203e-01, 1.30618394e-02, 1.38709577e-02],\n",
       "       [9.88784150e-01, 1.42686917e-03, 9.78898124e-03],\n",
       "       [4.84491458e-02, 2.30996350e-01, 7.20554504e-01],\n",
       "       [9.96850907e-01, 1.24762390e-03, 1.90146941e-03],\n",
       "       [6.37663483e-02, 9.07851033e-01, 2.83826184e-02],\n",
       "       [9.94127474e-01, 3.39607679e-04, 5.53291791e-03],\n",
       "       [1.40142983e-02, 9.85599014e-01, 3.86687685e-04],\n",
       "       [5.42638129e-03, 3.17422922e-04, 9.94256196e-01],\n",
       "       [4.43832047e-02, 9.55353350e-01, 2.63445592e-04],\n",
       "       [1.54139186e-01, 1.44733104e-02, 8.31387503e-01],\n",
       "       [4.85179105e-01, 5.12883085e-01, 1.93781048e-03],\n",
       "       [1.13324555e-04, 2.21974796e-04, 9.99664701e-01],\n",
       "       [9.92550072e-01, 3.63470078e-03, 3.81522680e-03],\n",
       "       [6.17146023e-02, 8.01472495e-01, 1.36812903e-01],\n",
       "       [9.93260767e-01, 1.14165281e-05, 6.72781652e-03],\n",
       "       [2.88609367e-04, 9.99626376e-01, 8.50151014e-05],\n",
       "       [1.75622046e-03, 9.97068558e-01, 1.17522175e-03],\n",
       "       [2.90945963e-03, 9.96773457e-01, 3.17083693e-04],\n",
       "       [9.92746820e-01, 2.61190245e-04, 6.99198978e-03],\n",
       "       [5.70025370e-04, 9.99210177e-01, 2.19797435e-04],\n",
       "       [9.99773105e-01, 1.38776522e-08, 2.26881588e-04],\n",
       "       [4.31622551e-01, 5.54804464e-01, 1.35729854e-02],\n",
       "       [2.94508122e-01, 5.82394224e-01, 1.23097654e-01],\n",
       "       [3.77597718e-04, 5.94586787e-05, 9.99562944e-01],\n",
       "       [9.47545134e-05, 2.88598812e-06, 9.99902359e-01],\n",
       "       [3.22739700e-04, 8.57759173e-06, 9.99668683e-01],\n",
       "       [4.61108585e-05, 9.99911257e-01, 4.26323372e-05],\n",
       "       [4.05870060e-01, 5.47171858e-01, 4.69580818e-02],\n",
       "       [1.00600929e-02, 9.87297797e-01, 2.64211005e-03],\n",
       "       [9.76975885e-01, 3.65921123e-03, 1.93649038e-02],\n",
       "       [9.94161793e-01, 4.45439285e-03, 1.38381431e-03],\n",
       "       [3.98274498e-05, 9.99940579e-01, 1.95932073e-05],\n",
       "       [2.48226545e-01, 9.59533376e-02, 6.55820117e-01],\n",
       "       [9.99263687e-01, 2.94606257e-06, 7.33366714e-04],\n",
       "       [9.99614491e-01, 2.05866535e-05, 3.64922796e-04],\n",
       "       [9.99226288e-01, 3.86548057e-04, 3.87164017e-04],\n",
       "       [6.35722102e-05, 3.36995355e-07, 9.99936091e-01],\n",
       "       [3.76790256e-03, 3.77841913e-02, 9.58447906e-01],\n",
       "       [3.62099533e-01, 6.34047884e-01, 3.85258316e-03],\n",
       "       [2.00113006e-04, 1.18610680e-06, 9.99798701e-01],\n",
       "       [9.88594009e-01, 1.00315231e-02, 1.37446827e-03],\n",
       "       [4.40019002e-04, 9.99399013e-01, 1.60967933e-04],\n",
       "       [2.67619179e-03, 9.96998717e-01, 3.25090790e-04],\n",
       "       [2.68774945e-01, 6.89808829e-01, 4.14162252e-02],\n",
       "       [8.25281804e-02, 1.55061399e-01, 7.62410421e-01]])"
      ]
     },
     "execution_count": 31,
     "metadata": {},
     "output_type": "execute_result"
    }
   ],
   "source": [
    "# вероятность принадлежности к тому или иному классу\n",
    "lr.predict_proba(X_test)"
   ]
  },
  {
   "cell_type": "code",
   "execution_count": null,
   "metadata": {
    "colab": {
     "base_uri": "https://localhost:8080/"
    },
    "id": "AeVlqtYzivPC",
    "outputId": "caa97413-b421-4f5b-caff-e75be99968f5"
   },
   "outputs": [
    {
     "data": {
      "text/plain": [
       "1.0"
      ]
     },
     "execution_count": 35,
     "metadata": {},
     "output_type": "execute_result"
    }
   ],
   "source": [
    "res = lr.predict_proba(X_test)\n",
    "sum(res[0])"
   ]
  },
  {
   "cell_type": "code",
   "execution_count": null,
   "metadata": {
    "colab": {
     "base_uri": "https://localhost:8080/"
    },
    "id": "qqFys9hT4_Eo",
    "outputId": "ba2c39ef-7216-4d9d-e95d-7fad97501b21"
   },
   "outputs": [
    {
     "data": {
      "text/plain": [
       "0.9777777777777777"
      ]
     },
     "execution_count": 36,
     "metadata": {},
     "output_type": "execute_result"
    }
   ],
   "source": [
    "accuracy_score(y_test, lr.predict(X_test))"
   ]
  },
  {
   "cell_type": "code",
   "execution_count": null,
   "metadata": {
    "colab": {
     "base_uri": "https://localhost:8080/"
    },
    "id": "1Ei0UlN55CZ_",
    "outputId": "c08a583c-ec3f-4d10-c41e-8031e2639cc2"
   },
   "outputs": [
    {
     "data": {
      "text/plain": [
       "array([[ 9.30887614e-04,  1.68583766e-01,  1.29250735e-01,\n",
       "        -2.50138694e-01, -2.52902076e-02,  1.96627900e-01,\n",
       "         4.02185949e-01, -8.90741392e-03,  4.83941705e-02,\n",
       "         2.10312085e-02, -3.95097306e-03,  2.43174764e-01,\n",
       "         7.10143352e-03],\n",
       "       [ 2.30359820e-01, -5.08681510e-01, -1.38185066e-01,\n",
       "         2.40687838e-01,  1.08032180e-02,  1.61483020e-01,\n",
       "         3.03340380e-01,  8.41679283e-03,  2.80627161e-01,\n",
       "        -1.09362358e+00,  1.88909992e-01,  3.79263989e-01,\n",
       "        -6.31940925e-03],\n",
       "       [-2.31290708e-01,  3.40097744e-01,  8.93433072e-03,\n",
       "         9.45085606e-03,  1.44869896e-02, -3.58110920e-01,\n",
       "        -7.05526328e-01,  4.90621087e-04, -3.29021332e-01,\n",
       "         1.07259237e+00, -1.84959018e-01, -6.22438753e-01,\n",
       "        -7.82024268e-04]])"
      ]
     },
     "execution_count": 37,
     "metadata": {},
     "output_type": "execute_result"
    }
   ],
   "source": [
    "lr.coef_"
   ]
  },
  {
   "cell_type": "markdown",
   "metadata": {
    "id": "UJefBk-e58kX"
   },
   "source": [
    "## Кластеризация"
   ]
  },
  {
   "cell_type": "code",
   "execution_count": null,
   "metadata": {
    "id": "ZK-UchxSXREG"
   },
   "outputs": [],
   "source": [
    "# генерируем искусвтенные данные для примера\n",
    "from sklearn.datasets import make_blobs"
   ]
  },
  {
   "cell_type": "code",
   "execution_count": null,
   "metadata": {
    "colab": {
     "base_uri": "https://localhost:8080/"
    },
    "id": "_NxdrQ7RXSF5",
    "outputId": "1123b824-b73d-4fd7-9159-a0ed58b11b6f"
   },
   "outputs": [
    {
     "data": {
      "text/plain": [
       "array([[-1.10614279e+00,  8.93228430e+00],\n",
       "       [ 1.55455249e+00,  4.67332157e+00],\n",
       "       [-9.50670073e-01,  9.69561393e+00],\n",
       "       [ 3.97742842e+00,  1.02186869e+01],\n",
       "       [-2.63106432e+00,  1.03190859e+00],\n",
       "       [-3.33569682e-01,  1.02931528e+01],\n",
       "       [ 4.12599779e+00,  1.37988255e+00],\n",
       "       [ 3.92218438e+00,  7.54489330e+00],\n",
       "       [ 2.87056506e-02,  5.17552943e+00],\n",
       "       [ 1.59266361e-01,  1.05540623e+01],\n",
       "       [ 1.51890196e+00,  1.30938316e+01],\n",
       "       [-6.53900658e-01,  7.44233728e+00],\n",
       "       [-2.34341825e+00,  6.58673706e+00],\n",
       "       [-4.03568188e-01,  8.82386973e+00],\n",
       "       [ 1.74607243e+00,  1.12265137e+01],\n",
       "       [ 5.84879473e-01,  1.23803641e+01],\n",
       "       [ 2.19989135e+00,  8.04170212e+00],\n",
       "       [-3.62443680e+00,  5.79026112e+00],\n",
       "       [-2.50322913e+00,  7.74308550e+00],\n",
       "       [-6.08221967e-01,  9.97443980e+00],\n",
       "       [-4.09216240e+00,  6.79479208e+00],\n",
       "       [ 1.39364531e+00,  1.15638402e+01],\n",
       "       [ 1.23275510e+00,  5.86388593e+00],\n",
       "       [ 7.59003042e-01,  3.43432017e+00],\n",
       "       [ 3.36167588e+00,  6.91167004e+00],\n",
       "       [ 2.91325505e+00,  1.15916416e+01],\n",
       "       [-3.88635722e+00,  7.27357577e+00],\n",
       "       [-1.62457120e+00,  8.77169767e+00],\n",
       "       [ 5.13392801e-01,  1.23169803e+01],\n",
       "       [-1.83821948e+00,  9.07291430e+00],\n",
       "       [-3.80955491e+00,  8.94393822e+00],\n",
       "       [-7.81591164e+00,  9.07310485e+00],\n",
       "       [-3.66121746e-01,  8.00076864e+00],\n",
       "       [-1.51409293e+00,  6.37789881e+00],\n",
       "       [-2.96415616e+00,  3.20714647e+00],\n",
       "       [-3.44998485e-02,  9.29373943e+00],\n",
       "       [ 2.52330207e+00,  8.92796227e+00],\n",
       "       [-9.00323504e-01,  7.04105820e+00],\n",
       "       [ 8.70675641e-01,  5.56095587e+00],\n",
       "       [-6.93140754e+00,  5.19877903e+00],\n",
       "       [ 6.10083347e+00,  1.10450538e+01],\n",
       "       [ 2.84792878e+00,  5.42974381e+00],\n",
       "       [-1.53010776e+00,  5.64808270e+00],\n",
       "       [-1.98473533e+00,  7.11144700e+00],\n",
       "       [-1.63529540e+00,  7.69762110e+00],\n",
       "       [-2.04261276e+00,  5.47875099e+00],\n",
       "       [ 1.72514130e+00,  9.56334191e+00],\n",
       "       [-2.08126998e+00,  6.30236885e+00],\n",
       "       [-1.24220928e-01,  3.64793000e+00],\n",
       "       [ 3.34528366e+00,  6.18810538e+00],\n",
       "       [-3.44440118e+00,  4.13033731e+00],\n",
       "       [ 9.65431526e-01,  1.00130225e+01],\n",
       "       [-2.54803000e+00,  1.20894831e+01],\n",
       "       [ 1.83370726e-01,  1.11109140e+01],\n",
       "       [ 5.29737177e-01,  7.88775287e+00],\n",
       "       [ 1.39347611e+00,  4.80250993e+00],\n",
       "       [-2.27092651e+00,  5.92375683e+00],\n",
       "       [ 7.54724466e+00,  1.25818495e+01],\n",
       "       [ 5.00739711e+00,  1.33732702e+01],\n",
       "       [-6.16249402e+00,  4.36634799e+00],\n",
       "       [ 3.92238828e+00,  1.12480417e+01],\n",
       "       [ 1.57766254e-01,  1.30022534e+01],\n",
       "       [ 2.36089978e+00,  7.29188611e+00],\n",
       "       [ 2.15222749e+00,  1.10617656e+01],\n",
       "       [ 2.70594799e+00,  7.10872180e+00],\n",
       "       [-1.24067049e+00,  1.19311281e+01],\n",
       "       [ 9.95599679e-01,  8.33010983e+00],\n",
       "       [-2.21787194e+00,  5.95229666e+00],\n",
       "       [-6.05409784e+00,  4.93351616e+00],\n",
       "       [-1.75582915e+00,  8.70735821e+00],\n",
       "       [-1.95670301e-01,  9.08066990e+00],\n",
       "       [ 1.85572741e+00,  7.16934329e+00],\n",
       "       [ 2.16790383e+00,  4.94409108e+00],\n",
       "       [-2.29564523e+00,  8.28506134e+00],\n",
       "       [-1.00476318e+00,  1.05491327e+01],\n",
       "       [-6.36962069e+00,  7.04236753e+00],\n",
       "       [-1.97381066e+00,  6.90631472e+00],\n",
       "       [ 2.19892341e+00,  8.39785265e+00],\n",
       "       [-5.78729820e+00,  6.73098425e+00],\n",
       "       [-1.04099659e+00,  3.92899503e+00],\n",
       "       [ 1.52716260e-01,  8.77120717e+00],\n",
       "       [-1.45887181e+00,  1.35625179e+01],\n",
       "       [ 3.00650176e+00,  9.26187311e+00],\n",
       "       [ 2.24073141e+00,  1.00094509e+01],\n",
       "       [-5.83357274e+00,  6.60557250e+00],\n",
       "       [-2.47498744e-01,  5.24054739e+00],\n",
       "       [-5.55993685e-01,  8.28270335e+00],\n",
       "       [-2.25238745e+00,  8.82278153e+00],\n",
       "       [-5.40379480e+00,  7.79132390e+00],\n",
       "       [ 2.81508181e-01,  6.88101144e+00],\n",
       "       [ 8.98186004e-01,  1.06427011e+01],\n",
       "       [-1.17735446e-01,  1.17618422e+01],\n",
       "       [-5.33810393e+00,  8.73700567e+00],\n",
       "       [-3.97517639e+00,  5.45290813e+00],\n",
       "       [-3.09371894e+00,  2.15609006e+00],\n",
       "       [-1.34523048e+00,  7.73008845e+00],\n",
       "       [ 4.35413737e+00,  9.33456538e+00],\n",
       "       [ 7.91995485e-01,  7.50209501e+00],\n",
       "       [ 5.12373079e+00,  1.05056322e+01],\n",
       "       [ 4.80929296e+00,  6.03256852e+00],\n",
       "       [ 8.47917334e-01,  6.16424840e+00],\n",
       "       [ 4.41875653e+00,  1.13815971e+01],\n",
       "       [-3.02335268e+00,  7.09860784e+00],\n",
       "       [-3.41181306e+00,  1.03119602e+01],\n",
       "       [ 5.67067286e-01,  1.02842751e+01],\n",
       "       [-1.40396506e+00,  9.77268312e+00],\n",
       "       [ 4.46060249e+00,  1.00635603e+01],\n",
       "       [-2.79421857e+00,  6.55213013e+00],\n",
       "       [ 3.51009289e+00,  1.18528841e+01],\n",
       "       [ 1.07346294e+00,  6.55577953e+00],\n",
       "       [-3.84302927e+00,  4.65563310e+00],\n",
       "       [-3.70035910e+00,  9.99732271e+00],\n",
       "       [-2.13391480e+00,  9.85085142e+00],\n",
       "       [ 6.27652398e-01,  5.62244842e+00],\n",
       "       [ 1.07343828e+00,  8.04656312e+00],\n",
       "       [ 5.09910607e+00,  9.89195115e+00],\n",
       "       [-3.47482198e+00,  1.17336986e+01],\n",
       "       [ 8.25452288e+00,  1.23055453e+01],\n",
       "       [ 2.27686808e+00,  5.26294544e+00],\n",
       "       [ 1.93544565e+00,  5.57404103e+00],\n",
       "       [-1.59911111e+00,  1.14204872e+01],\n",
       "       [-1.21558052e+00,  8.90933285e+00],\n",
       "       [ 3.31921892e-01,  4.08199380e+00],\n",
       "       [ 7.02665975e-01,  8.87275876e+00],\n",
       "       [-2.81190106e+00,  6.83174478e+00],\n",
       "       [ 4.58009737e-01,  7.05861403e+00],\n",
       "       [ 7.71627948e+00,  7.83022767e+00],\n",
       "       [-1.41607750e-01,  1.42877050e+01],\n",
       "       [ 2.62281603e+00,  6.39420037e+00],\n",
       "       [-3.03541587e+00,  3.55257173e+00],\n",
       "       [-7.59491046e+00,  8.95522487e+00],\n",
       "       [-1.49387906e-01,  5.86212379e+00],\n",
       "       [-4.34257940e+00,  9.76208499e+00],\n",
       "       [-6.85352022e-01,  5.09486696e+00],\n",
       "       [-1.16240776e+00,  1.03221986e+01],\n",
       "       [ 5.24346183e-01,  6.63679561e+00],\n",
       "       [ 6.27471363e+00,  7.56218365e+00],\n",
       "       [-5.43859170e+00,  8.11821143e+00],\n",
       "       [ 7.67735356e-01,  8.75051072e+00],\n",
       "       [-1.54259443e+00,  8.36101477e+00],\n",
       "       [-4.63160891e+00,  9.11177574e+00],\n",
       "       [ 5.43997990e-01,  6.56209164e+00],\n",
       "       [ 1.01151505e+00,  9.18971993e+00],\n",
       "       [ 3.40397685e+00,  1.32442836e+01],\n",
       "       [-8.35522944e-01,  1.08185755e+01],\n",
       "       [ 3.53567259e+00,  4.48643976e+00],\n",
       "       [-2.71737628e+00,  9.97996856e+00],\n",
       "       [-2.75614585e+00,  7.24085568e+00],\n",
       "       [-2.45093920e+00,  1.33781850e+01],\n",
       "       [ 5.35147666e+00,  9.21674050e+00],\n",
       "       [-1.26915355e+00,  1.05430680e+01],\n",
       "       [ 2.04638410e+00,  9.45272576e+00],\n",
       "       [ 1.46135462e+00,  1.28427205e+01],\n",
       "       [ 1.87503014e+00,  9.12363052e+00],\n",
       "       [ 7.68478300e-01,  7.75806462e+00],\n",
       "       [-3.41677261e-01,  9.58761729e+00],\n",
       "       [-2.24261155e+00,  1.07832911e+01],\n",
       "       [ 1.35940797e+00,  6.03961156e+00],\n",
       "       [-4.15366215e+00,  6.74977202e+00],\n",
       "       [ 1.52509443e+00,  9.22348969e+00],\n",
       "       [ 6.59679590e-03,  8.70675601e+00],\n",
       "       [ 8.26834846e-01,  7.99334751e+00],\n",
       "       [ 1.38542773e+00,  1.18271661e+01],\n",
       "       [ 9.01948538e-01,  1.14439722e+01],\n",
       "       [ 2.12699261e+00,  7.76085527e+00],\n",
       "       [-3.46838988e+00,  6.67288900e+00],\n",
       "       [-9.65610104e-01,  1.02967900e+01],\n",
       "       [-3.39491622e+00,  1.20308464e+01],\n",
       "       [-5.66291883e+00,  9.76244178e+00],\n",
       "       [-6.18195696e+00,  1.11736047e+01],\n",
       "       [-6.04774647e+00,  5.45065219e+00],\n",
       "       [-2.51926687e+00,  1.07795071e+01],\n",
       "       [ 4.70878556e+00,  1.10584833e+01],\n",
       "       [-3.49351853e+00,  8.18745281e+00],\n",
       "       [-1.31516245e+00,  8.72464681e+00],\n",
       "       [ 1.72161409e+00,  8.31111589e+00],\n",
       "       [ 6.50015440e+00,  6.21699665e+00],\n",
       "       [ 2.96569617e-01,  1.12973374e+01],\n",
       "       [ 7.09069149e+00,  1.40899376e+00],\n",
       "       [ 9.35168262e-02,  6.78568364e+00],\n",
       "       [ 1.57062450e-01,  5.31685626e+00],\n",
       "       [-3.79267472e+00,  1.09009609e+01],\n",
       "       [ 1.83270995e+00,  6.56131488e+00],\n",
       "       [-1.65559121e-01,  7.85334949e+00],\n",
       "       [ 2.76687423e+00,  9.53387768e+00],\n",
       "       [ 1.65536018e+00,  7.71957123e+00],\n",
       "       [-9.47637694e-01,  1.15047911e+01],\n",
       "       [ 4.10145464e+00,  1.37874934e+01],\n",
       "       [ 2.79888761e+00,  9.06923313e+00],\n",
       "       [ 3.84317247e-01,  1.17504497e+01],\n",
       "       [-2.47849925e+00,  1.05313160e+01],\n",
       "       [-2.21160255e+00,  1.15462094e+01],\n",
       "       [ 2.31042734e+00,  6.20068012e+00],\n",
       "       [-3.07523598e+00,  9.34260720e+00],\n",
       "       [-1.47358732e+00,  9.36881346e+00],\n",
       "       [-6.65780503e+00,  7.06729172e+00],\n",
       "       [ 1.08629138e-01,  1.11574967e+01],\n",
       "       [-2.58926061e+00,  8.12307491e+00],\n",
       "       [ 6.11306249e+00,  5.07858154e+00],\n",
       "       [ 1.29371149e+00,  9.36305188e+00]])"
      ]
     },
     "execution_count": 39,
     "metadata": {},
     "output_type": "execute_result"
    }
   ],
   "source": [
    "# 200 точек с 2 центрами, СКО - 2.5\n",
    "X, y = make_blobs(n_samples=200, centers=2, cluster_std=2.5)\n",
    "X"
   ]
  },
  {
   "cell_type": "code",
   "execution_count": null,
   "metadata": {
    "id": "VOk8lFxzhOKf"
   },
   "outputs": [],
   "source": [
    "help(make_blobs)"
   ]
  },
  {
   "cell_type": "code",
   "execution_count": null,
   "metadata": {
    "colab": {
     "base_uri": "https://localhost:8080/",
     "height": 485
    },
    "id": "TjSYaC57XUeq",
    "outputId": "d72f4567-d268-48e8-8e3a-0b6796ead800",
    "scrolled": true
   },
   "outputs": [
    {
     "name": "stderr",
     "output_type": "stream",
     "text": [
      "<ipython-input-40-b0b20f45da65>:1: UserWarning: No data for colormapping provided via 'c'. Parameters 'cmap' will be ignored\n",
      "  plt.scatter(x=X[:, 0], y=X[:, 1], cmap='autumn', s=60)\n"
     ]
    },
    {
     "data": {
      "text/plain": [
       "<matplotlib.collections.PathCollection at 0x7fca3d1d7610>"
      ]
     },
     "execution_count": 40,
     "metadata": {},
     "output_type": "execute_result"
    },
    {
     "data": {
      "image/png": "[encoded data removed]",
      "text/plain": [
       "<Figure size 640x480 with 1 Axes>"
      ]
     },
     "metadata": {},
     "output_type": "display_data"
    }
   ],
   "source": [
    "plt.scatter(x=X[:, 0], y=X[:, 1], cmap='autumn', s=60)"
   ]
  },
  {
   "cell_type": "code",
   "execution_count": null,
   "metadata": {
    "id": "bWdNYOIqzzO-"
   },
   "outputs": [],
   "source": [
    "# приведем данные к единому масштабу\n",
    "from sklearn.preprocessing import StandardScaler"
   ]
  },
  {
   "cell_type": "code",
   "execution_count": null,
   "metadata": {
    "id": "NzLJH0GBXGwQ"
   },
   "outputs": [],
   "source": [
    "scaler = StandardScaler()"
   ]
  },
  {
   "cell_type": "markdown",
   "metadata": {
    "id": "JcyHcWN-by5Q"
   },
   "source": [
    "В реальных задачах при разделении выборки на train и test нужно обучать StandardScaler только на тренировочных данных (и применять уже к тестовым данным).\n"
   ]
  },
  {
   "cell_type": "code",
   "execution_count": null,
   "metadata": {
    "id": "ZjwJ2Nbxby5Q"
   },
   "outputs": [],
   "source": [
    "v_1 = np.array(np.random.randint(0, 1000, 500))\n",
    "v_2 = np.array(np.random.randint(0, 10, 500))"
   ]
  },
  {
   "cell_type": "code",
   "execution_count": null,
   "metadata": {
    "colab": {
     "base_uri": "https://localhost:8080/"
    },
    "id": "ejb3KNymby5R",
    "outputId": "9cbdf100-a0eb-4dd7-db59-9acd97dda2b2"
   },
   "outputs": [
    {
     "name": "stdout",
     "output_type": "stream",
     "text": [
      "997\n",
      "1\n",
      "9\n",
      "0\n"
     ]
    }
   ],
   "source": [
    "print(v_1.max())\n",
    "print(v_1.min())\n",
    "\n",
    "print(v_2.max())\n",
    "print(v_2.min())"
   ]
  },
  {
   "cell_type": "code",
   "execution_count": null,
   "metadata": {
    "colab": {
     "base_uri": "https://localhost:8080/"
    },
    "id": "l6wzLVZ-by5R",
    "outputId": "1dd17a63-6e39-4d1e-aa47-b75485d8142c"
   },
   "outputs": [
    {
     "data": {
      "text/plain": [
       "array([[ 0.20043628],\n",
       "       [-1.52152488],\n",
       "       [-0.48834818],\n",
       "       [-1.52152488],\n",
       "       [-1.17713265],\n",
       "       [-0.14395595],\n",
       "       [-1.52152488],\n",
       "       [ 1.23361297],\n",
       "       [ 1.23361297],\n",
       "       [ 1.23361297],\n",
       "       [ 0.54482851],\n",
       "       [ 0.20043628],\n",
       "       [ 0.54482851],\n",
       "       [-0.48834818],\n",
       "       [ 0.54482851],\n",
       "       [-1.17713265],\n",
       "       [ 0.20043628],\n",
       "       [ 1.57800521],\n",
       "       [ 0.20043628],\n",
       "       [-0.83274042],\n",
       "       [ 0.54482851],\n",
       "       [-0.83274042],\n",
       "       [ 0.20043628],\n",
       "       [-0.83274042],\n",
       "       [-0.14395595],\n",
       "       [ 1.23361297],\n",
       "       [ 1.57800521],\n",
       "       [-0.48834818],\n",
       "       [-0.48834818],\n",
       "       [-1.52152488],\n",
       "       [-0.83274042],\n",
       "       [ 1.23361297],\n",
       "       [-0.14395595],\n",
       "       [-1.17713265],\n",
       "       [-1.17713265],\n",
       "       [ 0.20043628],\n",
       "       [ 0.88922074],\n",
       "       [-0.83274042],\n",
       "       [ 0.20043628],\n",
       "       [-1.52152488],\n",
       "       [ 0.88922074],\n",
       "       [ 0.20043628],\n",
       "       [-0.83274042],\n",
       "       [ 0.54482851],\n",
       "       [ 1.23361297],\n",
       "       [-0.83274042],\n",
       "       [-0.83274042],\n",
       "       [-0.83274042],\n",
       "       [-1.52152488],\n",
       "       [ 0.88922074],\n",
       "       [-0.48834818],\n",
       "       [ 1.57800521],\n",
       "       [-1.52152488],\n",
       "       [ 1.57800521],\n",
       "       [ 1.57800521],\n",
       "       [ 0.20043628],\n",
       "       [-1.17713265],\n",
       "       [ 0.54482851],\n",
       "       [-1.17713265],\n",
       "       [-1.52152488],\n",
       "       [-0.14395595],\n",
       "       [ 0.54482851],\n",
       "       [ 1.57800521],\n",
       "       [-0.83274042],\n",
       "       [-0.83274042],\n",
       "       [-1.17713265],\n",
       "       [ 0.54482851],\n",
       "       [ 0.88922074],\n",
       "       [-0.83274042],\n",
       "       [-0.83274042],\n",
       "       [-0.14395595],\n",
       "       [ 1.23361297],\n",
       "       [ 0.54482851],\n",
       "       [-0.14395595],\n",
       "       [ 0.20043628],\n",
       "       [-0.14395595],\n",
       "       [ 1.57800521],\n",
       "       [-0.83274042],\n",
       "       [ 0.54482851],\n",
       "       [-0.14395595],\n",
       "       [ 1.23361297],\n",
       "       [-1.52152488],\n",
       "       [-1.17713265],\n",
       "       [ 0.20043628],\n",
       "       [ 1.57800521],\n",
       "       [-0.14395595],\n",
       "       [ 1.23361297],\n",
       "       [-0.83274042],\n",
       "       [ 0.88922074],\n",
       "       [ 1.23361297],\n",
       "       [-0.83274042],\n",
       "       [ 0.88922074],\n",
       "       [-0.83274042],\n",
       "       [ 1.57800521],\n",
       "       [-0.14395595],\n",
       "       [-1.17713265],\n",
       "       [-1.52152488],\n",
       "       [-1.17713265],\n",
       "       [-0.14395595],\n",
       "       [-0.14395595],\n",
       "       [ 1.23361297],\n",
       "       [ 0.54482851],\n",
       "       [-1.17713265],\n",
       "       [ 1.23361297],\n",
       "       [-0.83274042],\n",
       "       [-1.17713265],\n",
       "       [-1.52152488],\n",
       "       [ 0.54482851],\n",
       "       [-0.14395595],\n",
       "       [-0.14395595],\n",
       "       [ 1.23361297],\n",
       "       [-1.52152488],\n",
       "       [ 0.54482851],\n",
       "       [-0.48834818],\n",
       "       [ 0.54482851],\n",
       "       [ 1.57800521],\n",
       "       [-0.14395595],\n",
       "       [-0.48834818],\n",
       "       [ 0.20043628],\n",
       "       [-0.83274042],\n",
       "       [ 0.54482851],\n",
       "       [ 0.88922074],\n",
       "       [-0.83274042],\n",
       "       [ 0.88922074],\n",
       "       [ 1.57800521],\n",
       "       [-1.52152488],\n",
       "       [-1.17713265],\n",
       "       [ 1.57800521],\n",
       "       [-0.48834818],\n",
       "       [-1.52152488],\n",
       "       [ 1.57800521],\n",
       "       [ 1.57800521],\n",
       "       [ 0.88922074],\n",
       "       [-0.83274042],\n",
       "       [ 0.88922074],\n",
       "       [ 0.20043628],\n",
       "       [ 0.20043628],\n",
       "       [ 1.23361297],\n",
       "       [-0.14395595],\n",
       "       [-0.48834818],\n",
       "       [ 1.57800521],\n",
       "       [-1.52152488],\n",
       "       [-0.14395595],\n",
       "       [-0.83274042],\n",
       "       [-1.52152488],\n",
       "       [-0.83274042],\n",
       "       [ 1.23361297],\n",
       "       [ 1.23361297],\n",
       "       [ 1.57800521],\n",
       "       [ 1.23361297],\n",
       "       [-1.17713265],\n",
       "       [ 1.57800521],\n",
       "       [-1.52152488],\n",
       "       [-0.14395595],\n",
       "       [-0.48834818],\n",
       "       [ 0.54482851],\n",
       "       [-1.52152488],\n",
       "       [ 1.23361297],\n",
       "       [-1.52152488],\n",
       "       [-0.48834818],\n",
       "       [-0.14395595],\n",
       "       [-0.48834818],\n",
       "       [-0.83274042],\n",
       "       [ 0.20043628],\n",
       "       [-0.14395595],\n",
       "       [ 0.88922074],\n",
       "       [ 0.54482851],\n",
       "       [-1.17713265],\n",
       "       [-1.17713265],\n",
       "       [-0.14395595],\n",
       "       [-0.83274042],\n",
       "       [ 0.20043628],\n",
       "       [-0.48834818],\n",
       "       [ 0.88922074],\n",
       "       [-1.52152488],\n",
       "       [ 1.23361297],\n",
       "       [ 1.23361297],\n",
       "       [-0.83274042],\n",
       "       [ 0.20043628],\n",
       "       [ 0.88922074],\n",
       "       [ 0.54482851],\n",
       "       [ 0.88922074],\n",
       "       [-0.83274042],\n",
       "       [ 1.57800521],\n",
       "       [ 0.54482851],\n",
       "       [ 0.88922074],\n",
       "       [ 0.20043628],\n",
       "       [-0.14395595],\n",
       "       [ 0.54482851],\n",
       "       [-0.48834818],\n",
       "       [ 1.57800521],\n",
       "       [ 1.23361297],\n",
       "       [ 0.54482851],\n",
       "       [-0.48834818],\n",
       "       [ 1.23361297],\n",
       "       [ 0.20043628],\n",
       "       [-1.52152488],\n",
       "       [-1.52152488],\n",
       "       [ 0.54482851],\n",
       "       [-1.52152488],\n",
       "       [ 1.23361297],\n",
       "       [ 1.23361297],\n",
       "       [ 1.57800521],\n",
       "       [ 1.57800521],\n",
       "       [ 0.20043628],\n",
       "       [-1.52152488],\n",
       "       [-1.52152488],\n",
       "       [ 1.23361297],\n",
       "       [-0.14395595],\n",
       "       [-1.52152488],\n",
       "       [ 0.20043628],\n",
       "       [ 1.23361297],\n",
       "       [-0.48834818],\n",
       "       [ 0.54482851],\n",
       "       [ 0.20043628],\n",
       "       [-0.48834818],\n",
       "       [-0.83274042],\n",
       "       [-1.52152488],\n",
       "       [-0.48834818],\n",
       "       [-1.52152488],\n",
       "       [-1.52152488],\n",
       "       [ 0.20043628],\n",
       "       [-0.83274042],\n",
       "       [-1.52152488],\n",
       "       [ 1.23361297],\n",
       "       [ 0.20043628],\n",
       "       [-0.83274042],\n",
       "       [ 1.23361297],\n",
       "       [-1.17713265],\n",
       "       [-0.83274042],\n",
       "       [ 1.57800521],\n",
       "       [-0.48834818],\n",
       "       [ 1.57800521],\n",
       "       [-0.83274042],\n",
       "       [ 0.88922074],\n",
       "       [ 0.88922074],\n",
       "       [-0.48834818],\n",
       "       [ 0.20043628],\n",
       "       [-1.52152488],\n",
       "       [-0.14395595],\n",
       "       [ 0.88922074],\n",
       "       [ 0.88922074],\n",
       "       [ 0.54482851],\n",
       "       [-1.52152488],\n",
       "       [ 1.57800521],\n",
       "       [-1.52152488],\n",
       "       [-1.17713265],\n",
       "       [-0.83274042],\n",
       "       [ 0.54482851],\n",
       "       [ 1.23361297],\n",
       "       [ 0.88922074],\n",
       "       [-1.17713265],\n",
       "       [ 0.88922074],\n",
       "       [-0.83274042],\n",
       "       [ 0.20043628],\n",
       "       [ 0.20043628],\n",
       "       [ 1.23361297],\n",
       "       [ 0.88922074],\n",
       "       [-1.52152488],\n",
       "       [-1.52152488],\n",
       "       [ 0.20043628],\n",
       "       [-1.52152488],\n",
       "       [-1.17713265],\n",
       "       [-0.48834818],\n",
       "       [ 1.57800521],\n",
       "       [-1.17713265],\n",
       "       [ 0.88922074],\n",
       "       [ 1.23361297],\n",
       "       [ 0.20043628],\n",
       "       [-0.83274042],\n",
       "       [-0.48834818],\n",
       "       [ 0.88922074],\n",
       "       [-0.14395595],\n",
       "       [ 0.88922074],\n",
       "       [-1.17713265],\n",
       "       [ 0.20043628],\n",
       "       [-0.48834818],\n",
       "       [-0.83274042],\n",
       "       [ 0.88922074],\n",
       "       [ 0.54482851],\n",
       "       [ 0.54482851],\n",
       "       [ 1.57800521],\n",
       "       [ 0.54482851],\n",
       "       [-0.48834818],\n",
       "       [ 0.20043628],\n",
       "       [ 0.88922074],\n",
       "       [ 0.54482851],\n",
       "       [-1.17713265],\n",
       "       [ 1.23361297],\n",
       "       [ 0.88922074],\n",
       "       [ 0.20043628],\n",
       "       [ 0.20043628],\n",
       "       [ 1.23361297],\n",
       "       [ 0.20043628],\n",
       "       [-0.83274042],\n",
       "       [ 0.88922074],\n",
       "       [-0.14395595],\n",
       "       [-1.17713265],\n",
       "       [-1.52152488],\n",
       "       [ 0.54482851],\n",
       "       [ 1.57800521],\n",
       "       [ 1.23361297],\n",
       "       [ 1.23361297],\n",
       "       [ 1.57800521],\n",
       "       [ 1.23361297],\n",
       "       [-0.48834818],\n",
       "       [-1.52152488],\n",
       "       [ 0.88922074],\n",
       "       [ 1.23361297],\n",
       "       [-0.14395595],\n",
       "       [-0.48834818],\n",
       "       [ 1.23361297],\n",
       "       [ 1.23361297],\n",
       "       [ 0.54482851],\n",
       "       [ 0.54482851],\n",
       "       [-0.14395595],\n",
       "       [-0.14395595],\n",
       "       [ 0.20043628],\n",
       "       [-1.17713265],\n",
       "       [-1.17713265],\n",
       "       [-0.48834818],\n",
       "       [-1.17713265],\n",
       "       [-0.83274042],\n",
       "       [-0.83274042],\n",
       "       [ 0.54482851],\n",
       "       [-0.83274042],\n",
       "       [-0.14395595],\n",
       "       [ 1.23361297],\n",
       "       [ 0.54482851],\n",
       "       [-1.17713265],\n",
       "       [ 1.57800521],\n",
       "       [-1.52152488],\n",
       "       [ 0.20043628],\n",
       "       [-0.14395595],\n",
       "       [-1.52152488],\n",
       "       [-1.17713265],\n",
       "       [ 1.23361297],\n",
       "       [-1.52152488],\n",
       "       [-1.17713265],\n",
       "       [-1.17713265],\n",
       "       [-1.17713265],\n",
       "       [-0.48834818],\n",
       "       [ 0.20043628],\n",
       "       [-1.52152488],\n",
       "       [ 0.88922074],\n",
       "       [-1.17713265],\n",
       "       [-0.48834818],\n",
       "       [-1.52152488],\n",
       "       [-1.52152488],\n",
       "       [-0.14395595],\n",
       "       [ 0.88922074],\n",
       "       [ 1.23361297],\n",
       "       [ 0.20043628],\n",
       "       [-0.14395595],\n",
       "       [ 1.23361297],\n",
       "       [ 0.20043628],\n",
       "       [-0.14395595],\n",
       "       [ 1.23361297],\n",
       "       [-0.14395595],\n",
       "       [ 0.54482851],\n",
       "       [ 1.57800521],\n",
       "       [-1.17713265],\n",
       "       [-0.14395595],\n",
       "       [-1.17713265],\n",
       "       [ 0.20043628],\n",
       "       [-1.17713265],\n",
       "       [-0.48834818],\n",
       "       [-0.48834818],\n",
       "       [ 1.57800521],\n",
       "       [ 1.57800521],\n",
       "       [-0.48834818],\n",
       "       [ 1.23361297],\n",
       "       [-0.14395595],\n",
       "       [ 0.20043628],\n",
       "       [-1.52152488],\n",
       "       [-0.14395595],\n",
       "       [-0.48834818],\n",
       "       [-1.17713265],\n",
       "       [-1.17713265],\n",
       "       [-1.17713265],\n",
       "       [ 0.88922074],\n",
       "       [ 1.57800521],\n",
       "       [-0.48834818],\n",
       "       [-0.83274042],\n",
       "       [-0.83274042],\n",
       "       [-0.83274042],\n",
       "       [-0.48834818],\n",
       "       [ 0.54482851],\n",
       "       [ 1.23361297],\n",
       "       [-1.52152488],\n",
       "       [-0.48834818],\n",
       "       [ 1.57800521],\n",
       "       [ 0.20043628],\n",
       "       [ 0.54482851],\n",
       "       [-1.52152488],\n",
       "       [-1.52152488],\n",
       "       [-1.52152488],\n",
       "       [-0.48834818],\n",
       "       [ 0.88922074],\n",
       "       [ 0.54482851],\n",
       "       [-0.83274042],\n",
       "       [ 1.23361297],\n",
       "       [ 0.54482851],\n",
       "       [ 0.20043628],\n",
       "       [ 1.23361297],\n",
       "       [ 1.23361297],\n",
       "       [-0.83274042],\n",
       "       [-1.17713265],\n",
       "       [-0.14395595],\n",
       "       [-1.17713265],\n",
       "       [ 1.23361297],\n",
       "       [ 0.20043628],\n",
       "       [ 1.23361297],\n",
       "       [-1.52152488],\n",
       "       [-0.48834818],\n",
       "       [-0.14395595],\n",
       "       [ 1.57800521],\n",
       "       [ 0.88922074],\n",
       "       [ 1.23361297],\n",
       "       [-1.17713265],\n",
       "       [ 0.88922074],\n",
       "       [ 0.20043628],\n",
       "       [-1.17713265],\n",
       "       [-1.17713265],\n",
       "       [ 1.57800521],\n",
       "       [-0.83274042],\n",
       "       [-1.17713265],\n",
       "       [ 0.20043628],\n",
       "       [ 0.20043628],\n",
       "       [ 1.57800521],\n",
       "       [ 1.57800521],\n",
       "       [ 0.88922074],\n",
       "       [ 0.88922074],\n",
       "       [ 0.54482851],\n",
       "       [ 0.54482851],\n",
       "       [-1.17713265],\n",
       "       [ 1.23361297],\n",
       "       [-0.48834818],\n",
       "       [ 0.54482851],\n",
       "       [-0.83274042],\n",
       "       [-0.48834818],\n",
       "       [-1.52152488],\n",
       "       [-0.14395595],\n",
       "       [-1.52152488],\n",
       "       [ 0.54482851],\n",
       "       [-0.14395595],\n",
       "       [ 0.88922074],\n",
       "       [ 1.23361297],\n",
       "       [ 1.57800521],\n",
       "       [-1.17713265],\n",
       "       [-1.52152488],\n",
       "       [ 0.88922074],\n",
       "       [-1.52152488],\n",
       "       [ 0.20043628],\n",
       "       [-0.83274042],\n",
       "       [-1.52152488],\n",
       "       [-1.17713265],\n",
       "       [-1.52152488],\n",
       "       [-0.14395595],\n",
       "       [-0.83274042],\n",
       "       [ 0.54482851],\n",
       "       [ 0.88922074],\n",
       "       [-0.83274042],\n",
       "       [-1.17713265],\n",
       "       [ 0.54482851],\n",
       "       [ 0.20043628],\n",
       "       [ 0.54482851],\n",
       "       [-0.14395595],\n",
       "       [ 0.20043628],\n",
       "       [ 1.57800521],\n",
       "       [ 1.57800521],\n",
       "       [-1.52152488],\n",
       "       [ 0.88922074],\n",
       "       [ 0.20043628],\n",
       "       [ 1.57800521],\n",
       "       [ 0.54482851],\n",
       "       [-0.14395595],\n",
       "       [ 1.23361297],\n",
       "       [-0.48834818],\n",
       "       [ 1.23361297],\n",
       "       [-0.83274042],\n",
       "       [ 1.57800521],\n",
       "       [ 0.54482851],\n",
       "       [-0.14395595],\n",
       "       [-1.52152488],\n",
       "       [ 1.57800521],\n",
       "       [ 0.20043628],\n",
       "       [ 1.57800521],\n",
       "       [ 0.20043628],\n",
       "       [ 0.20043628],\n",
       "       [ 1.23361297],\n",
       "       [-0.83274042],\n",
       "       [ 0.20043628],\n",
       "       [ 0.88922074],\n",
       "       [ 0.20043628],\n",
       "       [-0.14395595],\n",
       "       [-0.83274042],\n",
       "       [ 0.54482851],\n",
       "       [ 0.20043628],\n",
       "       [-0.83274042]])"
      ]
     },
     "execution_count": 47,
     "metadata": {},
     "output_type": "execute_result"
    }
   ],
   "source": [
    "v_1_scaled = scaler.fit_transform(v_1.reshape(-1, 1))\n",
    "v_1_scaled\n",
    "v_2_scaled = scaler.fit_transform(v_2.reshape(-1, 1))\n",
    "v_2_scaled"
   ]
  },
  {
   "cell_type": "code",
   "execution_count": null,
   "metadata": {
    "colab": {
     "base_uri": "https://localhost:8080/"
    },
    "id": "Q-TdaM01by5S",
    "outputId": "83576bad-fc03-4cdb-f633-abd85923416c"
   },
   "outputs": [
    {
     "name": "stdout",
     "output_type": "stream",
     "text": [
      "1.6263739503130383\n",
      "-1.7228559837137374\n",
      "1.5780052062095575\n",
      "-1.5215248801907084\n"
     ]
    }
   ],
   "source": [
    "print(v_1_scaled.max())\n",
    "print(v_1_scaled.min())\n",
    "\n",
    "print(v_2_scaled.max())\n",
    "print(v_2_scaled.min())"
   ]
  },
  {
   "cell_type": "code",
   "execution_count": null,
   "metadata": {
    "colab": {
     "base_uri": "https://localhost:8080/"
    },
    "id": "6UC4SNUdXIru",
    "outputId": "ce7e2f55-3fb0-4c0a-dafd-0ee9fed7821a"
   },
   "outputs": [
    {
     "data": {
      "text/plain": [
       "array([[-2.94111482e-01,  2.17894403e-01],\n",
       "       [ 5.54720818e-01, -1.41142815e+00],\n",
       "       [-2.44511565e-01,  5.09916256e-01],\n",
       "       [ 1.32768244e+00,  7.10024724e-01],\n",
       "       [-7.80601858e-01, -2.80449887e+00],\n",
       "       [-4.76401880e-02,  7.38512664e-01],\n",
       "       [ 1.37508001e+00, -2.67137683e+00],\n",
       "       [ 1.31005813e+00, -3.12870385e-01],\n",
       "       [ 6.79352425e-02, -1.21930189e+00],\n",
       "       [ 1.09587569e-01,  8.38327057e-01],\n",
       "       [ 5.43347352e-01,  1.80994941e+00],\n",
       "       [-1.49834258e-01, -3.52104545e-01],\n",
       "       [-6.88835139e-01, -6.79425732e-01],\n",
       "       [-6.99715664e-02,  1.76418973e-01],\n",
       "       [ 6.15820752e-01,  1.09558220e+00],\n",
       "       [ 2.45369429e-01,  1.53700295e+00],\n",
       "       [ 7.60601012e-01, -1.22809596e-01],\n",
       "       [-1.09751400e+00, -9.84128143e-01],\n",
       "       [-7.39819044e-01, -2.37049334e-01],\n",
       "       [-1.35261545e-01,  6.16584782e-01],\n",
       "       [-1.24673086e+00, -5.99831531e-01],\n",
       "       [ 5.03387161e-01,  1.22463094e+00],\n",
       "       [ 4.52058922e-01, -9.55961999e-01],\n",
       "       [ 3.00919462e-01, -1.88542453e+00],\n",
       "       [ 1.13124106e+00, -5.55118322e-01],\n",
       "       [ 9.88182935e-01,  1.23526674e+00],\n",
       "       [-1.18107356e+00, -4.16666494e-01],\n",
       "       [-4.59503883e-01,  1.56459863e-01],\n",
       "       [ 2.22563287e-01,  1.51275465e+00],\n",
       "       [-5.27663343e-01,  2.71694270e-01],\n",
       "       [-1.15657158e+00,  2.22352764e-01],\n",
       "       [-2.43470554e+00,  2.71767169e-01],\n",
       "       [-5.80251592e-02, -1.38469241e-01],\n",
       "       [-4.24258385e-01, -7.59319567e-01],\n",
       "       [-8.86866980e-01, -1.97233284e+00],\n",
       "       [ 4.77710135e-02,  3.56173846e-01],\n",
       "       [ 8.63777602e-01,  2.16240953e-01],\n",
       "       [-2.28449675e-01, -5.05619169e-01],\n",
       "       [ 3.36545980e-01, -1.07185190e+00],\n",
       "       [-2.15252529e+00, -1.21040745e+00],\n",
       "       [ 2.00510492e+00,  1.02616234e+00],\n",
       "       [ 9.67342124e-01, -1.12204881e+00],\n",
       "       [-4.29367540e-01, -1.03852038e+00],\n",
       "       [-5.74405783e-01, -4.78691002e-01],\n",
       "       [-4.62925186e-01, -2.54442343e-01],\n",
       "       [-5.92870216e-01, -1.10330047e+00],\n",
       "       [ 6.09143168e-01,  4.59313844e-01],\n",
       "       [-6.05202894e-01, -7.88214554e-01],\n",
       "       [ 1.91476117e-02, -1.80370527e+00],\n",
       "       [ 1.12601151e+00, -8.31927558e-01],\n",
       "       [-1.04007787e+00, -1.61915397e+00],\n",
       "       [ 3.66775619e-01,  6.31345122e-01],\n",
       "       [-7.54111709e-01,  1.42572257e+00],\n",
       "       [ 1.17277500e-01,  1.05135803e+00],\n",
       "       [ 2.27777576e-01, -1.81704919e-01],\n",
       "       [ 5.03333184e-01, -1.36200543e+00],\n",
       "       [-6.65708354e-01, -9.33057594e-01],\n",
       "       [ 2.46654841e+00,  1.61408385e+00],\n",
       "       [ 1.65626974e+00,  1.91685233e+00],\n",
       "       [-1.90722151e+00, -1.52886496e+00],\n",
       "       [ 1.31012318e+00,  1.10381805e+00],\n",
       "       [ 1.09108995e-01,  1.77491495e+00],\n",
       "       [ 8.11966968e-01, -4.09661631e-01],\n",
       "       [ 7.45394977e-01,  1.03255566e+00],\n",
       "       [ 9.22046490e-01, -4.79733562e-01],\n",
       "       [-3.37029384e-01,  1.36514178e+00],\n",
       "       [ 3.76400058e-01, -1.24754107e-02],\n",
       "       [-6.48782540e-01, -9.22139302e-01],\n",
       "       [-1.87264025e+00, -1.31188727e+00],\n",
       "       [-5.01378645e-01,  1.31845950e-01],\n",
       "       [-3.64663155e-03,  2.74661277e-01],\n",
       "       [ 6.50803597e-01, -4.56542011e-01],\n",
       "       [ 7.50396146e-01, -1.30784169e+00],\n",
       "       [-6.73594279e-01, -2.97093036e-02],\n",
       "       [-2.61768701e-01,  8.36441147e-01],\n",
       "       [-1.97330040e+00, -5.05118267e-01],\n",
       "       [-5.70920523e-01, -5.57167071e-01],\n",
       "       [ 7.60292214e-01,  1.34405014e-02],\n",
       "       [-1.78752410e+00, -6.24242061e-01],\n",
       "       [-2.73328118e-01, -1.69618012e+00],\n",
       "       [ 1.07497913e-01,  1.56272214e-01],\n",
       "       [-4.06641387e-01,  1.98925156e+00],\n",
       "       [ 1.01793111e+00,  3.43982966e-01],\n",
       "       [ 7.73630073e-01,  6.29978736e-01],\n",
       "       [-1.80228691e+00, -6.72219987e-01],\n",
       "       [-2.01812782e-02, -1.19442841e+00],\n",
       "       [-1.18599339e-01, -3.06113860e-02],\n",
       "       [-6.59793903e-01,  1.76002670e-01],\n",
       "       [-1.66517635e+00, -2.18595097e-01],\n",
       "       [ 1.48585949e-01, -5.66847176e-01],\n",
       "       [ 3.45322515e-01,  8.72236990e-01],\n",
       "       [ 2.12166524e-02,  1.30037923e+00],\n",
       "       [-1.64421922e+00,  1.43187978e-01],\n",
       "       [-1.20940922e+00, -1.11318699e+00],\n",
       "       [-9.28200939e-01, -2.37442837e+00],\n",
       "       [-3.70386791e-01, -2.42021529e-01],\n",
       "       [ 1.44786258e+00,  3.71792353e-01],\n",
       "       [ 3.11444925e-01, -3.29243435e-01],\n",
       "       [ 1.69338327e+00,  8.19799466e-01],\n",
       "       [ 1.59306927e+00, -8.91430242e-01],\n",
       "       [ 3.29285477e-01, -8.41054363e-01],\n",
       "       [ 1.46847780e+00,  1.15491144e+00],\n",
       "       [-9.05752240e-01, -4.83602791e-01],\n",
       "       [-1.02968139e+00,  7.45707671e-01],\n",
       "       [ 2.39686870e-01,  7.35116357e-01],\n",
       "       [-3.89124679e-01,  5.39400094e-01],\n",
       "       [ 1.48182777e+00,  6.50679012e-01],\n",
       "       [-8.32652385e-01, -6.92665074e-01],\n",
       "       [ 1.17859002e+00,  1.33520852e+00],\n",
       "       [ 4.01240502e-01, -6.91268945e-01],\n",
       "       [-1.16725079e+00, -1.41819511e+00],\n",
       "       [-1.12173523e+00,  6.25338941e-01],\n",
       "       [-6.21997988e-01,  5.69304412e-01],\n",
       "       [ 2.59015126e-01, -1.04832711e+00],\n",
       "       [ 4.01232635e-01, -1.20949956e-01],\n",
       "       [ 1.68552733e+00,  5.85027658e-01],\n",
       "       [-1.04978291e+00,  1.28961250e+00],\n",
       "       [ 2.69218891e+00,  1.50838004e+00],\n",
       "       [ 7.85158629e-01, -1.18585974e+00],\n",
       "       [ 6.76235828e-01, -1.06684600e+00],\n",
       "       [-4.51381439e-01,  1.16978934e+00],\n",
       "       [-3.29025018e-01,  2.09114022e-01],\n",
       "       [ 1.64669258e-01, -1.63764841e+00],\n",
       "       [ 2.82946445e-01,  1.95122119e-01],\n",
       "       [-8.38293569e-01, -5.85694789e-01],\n",
       "       [ 2.04894622e-01, -4.98902955e-01],\n",
       "       [ 2.52047500e+00, -2.03711943e-01],\n",
       "       [ 1.36007547e-02,  2.26668147e+00],\n",
       "       [ 8.95525192e-01, -7.53083193e-01],\n",
       "       [-9.09600716e-01, -1.84018583e+00],\n",
       "       [-2.36420031e+00,  2.26670623e-01],\n",
       "       [ 1.11186789e-02, -9.56636130e-01],\n",
       "       [-1.32662052e+00,  5.35345640e-01],\n",
       "       [-1.59868076e-01, -1.25016038e+00],\n",
       "       [-3.12061498e-01,  7.49624530e-01],\n",
       "       [ 2.26057706e-01, -6.60275171e-01],\n",
       "       [ 2.06057730e+00, -3.06255732e-01],\n",
       "       [-1.67627749e+00, -9.35399445e-02],\n",
       "       [ 3.03705302e-01,  1.48354516e-01],\n",
       "       [-4.33351120e-01, -6.52314541e-04],\n",
       "       [-1.41882859e+00,  2.86561228e-01],\n",
       "       [ 2.32327153e-01, -6.88854164e-01],\n",
       "       [ 3.81477483e-01,  3.16379810e-01],\n",
       "       [ 1.14473620e+00,  1.86750680e+00],\n",
       "       [-2.07776580e-01,  9.39520079e-01],\n",
       "       [ 1.18675062e+00, -1.48292226e+00],\n",
       "       [-8.08137659e-01,  6.18699882e-01],\n",
       "       [-8.20506181e-01, -4.29183999e-01],\n",
       "       [-7.23137172e-01,  1.91873257e+00],\n",
       "       [ 1.76604024e+00,  3.26716886e-01],\n",
       "       [-3.46116232e-01,  8.34121034e-01],\n",
       "       [ 7.11628132e-01,  4.16996169e-01],\n",
       "       [ 5.24988228e-01,  1.71388351e+00],\n",
       "       [ 6.56961678e-01,  2.91096432e-01],\n",
       "       [ 3.03942320e-01, -2.31318873e-01],\n",
       "       [-5.02267207e-02,  4.68600710e-01],\n",
       "       [-6.56675131e-01,  9.26021539e-01],\n",
       "       [ 4.92464542e-01, -8.88735832e-01],\n",
       "       [-1.26635091e+00, -6.17054551e-01],\n",
       "       [ 5.45322916e-01,  3.29298879e-01],\n",
       "       [ 6.08819321e-02,  1.31615572e-01],\n",
       "       [ 3.22559605e-01, -1.41308292e-01],\n",
       "       [ 5.00765537e-01,  1.32536976e+00],\n",
       "       [ 3.46522863e-01,  1.17877384e+00],\n",
       "       [ 7.37344384e-01, -2.30251275e-01],\n",
       "       [-1.04773090e+00, -6.46467167e-01],\n",
       "       [-2.49277831e-01,  7.39904118e-01],\n",
       "       [-1.02429085e+00,  1.40329035e+00],\n",
       "       [-1.74784379e+00,  5.35482135e-01],\n",
       "       [-1.91343070e+00,  1.07534117e+00],\n",
       "       [-1.87061400e+00, -1.11405003e+00],\n",
       "       [-7.44935507e-01,  9.24573938e-01],\n",
       "       [ 1.56100475e+00,  1.03129999e+00],\n",
       "       [-1.05574761e+00, -6.70507406e-02],\n",
       "       [-3.60794291e-01,  1.38459933e-01],\n",
       "       [ 6.08017894e-01, -1.97417906e-02],\n",
       "       [ 2.13249887e+00, -8.20874820e-01],\n",
       "       [ 1.53390946e-01,  1.12267676e+00],\n",
       "       [ 2.32089586e+00, -2.66023995e+00],\n",
       "       [ 8.86117250e-02, -6.03316087e-01],\n",
       "       [ 1.08884463e-01, -1.16523544e+00],\n",
       "       [-1.15118636e+00,  9.71037707e-01],\n",
       "       [ 6.43460418e-01, -6.89151323e-01],\n",
       "       [ 5.95963268e-03, -1.94866388e-01],\n",
       "       [ 9.41483577e-01,  4.48041913e-01],\n",
       "       [ 5.86881141e-01, -2.46045031e-01],\n",
       "       [-2.43544156e-01,  1.20204091e+00],\n",
       "       [ 1.36725009e+00,  2.07531891e+00],\n",
       "       [ 9.51696694e-01,  2.70285990e-01],\n",
       "       [ 1.81384765e-01,  1.29602087e+00],\n",
       "       [-7.31929557e-01,  8.29625151e-01],\n",
       "       [-6.46782438e-01,  1.21788605e+00],\n",
       "       [ 7.95864922e-01, -8.27116924e-01],\n",
       "       [-9.22304387e-01,  3.74868859e-01],\n",
       "       [-4.11336022e-01,  3.84894411e-01],\n",
       "       [-2.06523884e+00, -4.95583188e-01],\n",
       "       [ 9.34329529e-02,  1.06917884e+00],\n",
       "       [-7.67265365e-01, -9.16793585e-02],\n",
       "       [ 2.00900630e+00, -1.25639058e+00],\n",
       "       [ 4.71505627e-01,  3.82690241e-01]])"
      ]
     },
     "execution_count": 43,
     "metadata": {},
     "output_type": "execute_result"
    }
   ],
   "source": [
    "# fit-transform сразу обучается и преобразует данные\n",
    "X_scaled = scaler.fit_transform(X)\n",
    "X_scaled"
   ]
  },
  {
   "cell_type": "code",
   "execution_count": null,
   "metadata": {
    "colab": {
     "base_uri": "https://localhost:8080/",
     "height": 485
    },
    "id": "TRnNnC3kXbcr",
    "outputId": "60005006-92e0-4439-daaf-675ecc3887ec"
   },
   "outputs": [
    {
     "name": "stderr",
     "output_type": "stream",
     "text": [
      "<ipython-input-44-2db0c5f3ae5e>:1: UserWarning: No data for colormapping provided via 'c'. Parameters 'cmap' will be ignored\n",
      "  plt.scatter(X_scaled[:, 0], X_scaled[:, 1],cmap='autumn', s=60)\n"
     ]
    },
    {
     "data": {
      "text/plain": [
       "<matplotlib.collections.PathCollection at 0x7fca3d08f400>"
      ]
     },
     "execution_count": 44,
     "metadata": {},
     "output_type": "execute_result"
    },
    {
     "data": {
      "image/png": "[encoded data removed]",
      "text/plain": [
       "<Figure size 640x480 with 1 Axes>"
      ]
     },
     "metadata": {},
     "output_type": "display_data"
    }
   ],
   "source": [
    "plt.scatter(X_scaled[:, 0], X_scaled[:, 1],cmap='autumn', s=60)"
   ]
  },
  {
   "cell_type": "code",
   "execution_count": null,
   "metadata": {
    "id": "XftqUwUlYLIj"
   },
   "outputs": [],
   "source": [
    "from sklearn.cluster import KMeans"
   ]
  },
  {
   "cell_type": "code",
   "execution_count": null,
   "metadata": {
    "colab": {
     "base_uri": "https://localhost:8080/"
    },
    "id": "7PkhGAB-YN1C",
    "outputId": "26c98d07-8265-4f5d-e59f-44e8896256a2"
   },
   "outputs": [
    {
     "name": "stderr",
     "output_type": "stream",
     "text": [
      "/usr/local/lib/python3.10/dist-packages/sklearn/cluster/_kmeans.py:870: FutureWarning: The default value of `n_init` will change from 10 to 'auto' in 1.4. Set the value of `n_init` explicitly to suppress the warning\n",
      "  warnings.warn(\n"
     ]
    },
    {
     "data": {
      "text/plain": [
       "array([0, 2, 1, 1, 2, 1, 2, 2, 2, 1, 1, 0, 0, 1, 1, 1, 2, 0, 0, 1, 0, 1,\n",
       "       2, 2, 2, 1, 0, 0, 1, 0, 0, 0, 0, 0, 0, 1, 1, 0, 2, 0, 1, 2, 0, 0,\n",
       "       0, 0, 1, 0, 2, 2, 0, 1, 1, 1, 2, 2, 0, 1, 1, 0, 1, 1, 2, 1, 2, 1,\n",
       "       2, 0, 0, 0, 1, 2, 2, 0, 1, 0, 0, 2, 0, 2, 1, 1, 1, 1, 0, 2, 0, 0,\n",
       "       0, 2, 1, 1, 0, 0, 0, 0, 1, 2, 1, 2, 2, 1, 0, 0, 1, 1, 1, 0, 1, 2,\n",
       "       0, 0, 0, 2, 2, 1, 1, 1, 2, 2, 1, 0, 2, 1, 0, 2, 2, 1, 2, 0, 0, 2,\n",
       "       0, 2, 1, 2, 2, 0, 1, 0, 0, 2, 1, 1, 1, 2, 0, 0, 1, 1, 1, 1, 1, 1,\n",
       "       2, 1, 1, 2, 0, 1, 1, 2, 1, 1, 2, 0, 1, 1, 0, 0, 0, 1, 1, 0, 0, 2,\n",
       "       2, 1, 2, 2, 2, 0, 2, 2, 1, 2, 1, 1, 1, 1, 1, 1, 2, 0, 0, 0, 1, 0,\n",
       "       2, 1], dtype=int32)"
      ]
     },
     "execution_count": 50,
     "metadata": {},
     "output_type": "execute_result"
    }
   ],
   "source": [
    "# явно указываем количество кластеров\n",
    "kmeans = KMeans(n_clusters=3)\n",
    "# fit_predict обучается на данных и каждому объекту присваивает кластер\n",
    "clusters = kmeans.fit_predict(X_scaled)\n",
    "clusters"
   ]
  },
  {
   "cell_type": "code",
   "execution_count": null,
   "metadata": {
    "colab": {
     "base_uri": "https://localhost:8080/",
     "height": 448
    },
    "id": "EIhtpQU4YXiR",
    "outputId": "db5dcbf9-bfb2-4588-d87c-d14255b3b23a"
   },
   "outputs": [
    {
     "data": {
      "text/plain": [
       "<matplotlib.collections.PathCollection at 0x7fca43c68940>"
      ]
     },
     "execution_count": 51,
     "metadata": {},
     "output_type": "execute_result"
    },
    {
     "data": {
      "image/png": "[encoded data removed]",
      "text/plain": [
       "<Figure size 640x480 with 1 Axes>"
      ]
     },
     "metadata": {},
     "output_type": "display_data"
    }
   ],
   "source": [
    "plt.scatter(X_scaled[:, 0], X_scaled[:, 1], cmap='autumn', c=clusters, s=60)"
   ]
  },
  {
   "cell_type": "code",
   "execution_count": null,
   "metadata": {
    "colab": {
     "base_uri": "https://localhost:8080/"
    },
    "id": "JakzZ_1WYbgI",
    "outputId": "3c1d14d9-e159-4a0f-9899-f5cb05570fc6"
   },
   "outputs": [
    {
     "name": "stderr",
     "output_type": "stream",
     "text": [
      "/usr/local/lib/python3.10/dist-packages/sklearn/cluster/_kmeans.py:870: FutureWarning: The default value of `n_init` will change from 10 to 'auto' in 1.4. Set the value of `n_init` explicitly to suppress the warning\n",
      "  warnings.warn(\n",
      "/usr/local/lib/python3.10/dist-packages/sklearn/cluster/_kmeans.py:870: FutureWarning: The default value of `n_init` will change from 10 to 'auto' in 1.4. Set the value of `n_init` explicitly to suppress the warning\n",
      "  warnings.warn(\n",
      "/usr/local/lib/python3.10/dist-packages/sklearn/cluster/_kmeans.py:870: FutureWarning: The default value of `n_init` will change from 10 to 'auto' in 1.4. Set the value of `n_init` explicitly to suppress the warning\n",
      "  warnings.warn(\n",
      "/usr/local/lib/python3.10/dist-packages/sklearn/cluster/_kmeans.py:870: FutureWarning: The default value of `n_init` will change from 10 to 'auto' in 1.4. Set the value of `n_init` explicitly to suppress the warning\n",
      "  warnings.warn(\n",
      "/usr/local/lib/python3.10/dist-packages/sklearn/cluster/_kmeans.py:870: FutureWarning: The default value of `n_init` will change from 10 to 'auto' in 1.4. Set the value of `n_init` explicitly to suppress the warning\n",
      "  warnings.warn(\n",
      "/usr/local/lib/python3.10/dist-packages/sklearn/cluster/_kmeans.py:870: FutureWarning: The default value of `n_init` will change from 10 to 'auto' in 1.4. Set the value of `n_init` explicitly to suppress the warning\n",
      "  warnings.warn(\n",
      "/usr/local/lib/python3.10/dist-packages/sklearn/cluster/_kmeans.py:870: FutureWarning: The default value of `n_init` will change from 10 to 'auto' in 1.4. Set the value of `n_init` explicitly to suppress the warning\n",
      "  warnings.warn(\n",
      "/usr/local/lib/python3.10/dist-packages/sklearn/cluster/_kmeans.py:870: FutureWarning: The default value of `n_init` will change from 10 to 'auto' in 1.4. Set the value of `n_init` explicitly to suppress the warning\n",
      "  warnings.warn(\n",
      "/usr/local/lib/python3.10/dist-packages/sklearn/cluster/_kmeans.py:870: FutureWarning: The default value of `n_init` will change from 10 to 'auto' in 1.4. Set the value of `n_init` explicitly to suppress the warning\n",
      "  warnings.warn(\n",
      "/usr/local/lib/python3.10/dist-packages/sklearn/cluster/_kmeans.py:870: FutureWarning: The default value of `n_init` will change from 10 to 'auto' in 1.4. Set the value of `n_init` explicitly to suppress the warning\n",
      "  warnings.warn(\n",
      "/usr/local/lib/python3.10/dist-packages/sklearn/cluster/_kmeans.py:870: FutureWarning: The default value of `n_init` will change from 10 to 'auto' in 1.4. Set the value of `n_init` explicitly to suppress the warning\n",
      "  warnings.warn(\n",
      "/usr/local/lib/python3.10/dist-packages/sklearn/cluster/_kmeans.py:870: FutureWarning: The default value of `n_init` will change from 10 to 'auto' in 1.4. Set the value of `n_init` explicitly to suppress the warning\n",
      "  warnings.warn(\n",
      "/usr/local/lib/python3.10/dist-packages/sklearn/cluster/_kmeans.py:870: FutureWarning: The default value of `n_init` will change from 10 to 'auto' in 1.4. Set the value of `n_init` explicitly to suppress the warning\n",
      "  warnings.warn(\n",
      "/usr/local/lib/python3.10/dist-packages/sklearn/cluster/_kmeans.py:870: FutureWarning: The default value of `n_init` will change from 10 to 'auto' in 1.4. Set the value of `n_init` explicitly to suppress the warning\n",
      "  warnings.warn(\n",
      "/usr/local/lib/python3.10/dist-packages/sklearn/cluster/_kmeans.py:870: FutureWarning: The default value of `n_init` will change from 10 to 'auto' in 1.4. Set the value of `n_init` explicitly to suppress the warning\n",
      "  warnings.warn(\n",
      "/usr/local/lib/python3.10/dist-packages/sklearn/cluster/_kmeans.py:870: FutureWarning: The default value of `n_init` will change from 10 to 'auto' in 1.4. Set the value of `n_init` explicitly to suppress the warning\n",
      "  warnings.warn(\n",
      "/usr/local/lib/python3.10/dist-packages/sklearn/cluster/_kmeans.py:870: FutureWarning: The default value of `n_init` will change from 10 to 'auto' in 1.4. Set the value of `n_init` explicitly to suppress the warning\n",
      "  warnings.warn(\n",
      "/usr/local/lib/python3.10/dist-packages/sklearn/cluster/_kmeans.py:870: FutureWarning: The default value of `n_init` will change from 10 to 'auto' in 1.4. Set the value of `n_init` explicitly to suppress the warning\n",
      "  warnings.warn(\n",
      "/usr/local/lib/python3.10/dist-packages/sklearn/cluster/_kmeans.py:870: FutureWarning: The default value of `n_init` will change from 10 to 'auto' in 1.4. Set the value of `n_init` explicitly to suppress the warning\n",
      "  warnings.warn(\n"
     ]
    }
   ],
   "source": [
    "# строим график локтя\n",
    "\n",
    "# создаем список для инерции\n",
    "k_inertia = []\n",
    "# задаем диапазон кластеров\n",
    "ks = range(1, 20)\n",
    "\n",
    "for k in ks:\n",
    "    clf_kmeans = KMeans(n_clusters=k)\n",
    "    clf_kmeans.fit(X_scaled)\n",
    "    # добавляем инерцию каждой модели в список\n",
    "    k_inertia.append(clf_kmeans.inertia_)"
   ]
  },
  {
   "cell_type": "code",
   "execution_count": null,
   "metadata": {
    "colab": {
     "base_uri": "https://localhost:8080/",
     "height": 467
    },
    "id": "BL2K84DOYzQp",
    "outputId": "d4919b40-1387-4d1a-ef4e-5d1559a550e8"
   },
   "outputs": [
    {
     "data": {
      "text/plain": [
       "Text(0, 0.5, 'Инерция')"
      ]
     },
     "execution_count": 53,
     "metadata": {},
     "output_type": "execute_result"
    },
    {
     "data": {
      "image/png": "[encoded data removed]",
      "text/plain": [
       "<Figure size 640x480 with 1 Axes>"
      ]
     },
     "metadata": {},
     "output_type": "display_data"
    }
   ],
   "source": [
    "plt.plot(ks, k_inertia)\n",
    "plt.plot(ks, k_inertia ,'ro')\n",
    "plt.xlabel('Количество кластеров')\n",
    "plt.ylabel('Инерция')"
   ]
  },
  {
   "cell_type": "markdown",
   "metadata": {
    "id": "07VGmeIrby5U"
   },
   "source": [
    "Иерархическая кластеризация"
   ]
  },
  {
   "cell_type": "code",
   "execution_count": null,
   "metadata": {
    "id": "wGWt37snY1ak"
   },
   "outputs": [],
   "source": [
    "from scipy.spatial.distance import pdist\n",
    "from scipy.cluster import hierarchy"
   ]
  },
  {
   "cell_type": "code",
   "execution_count": null,
   "metadata": {
    "colab": {
     "base_uri": "https://localhost:8080/",
     "height": 748
    },
    "id": "UL2QOOH_Y8vL",
    "outputId": "9bd39d94-aca1-4d05-901a-2b397843f14e"
   },
   "outputs": [
    {
     "data": {
      "image/png": "[encoded data removed]",
      "text/plain": [
       "<Figure size 2000x900 with 1 Axes>"
      ]
     },
     "metadata": {},
     "output_type": "display_data"
    }
   ],
   "source": [
    "# строим дендрограмму\n",
    "distance_mat = pdist(X_scaled) # pdist посчитает нам матрицу попарных расстояний между точками\n",
    "# Z = hierarchy.linkage(distance_mat) # linkage — реализация агломеративного алгоритма\n",
    "Z = hierarchy.linkage(distance_mat, 'ward')\n",
    "plt.figure(figsize=(20, 9))\n",
    "dn = hierarchy.dendrogram(Z)"
   ]
  },
  {
   "cell_type": "code",
   "execution_count": null,
   "metadata": {
    "id": "K_0ejaBzZBIv"
   },
   "outputs": [],
   "source": [
    "# делаем уже кластеризацию по факту\n",
    "from sklearn.cluster import AgglomerativeClustering"
   ]
  },
  {
   "cell_type": "code",
   "execution_count": null,
   "metadata": {
    "colab": {
     "base_uri": "https://localhost:8080/"
    },
    "id": "wjEgXrmpZVrY",
    "outputId": "f44592d3-b845-4756-da83-88548f6289fa"
   },
   "outputs": [
    {
     "data": {
      "text/plain": [
       "array([1, 2, 0, 0, 1, 0, 2, 2, 2, 0, 0, 1, 1, 0, 0, 0, 0, 1, 1, 0, 1, 0,\n",
       "       2, 2, 2, 0, 1, 1, 0, 1, 0, 1, 1, 1, 1, 0, 0, 1, 2, 1, 0, 2, 1, 1,\n",
       "       1, 1, 0, 1, 2, 2, 1, 0, 0, 0, 0, 2, 1, 0, 0, 1, 0, 0, 2, 0, 2, 0,\n",
       "       0, 1, 1, 1, 0, 2, 2, 1, 0, 1, 1, 0, 1, 2, 0, 0, 0, 0, 1, 2, 1, 1,\n",
       "       1, 2, 0, 0, 1, 1, 1, 1, 0, 0, 0, 2, 2, 0, 1, 0, 0, 0, 0, 1, 0, 2,\n",
       "       1, 0, 0, 2, 0, 0, 0, 0, 2, 2, 0, 1, 2, 0, 1, 2, 2, 0, 2, 1, 1, 2,\n",
       "       0, 2, 0, 2, 2, 1, 0, 1, 0, 2, 0, 0, 0, 2, 0, 1, 0, 0, 0, 0, 0, 0,\n",
       "       0, 0, 0, 2, 1, 0, 0, 0, 0, 0, 0, 1, 0, 0, 0, 1, 1, 0, 0, 1, 1, 0,\n",
       "       2, 0, 2, 2, 2, 0, 2, 1, 0, 0, 0, 0, 0, 0, 0, 0, 2, 0, 0, 1, 0, 1,\n",
       "       2, 0])"
      ]
     },
     "execution_count": 59,
     "metadata": {},
     "output_type": "execute_result"
    }
   ],
   "source": [
    "aglo = AgglomerativeClustering(n_clusters=3)\n",
    "clusters = aglo.fit_predict(X_scaled)\n",
    "clusters"
   ]
  },
  {
   "cell_type": "code",
   "execution_count": null,
   "metadata": {
    "colab": {
     "base_uri": "https://localhost:8080/",
     "height": 448
    },
    "id": "Us0SDSD1ZtX7",
    "outputId": "639c3bca-a043-4db6-e580-d78f2255a3a6"
   },
   "outputs": [
    {
     "data": {
      "text/plain": [
       "<matplotlib.collections.PathCollection at 0x7fca3b5497e0>"
      ]
     },
     "execution_count": 60,
     "metadata": {},
     "output_type": "execute_result"
    },
    {
     "data": {
      "image/png": "[encoded data removed]",
      "text/plain": [
       "<Figure size 640x480 with 1 Axes>"
      ]
     },
     "metadata": {},
     "output_type": "display_data"
    }
   ],
   "source": [
    "plt.scatter(X_scaled[:, 0], X_scaled[:, 1],cmap='autumn', c=clusters, s=60)"
   ]
  },
  {
   "cell_type": "code",
   "execution_count": null,
   "metadata": {
    "colab": {
     "base_uri": "https://localhost:8080/",
     "height": 423
    },
    "id": "tPUIlJOaZv5J",
    "outputId": "161d5a7f-a22e-4506-9f14-b7e83a229f50"
   },
   "outputs": [
    {
     "data": {
      "text/html": [
       "\n",
       "  <div id=\"df-26a4c3af-2e38-48ef-bfe2-83e61a82aeaf\">\n",
       "    <div class=\"colab-df-container\">\n",
       "      <div>\n",
       "<style scoped>\n",
       "    .dataframe tbody tr th:only-of-type {\n",
       "        vertical-align: middle;\n",
       "    }\n",
       "\n",
       "    .dataframe tbody tr th {\n",
       "        vertical-align: top;\n",
       "    }\n",
       "\n",
       "    .dataframe thead th {\n",
       "        text-align: right;\n",
       "    }\n",
       "</style>\n",
       "<table border=\"1\" class=\"dataframe\">\n",
       "  <thead>\n",
       "    <tr style=\"text-align: right;\">\n",
       "      <th></th>\n",
       "      <th>0</th>\n",
       "      <th>1</th>\n",
       "      <th>y_hat</th>\n",
       "    </tr>\n",
       "  </thead>\n",
       "  <tbody>\n",
       "    <tr>\n",
       "      <th>0</th>\n",
       "      <td>-1.106143</td>\n",
       "      <td>8.932284</td>\n",
       "      <td>1</td>\n",
       "    </tr>\n",
       "    <tr>\n",
       "      <th>1</th>\n",
       "      <td>1.554552</td>\n",
       "      <td>4.673322</td>\n",
       "      <td>2</td>\n",
       "    </tr>\n",
       "    <tr>\n",
       "      <th>2</th>\n",
       "      <td>-0.950670</td>\n",
       "      <td>9.695614</td>\n",
       "      <td>0</td>\n",
       "    </tr>\n",
       "    <tr>\n",
       "      <th>3</th>\n",
       "      <td>3.977428</td>\n",
       "      <td>10.218687</td>\n",
       "      <td>0</td>\n",
       "    </tr>\n",
       "    <tr>\n",
       "      <th>4</th>\n",
       "      <td>-2.631064</td>\n",
       "      <td>1.031909</td>\n",
       "      <td>1</td>\n",
       "    </tr>\n",
       "    <tr>\n",
       "      <th>...</th>\n",
       "      <td>...</td>\n",
       "      <td>...</td>\n",
       "      <td>...</td>\n",
       "    </tr>\n",
       "    <tr>\n",
       "      <th>195</th>\n",
       "      <td>-6.657805</td>\n",
       "      <td>7.067292</td>\n",
       "      <td>1</td>\n",
       "    </tr>\n",
       "    <tr>\n",
       "      <th>196</th>\n",
       "      <td>0.108629</td>\n",
       "      <td>11.157497</td>\n",
       "      <td>0</td>\n",
       "    </tr>\n",
       "    <tr>\n",
       "      <th>197</th>\n",
       "      <td>-2.589261</td>\n",
       "      <td>8.123075</td>\n",
       "      <td>1</td>\n",
       "    </tr>\n",
       "    <tr>\n",
       "      <th>198</th>\n",
       "      <td>6.113062</td>\n",
       "      <td>5.078582</td>\n",
       "      <td>2</td>\n",
       "    </tr>\n",
       "    <tr>\n",
       "      <th>199</th>\n",
       "      <td>1.293711</td>\n",
       "      <td>9.363052</td>\n",
       "      <td>0</td>\n",
       "    </tr>\n",
       "  </tbody>\n",
       "</table>\n",
       "<p>200 rows × 3 columns</p>\n",
       "</div>\n",
       "      <button class=\"colab-df-convert\" onclick=\"convertToInteractive('df-26a4c3af-2e38-48ef-bfe2-83e61a82aeaf')\"\n",
       "              title=\"Convert this dataframe to an interactive table.\"\n",
       "              style=\"display:none;\">\n",
       "        \n",
       "  <svg xmlns=\"http://www.w3.org/2000/svg\" height=\"24px\"viewBox=\"0 0 24 24\"\n",
       "       width=\"24px\">\n",
       "    <path d=\"M0 0h24v24H0V0z\" fill=\"none\"/>\n",
       "    <path d=\"M18.56 5.44l.94 2.06.94-2.06 2.06-.94-2.06-.94-.94-2.06-.94 2.06-2.06.94zm-11 1L8.5 8.5l.94-2.06 2.06-.94-2.06-.94L8.5 2.5l-.94 2.06-2.06.94zm10 10l.94 2.06.94-2.06 2.06-.94-2.06-.94-.94-2.06-.94 2.06-2.06.94z\"/><path d=\"M17.41 7.96l-1.37-1.37c-.4-.4-.92-.59-1.43-.59-.52 0-1.04.2-1.43.59L10.3 9.45l-7.72 7.72c-.78.78-.78 2.05 0 2.83L4 21.41c.39.39.9.59 1.41.59.51 0 1.02-.2 1.41-.59l7.78-7.78 2.81-2.81c.8-.78.8-2.07 0-2.86zM5.41 20L4 18.59l7.72-7.72 1.47 1.35L5.41 20z\"/>\n",
       "  </svg>\n",
       "      </button>\n",
       "      \n",
       "  <style>\n",
       "    .colab-df-container {\n",
       "      display:flex;\n",
       "      flex-wrap:wrap;\n",
       "      gap: 12px;\n",
       "    }\n",
       "\n",
       "    .colab-df-convert {\n",
       "      background-color: #E8F0FE;\n",
       "      border: none;\n",
       "      border-radius: 50%;\n",
       "      cursor: pointer;\n",
       "      display: none;\n",
       "      fill: #1967D2;\n",
       "      height: 32px;\n",
       "      padding: 0 0 0 0;\n",
       "      width: 32px;\n",
       "    }\n",
       "\n",
       "    .colab-df-convert:hover {\n",
       "      background-color: #E2EBFA;\n",
       "      box-shadow: 0px 1px 2px rgba(60, 64, 67, 0.3), 0px 1px 3px 1px rgba(60, 64, 67, 0.15);\n",
       "      fill: #174EA6;\n",
       "    }\n",
       "\n",
       "    [theme=dark] .colab-df-convert {\n",
       "      background-color: #3B4455;\n",
       "      fill: #D2E3FC;\n",
       "    }\n",
       "\n",
       "    [theme=dark] .colab-df-convert:hover {\n",
       "      background-color: #434B5C;\n",
       "      box-shadow: 0px 1px 3px 1px rgba(0, 0, 0, 0.15);\n",
       "      filter: drop-shadow(0px 1px 2px rgba(0, 0, 0, 0.3));\n",
       "      fill: #FFFFFF;\n",
       "    }\n",
       "  </style>\n",
       "\n",
       "      <script>\n",
       "        const buttonEl =\n",
       "          document.querySelector('#df-26a4c3af-2e38-48ef-bfe2-83e61a82aeaf button.colab-df-convert');\n",
       "        buttonEl.style.display =\n",
       "          google.colab.kernel.accessAllowed ? 'block' : 'none';\n",
       "\n",
       "        async function convertToInteractive(key) {\n",
       "          const element = document.querySelector('#df-26a4c3af-2e38-48ef-bfe2-83e61a82aeaf');\n",
       "          const dataTable =\n",
       "            await google.colab.kernel.invokeFunction('convertToInteractive',\n",
       "                                                     [key], {});\n",
       "          if (!dataTable) return;\n",
       "\n",
       "          const docLinkHtml = 'Like what you see? Visit the ' +\n",
       "            '<a target=\"_blank\" href=https://colab.research.google.com/notebooks/data_table.ipynb>data table notebook</a>'\n",
       "            + ' to learn more about interactive tables.';\n",
       "          element.innerHTML = '';\n",
       "          dataTable['output_type'] = 'display_data';\n",
       "          await google.colab.output.renderOutput(dataTable, element);\n",
       "          const docLink = document.createElement('div');\n",
       "          docLink.innerHTML = docLinkHtml;\n",
       "          element.appendChild(docLink);\n",
       "        }\n",
       "      </script>\n",
       "    </div>\n",
       "  </div>\n",
       "  "
      ],
      "text/plain": [
       "            0          1  y_hat\n",
       "0   -1.106143   8.932284      1\n",
       "1    1.554552   4.673322      2\n",
       "2   -0.950670   9.695614      0\n",
       "3    3.977428  10.218687      0\n",
       "4   -2.631064   1.031909      1\n",
       "..        ...        ...    ...\n",
       "195 -6.657805   7.067292      1\n",
       "196  0.108629  11.157497      0\n",
       "197 -2.589261   8.123075      1\n",
       "198  6.113062   5.078582      2\n",
       "199  1.293711   9.363052      0\n",
       "\n",
       "[200 rows x 3 columns]"
      ]
     },
     "execution_count": 61,
     "metadata": {},
     "output_type": "execute_result"
    }
   ],
   "source": [
    "df = pd.DataFrame(X)\n",
    "df['y_hat'] = clusters\n",
    "df"
   ]
  },
  {
   "cell_type": "code",
   "execution_count": null,
   "metadata": {
    "id": "CBOo1CERby5W"
   },
   "outputs": [],
   "source": []
  }
 ],
 "metadata": {
  "colab": {
   "provenance": []
  },
  "kernelspec": {
   "display_name": "Python 3",
   "language": "python",
   "name": "python3"
  },
  "language_info": {
   "codemirror_mode": {
    "name": "ipython",
    "version": 3
   },
   "file_extension": ".py",
   "mimetype": "text/x-python",
   "name": "python",
   "nbconvert_exporter": "python",
   "pygments_lexer": "ipython3",
   "version": "3.8.8"
  }
 },
 "nbformat": 4,
 "nbformat_minor": 1
}
